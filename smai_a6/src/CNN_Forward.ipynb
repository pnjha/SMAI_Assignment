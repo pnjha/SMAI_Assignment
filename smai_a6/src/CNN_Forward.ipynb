{
 "cells": [
  {
   "cell_type": "code",
   "execution_count": 12,
   "metadata": {
    "ExecuteTime": {
     "end_time": "2019-04-12T18:13:53.199161Z",
     "start_time": "2019-04-12T18:13:53.196671Z"
    }
   },
   "outputs": [],
   "source": [
    "import skimage as ski\n",
    "import numpy as np\n",
    "import matplotlib.pyplot as plt\n",
    "import math\n",
    "import tensorflow as tf\n",
    "import random"
   ]
  },
  {
   "cell_type": "code",
   "execution_count": 13,
   "metadata": {
    "ExecuteTime": {
     "end_time": "2019-04-12T18:13:53.240470Z",
     "start_time": "2019-04-12T18:13:53.205459Z"
    },
    "code_folding": []
   },
   "outputs": [],
   "source": [
    "def generate__weight_matrix(size, scale = 1.0):\n",
    "\n",
    "    stddev = scale/np.sqrt(np.prod(size))\n",
    "    \n",
    "    return np.random.normal(loc = 0, scale = stddev, size = size)"
   ]
  },
  {
   "cell_type": "code",
   "execution_count": 14,
   "metadata": {
    "ExecuteTime": {
     "end_time": "2019-04-12T18:13:53.264561Z",
     "start_time": "2019-04-12T18:13:53.241754Z"
    },
    "code_folding": [
     0
    ]
   },
   "outputs": [],
   "source": [
    "def max_pooling(img ,f = 2 ,s = 2):\n",
    "   \n",
    "    channels, height_img, weight_img = img.shape\n",
    "    \n",
    "    h = int((height_img - f)/s)+1 \n",
    "    w = int((weight_img - f)/s)+1\n",
    "    \n",
    "    max_pool_output = np.zeros((channels, h, w)) \n",
    "    \n",
    "    for i in range(channels):\n",
    "        y = mpo_y = 0\n",
    "    \n",
    "        while y + f <= height_img:\n",
    "            x = out_x = 0\n",
    "    \n",
    "            while x + f <= weight_img:\n",
    "    \n",
    "                max_pool_output[i, mpo_y, out_x] = np.max(img[i, y:y+f, x:x+f])\n",
    "                x += s\n",
    "                out_x += 1\n",
    "    \n",
    "            y += s\n",
    "            mpo_y += 1\n",
    "    \n",
    "    return max_pool_output"
   ]
  },
  {
   "cell_type": "code",
   "execution_count": 15,
   "metadata": {
    "ExecuteTime": {
     "end_time": "2019-04-12T18:13:53.290016Z",
     "start_time": "2019-04-12T18:13:53.266217Z"
    },
    "code_folding": [
     0
    ]
   },
   "outputs": [],
   "source": [
    "def convolution(img, filters, bias, stride = 1,toprint = 0):\n",
    "    \n",
    "    if toprint == 1:\n",
    "        print(img.shape)\n",
    "        print(filt.shape)\n",
    "    \n",
    "    no_of_filters, filter_height, filter_width,filter_channel = filters.shape \n",
    "    img_height, img_width,img_channel = img.shape \n",
    "    \n",
    "    output_dim = int((img_height - filter_height)/stride)+1\n",
    "    \n",
    "    conv_out = np.zeros((no_of_filters,output_dim,output_dim))\n",
    "    \n",
    "\n",
    "    for filt in range(no_of_filters):\n",
    "        if toprint == 1:\n",
    "            print(\"#######################################\")\n",
    "            print(filt)\n",
    "        y = mpo_y = 0\n",
    "\n",
    "        while y + filter_height <= img_height:\n",
    "            x = out_x = 0\n",
    " \n",
    "            while x + filter_height <= img_height:\n",
    "\n",
    "                if toprint == 1:\n",
    "                    print(filters[filt].shape)\n",
    "                    print(img[y:y+filter_height, x:x+filter_height,:].shape)\n",
    "                    print(y,y+filter_height, x,x+filter_height)\n",
    "                    \n",
    "                conv_out[filt, mpo_y, out_x] = (np.sum(filters[filt] * img[y:y+filter_height, x:x+filter_height,:]) + bias[filt])/(filter_height**2)\n",
    "                x += stride\n",
    "                out_x += 1\n",
    "            \n",
    "            y += stride\n",
    "            mpo_y += 1\n",
    "        \n",
    "    return conv_out"
   ]
  },
  {
   "cell_type": "code",
   "execution_count": 16,
   "metadata": {
    "ExecuteTime": {
     "end_time": "2019-04-12T18:13:53.313227Z",
     "start_time": "2019-04-12T18:13:53.291877Z"
    },
    "code_folding": [
     0
    ]
   },
   "outputs": [],
   "source": [
    "def relu(cov_img):\n",
    "    \n",
    "    img_list = []\n",
    "    \n",
    "    for img in cov_img:\n",
    "        \n",
    "        img_list.append(np.maximum(img, 0))\n",
    "    \n",
    "    \n",
    "    img_list = np.asarray(img_list)\n",
    "    \n",
    "#     print(img_list.shape)\n",
    "    \n",
    "#     for img in img_list:\n",
    "        \n",
    "#         ski.io.imshow(img)\n",
    "#         ski.io.show()\n",
    "        \n",
    "    return img_list"
   ]
  },
  {
   "cell_type": "code",
   "execution_count": 17,
   "metadata": {
    "ExecuteTime": {
     "end_time": "2019-04-12T18:13:53.339381Z",
     "start_time": "2019-04-12T18:13:53.315190Z"
    },
    "code_folding": [
     0
    ]
   },
   "outputs": [],
   "source": [
    "def sigmoid(cov_img):\n",
    "    \n",
    "    img_list = []\n",
    "    \n",
    "    for img in cov_img:\n",
    "        \n",
    "        img_list.append(np.nan_to_num(1.0 / (1.0 + np.exp(-img))))\n",
    "    \n",
    "    \n",
    "    img_list = np.asarray(img_list)\n",
    "        \n",
    "    return img_list"
   ]
  },
  {
   "cell_type": "code",
   "execution_count": 18,
   "metadata": {
    "ExecuteTime": {
     "end_time": "2019-04-12T18:13:53.360825Z",
     "start_time": "2019-04-12T18:13:53.341412Z"
    },
    "code_folding": [
     0
    ]
   },
   "outputs": [],
   "source": [
    "def tanh(cov_img):\n",
    "    \n",
    "    img_list = []\n",
    "    \n",
    "    for img in cov_img:\n",
    "        \n",
    "        img_list.append(np.nan_to_num(2.0/(1.0 + np.exp(-(2*img))) - 1))\n",
    "    \n",
    "    \n",
    "    img_list = np.asarray(img_list)\n",
    "        \n",
    "    return img_list"
   ]
  },
  {
   "cell_type": "code",
   "execution_count": 19,
   "metadata": {
    "ExecuteTime": {
     "end_time": "2019-04-12T18:13:53.377291Z",
     "start_time": "2019-04-12T18:13:53.363422Z"
    },
    "code_folding": []
   },
   "outputs": [],
   "source": [
    "def draw_img(img_list):\n",
    "\n",
    "    for img in img_list:\n",
    "        \n",
    "        plt.imshow(img)\n",
    "        plt.show()\n"
   ]
  },
  {
   "cell_type": "code",
   "execution_count": 20,
   "metadata": {
    "ExecuteTime": {
     "end_time": "2019-04-12T18:13:53.393410Z",
     "start_time": "2019-04-12T18:13:53.379161Z"
    },
    "code_folding": []
   },
   "outputs": [],
   "source": [
    "def activation_function(arr,fuct):\n",
    "    \n",
    "    if fuct == \"relu\":\n",
    "        \n",
    "        return np.maximum(arr, 0)\n",
    "    \n",
    "    elif fuct == \"sigmoid\":\n",
    "        \n",
    "        return np.nan_to_num(1.0 / (1.0 + np.exp(-arr)))\n",
    "    \n",
    "    elif fuct == \"tanh\":\n",
    "        \n",
    "        return np.nan_to_num(2.0/(1.0 + np.exp(-(2*arr))) - 1)\n",
    "    \n",
    "    elif fuct == \"softmax\":\n",
    "        \n",
    "        e_x = np.exp(arr - np.max(arr))\n",
    "        \n",
    "        return e_x / e_x.sum(axis=0)"
   ]
  },
  {
   "cell_type": "code",
   "execution_count": 21,
   "metadata": {
    "ExecuteTime": {
     "end_time": "2019-04-12T18:13:53.455812Z",
     "start_time": "2019-04-12T18:13:53.395493Z"
    },
    "code_folding": []
   },
   "outputs": [],
   "source": [
    "def train(img):\n",
    "    \n",
    "    l1_f = generate__weight_matrix([6, 5, 5, 3])\n",
    "\n",
    "    l2_f = generate__weight_matrix([16, 5, 5, 6])\n",
    "    \n",
    "    l3_f = generate__weight_matrix([120, 5, 5, 16])\n",
    "\n",
    "    b1_c = generate__weight_matrix([6])\n",
    "    b2_c = generate__weight_matrix([16])\n",
    "    b3_c = generate__weight_matrix([120])\n",
    "        \n",
    "#     print(l1_f)\n",
    "#     print(l2_f)\n",
    "    \n",
    "    conv1 = convolution(img,l1_f,b1_c)\n",
    "#     print(img.shape)\n",
    "    print(conv1.shape)\n",
    "    \n",
    "#     draw_img(conv1)\n",
    "    print(\"############################################################################\")\n",
    "    \n",
    "    \n",
    "    relu1 = relu(conv1)\n",
    "#     draw_img(relu1)\n",
    "    print(relu1.shape)\n",
    "    print(\"############################################################################\")\n",
    "    \n",
    "#     relu1 = sigmoid(conv1)\n",
    "#     draw_img(relu1)\n",
    "    \n",
    "#     relu1 = tanh(conv1)\n",
    "#     draw_img(relu1)\n",
    "\n",
    "    max_pool1 = max_pooling(relu1).T\n",
    "    print(max_pool1.shape)\n",
    "#     draw_img(max_pool1.T)\n",
    "    print(\"############################################################################\")\n",
    "    \n",
    "    conv2 = convolution(max_pool1,l2_f,b2_c)\n",
    "    print(conv2.shape)\n",
    "#     draw_img(conv2)\n",
    "    print(\"############################################################################\")\n",
    "    \n",
    "    relu2 = relu(conv2)\n",
    "    print(relu2.shape)\n",
    "#     draw_img(relu2)\n",
    "    print(\"############################################################################\")\n",
    "\n",
    "    max_pool2 = max_pooling(relu2).T\n",
    "    print(max_pool2.shape)\n",
    "#     draw_img(max_pool2.T)\n",
    "    print(\"############################################################################\")\n",
    "\n",
    "    \n",
    "    conv3 = convolution(max_pool2,l3_f,b3_c)\n",
    "    print(conv3.shape)\n",
    "#     draw_img(conv3)\n",
    "    print(\"############################################################################\")\n",
    "    \n",
    "    nn_input = conv3.flatten()\n",
    "    print(nn_input.shape)\n",
    "\n",
    "    mean, sd = np.mean(nn_input), np.std(nn_input)\n",
    "    nn_input = (nn_input-mean)/sd\n",
    "\n",
    "    \n",
    "    outputNodes = 10\n",
    "    \n",
    "    \n",
    "    W1 = generate__weight_matrix([nn_input.shape[0],84])\n",
    "    W2 = generate__weight_matrix([84,10])\n",
    "    \n",
    "    b1 = generate__weight_matrix([84])\n",
    "    b2 = generate__weight_matrix([10])\n",
    "    \n",
    "    A_H1 = activation_function((np.dot(W1.T,nn_input) + b1),\"sigmoid\")\n",
    "    A_OUT = activation_function((np.dot(W2.T,A_H1) + b2),\"softmax\")\n",
    "    print(np.asmatrix(A_OUT).T)\n",
    "    print(\"Prediction: \",np.argmax(A_OUT))"
   ]
  },
  {
   "cell_type": "code",
   "execution_count": 22,
   "metadata": {
    "ExecuteTime": {
     "end_time": "2019-04-12T18:13:53.583363Z",
     "start_time": "2019-04-12T18:13:53.457908Z"
    },
    "scrolled": true
   },
   "outputs": [
    {
     "name": "stdout",
     "output_type": "stream",
     "text": [
      "(6, 28, 28)\n",
      "############################################################################\n",
      "(6, 28, 28)\n",
      "############################################################################\n",
      "(14, 14, 6)\n",
      "############################################################################\n",
      "(16, 10, 10)\n",
      "############################################################################\n",
      "(16, 10, 10)\n",
      "############################################################################\n",
      "(5, 5, 16)\n",
      "############################################################################\n",
      "(120, 1, 1)\n",
      "############################################################################\n",
      "(120,)\n",
      "[[0.09270989]\n",
      " [0.15174947]\n",
      " [0.07390006]\n",
      " [0.16907015]\n",
      " [0.09248922]\n",
      " [0.09661555]\n",
      " [0.06664278]\n",
      " [0.11173337]\n",
      " [0.07345948]\n",
      " [0.07163004]]\n",
      "Prediction:  3\n"
     ]
    }
   ],
   "source": [
    "img = ski.io.imread(\"2.jpeg\")\n",
    "train(img)"
   ]
  }
 ],
 "metadata": {
  "kernelspec": {
   "display_name": "Python 3",
   "language": "python",
   "name": "python3"
  },
  "language_info": {
   "codemirror_mode": {
    "name": "ipython",
    "version": 3
   },
   "file_extension": ".py",
   "mimetype": "text/x-python",
   "name": "python",
   "nbconvert_exporter": "python",
   "pygments_lexer": "ipython3",
   "version": "3.6.7"
  }
 },
 "nbformat": 4,
 "nbformat_minor": 2
}
