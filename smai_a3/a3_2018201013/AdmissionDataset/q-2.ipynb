{
 "cells": [
  {
   "cell_type": "markdown",
   "metadata": {},
   "source": [
    "# Logistic Regression Implementation"
   ]
  },
  {
   "cell_type": "markdown",
   "metadata": {},
   "source": [
    "## Import Packages"
   ]
  },
  {
   "cell_type": "code",
   "execution_count": 8,
   "metadata": {
    "ExecuteTime": {
     "end_time": "2019-02-17T11:50:12.768038Z",
     "start_time": "2019-02-17T11:50:11.611261Z"
    }
   },
   "outputs": [],
   "source": [
    "import subprocess, sys\n",
    "import numpy as np\n",
    "import pandas as pd\n",
    "import ssl\n",
    "import math\n",
    "import matplotlib.pyplot as plt\n",
    "import seaborn as sns\n",
    "from sklearn.model_selection import train_test_split\n",
    "import heapq\n",
    "import itertools\n",
    "import random\n",
    "import copy\n",
    "from statistics import mean , stdev\n",
    "from pprint import pprint\n",
    "from sklearn import datasets \n",
    "from sklearn.metrics import confusion_matrix \n",
    "from sklearn.model_selection import train_test_split \n",
    "from sklearn.neighbors import KNeighborsClassifier"
   ]
  },
  {
   "cell_type": "markdown",
   "metadata": {},
   "source": [
    "## Mean Normalization of Train Data"
   ]
  },
  {
   "cell_type": "code",
   "execution_count": 9,
   "metadata": {
    "ExecuteTime": {
     "end_time": "2019-02-17T11:50:12.773725Z",
     "start_time": "2019-02-17T11:50:12.769208Z"
    }
   },
   "outputs": [],
   "source": [
    "def feature_scaling(train_data):\n",
    "    \n",
    "    no_of_columns = train_data.shape[1]\n",
    "    \n",
    "    sd_mean_list = []\n",
    "    \n",
    "    for index in range(no_of_columns):\n",
    "\n",
    "        sd_val = np.std(train_data[:,index])\n",
    "        mean_val = np.mean(train_data[:,index])\n",
    "        train_data[:,index] = (train_data[:,index] - mean_val)/(sd_val)\n",
    "        \n",
    "        sd_mean_list.append([sd_val,mean_val])\n",
    "        \n",
    "    return sd_mean_list, train_data"
   ]
  },
  {
   "cell_type": "markdown",
   "metadata": {},
   "source": [
    "## Mean Normalization of Test Data"
   ]
  },
  {
   "cell_type": "code",
   "execution_count": 10,
   "metadata": {
    "ExecuteTime": {
     "end_time": "2019-02-17T11:50:12.841779Z",
     "start_time": "2019-02-17T11:50:12.775078Z"
    }
   },
   "outputs": [],
   "source": [
    "def scale_test_data(X_test,sd_mean_list):\n",
    "    \n",
    "    for test_row in X_test:\n",
    "        \n",
    "        for index in range(len(test_row)):\n",
    "\n",
    "            mean = sd_mean_list[index][1]\n",
    "            sd = sd_mean_list[index][0]\n",
    "\n",
    "            test_row[index] = (test_row[index] - mean)/sd\n",
    "\n",
    "    return X_test"
   ]
  },
  {
   "cell_type": "markdown",
   "metadata": {},
   "source": [
    "## Data Preprocessing"
   ]
  },
  {
   "cell_type": "code",
   "execution_count": 11,
   "metadata": {
    "ExecuteTime": {
     "end_time": "2019-02-17T11:50:12.863839Z",
     "start_time": "2019-02-17T11:50:12.844659Z"
    }
   },
   "outputs": [],
   "source": [
    "def data_preprocessing():\n",
    "    \n",
    "    \n",
    "    df = pd.read_csv(\"admission_data.csv\")\n",
    "    \n",
    "    df = df.drop([\"Serial No.\"], axis = 1)\n",
    "    \n",
    "    length = df.values.shape[0]\n",
    "\n",
    "    cols = df.columns.tolist()\n",
    "    cols = ['GRE Score', 'TOEFL Score', 'University Rating', 'SOP', 'LOR ', 'CGPA', 'Research', 'Chance of Admit ']\n",
    "    df = df[cols]\n",
    "    \n",
    "    X = df.iloc[:,0:-1]\n",
    "    Y = df.iloc[:,-1]\n",
    "    \n",
    "\n",
    "    X_train, X_test, Y_train, Y_test = train_test_split(X, Y, test_size = 0.2, random_state = 0)\n",
    "    \n",
    "    Y_train = pd.DataFrame(Y_train)\n",
    "    Y_train = Y_train.values\n",
    "    \n",
    "    Y_test = pd.DataFrame(Y_test)\n",
    "    Y_test = Y_test.values\n",
    "    \n",
    "    sd_mean_list, X_train = feature_scaling(X_train.values)\n",
    "    \n",
    "    X_test = X_test.values\n",
    "\n",
    "\n",
    "    return sd_mean_list, X_train, X_test, Y_train, Y_test \n"
   ]
  },
  {
   "cell_type": "markdown",
   "metadata": {},
   "source": [
    "## Draw Confusion Matrix"
   ]
  },
  {
   "cell_type": "code",
   "execution_count": 12,
   "metadata": {
    "ExecuteTime": {
     "end_time": "2019-02-17T11:50:12.896119Z",
     "start_time": "2019-02-17T11:50:12.865496Z"
    }
   },
   "outputs": [],
   "source": [
    "def print_confusion_matrix(Y_predicted,Y_test):\n",
    "    \n",
    "    #to count true positive\n",
    "    count_TP = 0\n",
    "    \n",
    "    #to count false positive\n",
    "    count_FP = 0\n",
    "    \n",
    "    #to count false negative\n",
    "    count_FN = 0\n",
    "    \n",
    "    #to count true negative\n",
    "    count_TN = 0\n",
    "    \n",
    "    for predicted,actual in np.c_[Y_predicted,Y_test]:\n",
    "        if predicted == actual and actual == 1:\n",
    "            count_TP += 1\n",
    "        elif predicted == actual and actual == 0:\n",
    "            count_TN += 1    \n",
    "        elif predicted == 1 and actual == 0:\n",
    "            count_FP += 1\n",
    "        elif predicted == 0 and actual == 1:    \n",
    "            count_FN += 1\n",
    "            \n",
    "    print(\"True Positive: \", count_TP)\n",
    "    print(\"True Negative: \", count_TN)\n",
    "    print(\"False Positive: \", count_FP)\n",
    "    print(\"False Negative: \", count_FN)"
   ]
  },
  {
   "cell_type": "markdown",
   "metadata": {},
   "source": [
    "## Calculate F1 Score"
   ]
  },
  {
   "cell_type": "code",
   "execution_count": 13,
   "metadata": {
    "ExecuteTime": {
     "end_time": "2019-02-17T11:50:12.921477Z",
     "start_time": "2019-02-17T11:50:12.897545Z"
    }
   },
   "outputs": [],
   "source": [
    "def calculate_f1_score(Y_predicted,Y_test):\n",
    "    \n",
    "    precision = calculate_precision(Y_predicted,Y_test)\n",
    "    recall = calculate_recall(Y_predicted,Y_test)\n",
    "    \n",
    "    #If recall and precision is both 0 then f1 score is undefined\n",
    "    if precision == 0 or recall == 0:\n",
    "        return 0\n",
    "    \n",
    "    #calculate f1 score\n",
    "    f1_score = 2*((precision*recall)/(precision+recall))\n",
    "\n",
    "    return f1_score"
   ]
  },
  {
   "cell_type": "markdown",
   "metadata": {},
   "source": [
    "## Calculate Accuracy"
   ]
  },
  {
   "cell_type": "code",
   "execution_count": 14,
   "metadata": {
    "ExecuteTime": {
     "end_time": "2019-02-17T11:50:12.944960Z",
     "start_time": "2019-02-17T11:50:12.923816Z"
    }
   },
   "outputs": [],
   "source": [
    "def calculate_accuracy(Y_predicted,Y_test):\n",
    "    accuracy = (Y_predicted==Y_test).mean()\n",
    "    \n",
    "    return accuracy"
   ]
  },
  {
   "cell_type": "markdown",
   "metadata": {},
   "source": [
    "## Calculate Precision"
   ]
  },
  {
   "cell_type": "code",
   "execution_count": 15,
   "metadata": {
    "ExecuteTime": {
     "end_time": "2019-02-17T11:50:12.967848Z",
     "start_time": "2019-02-17T11:50:12.947693Z"
    }
   },
   "outputs": [],
   "source": [
    "def calculate_precision(Y_predicted,Y_test):\n",
    "\n",
    "    #to count true positive\n",
    "    count_TP = 0\n",
    "    \n",
    "    #to count false positive\n",
    "    count_FP = 0\n",
    "    \n",
    "    for predicted,actual in np.c_[Y_predicted,Y_test]:\n",
    "        if predicted == actual and actual == 1:\n",
    "            count_TP += 1    \n",
    "        elif predicted == 1 and actual == 0:\n",
    "            count_FP += 1\n",
    "    \n",
    "    #To check whether precision is defined or not. If not then return 0\n",
    "    if count_TP == 0 and count_FP == 0 :\n",
    "        return 0\n",
    "    \n",
    "    precision = (count_TP)/(count_TP + count_FP)\n",
    "    \n",
    "    return precision     "
   ]
  },
  {
   "cell_type": "markdown",
   "metadata": {},
   "source": [
    "## Calculate Recall "
   ]
  },
  {
   "cell_type": "code",
   "execution_count": 16,
   "metadata": {
    "ExecuteTime": {
     "end_time": "2019-02-17T11:50:12.992013Z",
     "start_time": "2019-02-17T11:50:12.969287Z"
    }
   },
   "outputs": [],
   "source": [
    "def calculate_recall(Y_predicted,Y_test):\n",
    "    \n",
    "    #to count true positive\n",
    "    count_TP = 0\n",
    "    \n",
    "    #to count false negative\n",
    "    count_FN = 0\n",
    "    \n",
    "    for predicted,actual in np.c_[Y_predicted,Y_test]:\n",
    "        if predicted == actual and actual == 1:\n",
    "            count_TP += 1\n",
    "        elif predicted == 0 and actual == 1:    \n",
    "            count_FN += 1\n",
    "    \n",
    "    #To check whether precision is defined or not. If not then return 0\n",
    "    if count_TP == 0 and count_FN == 0 :\n",
    "        return 0\n",
    "    \n",
    "    recall = (count_TP)/(count_TP + count_FN)\n",
    "    \n",
    "    return recall "
   ]
  },
  {
   "cell_type": "markdown",
   "metadata": {},
   "source": [
    "## Calculate Specificity"
   ]
  },
  {
   "cell_type": "code",
   "execution_count": 17,
   "metadata": {
    "ExecuteTime": {
     "end_time": "2019-02-17T11:50:13.020175Z",
     "start_time": "2019-02-17T11:50:12.993444Z"
    }
   },
   "outputs": [],
   "source": [
    "def calculate_specifity(Y_predicted,Y_test):\n",
    "    #to count true positive\n",
    "    count_TN = 0\n",
    "    \n",
    "    #to count false negative\n",
    "    count_FN = 0\n",
    "    \n",
    "    for predicted,actual in np.c_[Y_predicted,Y_test]:\n",
    "        if predicted == actual and actual == 0:\n",
    "            count_TN += 1\n",
    "        elif predicted == 0 and actual == 1:    \n",
    "            count_FN += 1\n",
    "    \n",
    "    #To check whether precision is defined or not. If not then return 0\n",
    "    if count_TN == 0 and count_FN == 0 :\n",
    "        return 0\n",
    "    \n",
    "    specificity = (count_TN)/(count_TN + count_FN)\n",
    "    \n",
    "    return specificity"
   ]
  },
  {
   "cell_type": "markdown",
   "metadata": {},
   "source": [
    "## Implementation of Logistic Regression Model"
   ]
  },
  {
   "cell_type": "code",
   "execution_count": 18,
   "metadata": {
    "ExecuteTime": {
     "end_time": "2019-02-17T11:50:13.061306Z",
     "start_time": "2019-02-17T11:50:13.024145Z"
    }
   },
   "outputs": [],
   "source": [
    "class Logistic_regression_model:\n",
    "\n",
    "    def __init__(self, learning_rate, iterations):\n",
    "        self.learning_rate = learning_rate\n",
    "        self.iterations = iterations\n",
    "    \n",
    "    \n",
    "    def calculate_sigmoid(self, exponent):\n",
    "        return 1/(1 + np.exp(-exponent))\n",
    "\n",
    "    def logistic_loss_function(self,y_predicted, y_actual):\n",
    "        return (-y_actual*np.log(y_predicted) - (1-y_actual) * np.log(1 - y_predicted)).mean()\n",
    "    \n",
    "\n",
    "    def concatenate_bias_column(self, data):\n",
    "        constants = np.ones((data.shape[0], 1))\n",
    "        return np.concatenate((constants, data), axis=1)\n",
    "\n",
    "\n",
    "\n",
    "    def fit(self, train_data, y_actual):\n",
    "\n",
    "        \n",
    "        self.loss_value = []\n",
    "        self.iteration = []\n",
    "\n",
    "        train_data = self.concatenate_bias_column(train_data)\n",
    "        \n",
    "        self.parameters = np.zeros(train_data.shape[1])\n",
    "        \n",
    "\n",
    "        for index in range(self.iterations):\n",
    "            \n",
    "            y_inter = np.dot(train_data, self.parameters)\n",
    "            \n",
    "            y_predicted = self.calculate_sigmoid(y_inter)\n",
    "            y_predicted = pd.DataFrame(y_predicted)\n",
    "            y_predicted = y_predicted.values\n",
    "\n",
    "            gradient = np.dot(train_data.T, (y_predicted - y_actual)) / y_actual.size\n",
    "            \n",
    "            self.parameters = pd.DataFrame(self.parameters)\n",
    "            self.parameters = self.parameters.values\n",
    "\n",
    "            self.parameters = self.parameters - self.learning_rate * gradient\n",
    "            \n",
    "\n",
    "            if(index%10 == 0 and index<150):\n",
    "                \n",
    "                y_inter = np.dot(train_data, self.parameters)\n",
    "                y_predicted = self.calculate_sigmoid(y_inter)\n",
    "                self.loss_value.append(self.logistic_loss_function(y_predicted, y_actual))\n",
    "                self.iteration.append(index)\n",
    "                # print(self.logistic_loss_function(y_predicted, y_actual))\n",
    "                \n",
    "    \n",
    "    def predict(self, data, threshold = 0.5):\n",
    "        data = self.concatenate_bias_column(data)\n",
    "        return self.calculate_sigmoid(np.dot(data, self.parameters)) >= threshold\n"
   ]
  },
  {
   "cell_type": "code",
   "execution_count": 19,
   "metadata": {
    "ExecuteTime": {
     "end_time": "2019-02-17T11:50:13.090168Z",
     "start_time": "2019-02-17T11:50:13.062768Z"
    }
   },
   "outputs": [],
   "source": [
    "def modify_label(data,threshold):\n",
    "\n",
    "    data[data < threshold] = 0\n",
    "    data[data >= threshold] = 1\n",
    "    \n",
    "    return data"
   ]
  },
  {
   "cell_type": "markdown",
   "metadata": {},
   "source": [
    "# Data Visualization"
   ]
  },
  {
   "cell_type": "code",
   "execution_count": 20,
   "metadata": {
    "ExecuteTime": {
     "end_time": "2019-02-17T11:50:13.113377Z",
     "start_time": "2019-02-17T11:50:13.092784Z"
    }
   },
   "outputs": [],
   "source": [
    "def plot_error_iterations(iterations):\n",
    "\n",
    "    sd_mean_list, x_train, x_test, y_train, y_test = data_preprocessing()\n",
    "\n",
    "    threshold = 0.8\n",
    "\n",
    "    y_train = modify_label(y_train, threshold)\n",
    "    y_test = modify_label(y_test,threshold)\n",
    "    \n",
    "    model = Logistic_regression_model(0.1, iterations)\n",
    "    model.fit(x_train, y_train)\n",
    "\n",
    "    x_test = scale_test_data(x_test,sd_mean_list)\n",
    "\n",
    "    y_predicted = model.predict(x_test,threshold)\n",
    "\n",
    "    mean_value = mean(model.loss_value)\n",
    "    sd = stdev(model.loss_value)\n",
    "\n",
    "    # error = [(value)/mean_value for value in model.loss_value]\n",
    "\n",
    "    error_vs_iterations = pd.DataFrame(\n",
    "    {'Iterations': model.iteration,\n",
    "     'Error': model.loss_value\n",
    "    })\n",
    "\n",
    "    error_vs_iterations = error_vs_iterations.melt('Iterations',  value_name='Error')\n",
    "    error_vs_iterations_graph = sns.factorplot(x=\"Iterations\", y=\"Error\", data = error_vs_iterations)\n",
    "\n",
    "    error_vs_iterations_graph.savefig(\"error_vs_iterations_graph.png\")"
   ]
  },
  {
   "cell_type": "code",
   "execution_count": 21,
   "metadata": {
    "ExecuteTime": {
     "end_time": "2019-02-17T11:50:13.148278Z",
     "start_time": "2019-02-17T11:50:13.114876Z"
    },
    "code_folding": []
   },
   "outputs": [],
   "source": [
    "def plot_threshold_precision_recall(increment):\n",
    "\n",
    "    sd_mean_list, X_train, X_test, Y_train, Y_test = data_preprocessing()\n",
    "    \n",
    "\n",
    "    threshold_current = 0\n",
    "\n",
    "    threshold = []\n",
    "    precision = []\n",
    "    recall = []\n",
    "    accuracy = []\n",
    "    f1_score = []\n",
    "    specificity = []\n",
    "\n",
    "\n",
    "    while threshold_current < 0.9:\n",
    "\n",
    "        #print(\"Iteration\",threshold_current)\n",
    "        threshold_current = threshold_current + increment\n",
    "        threshold.append(round(threshold_current,1))\n",
    "\n",
    "        x_train = copy.deepcopy(X_train)\n",
    "        y_train = copy.deepcopy(Y_train)\n",
    "        x_test = copy.deepcopy(X_test)\n",
    "        y_test = copy.deepcopy(Y_test)\n",
    "\n",
    "        # print(y_train)\n",
    "\n",
    "        y_train = modify_label(y_train, threshold_current)\n",
    "        y_test = modify_label(y_test,threshold_current)        \n",
    "\n",
    "        # print(Y_train)\n",
    "\n",
    "        model = Logistic_regression_model(0.1,10000)\n",
    "        model.fit(x_train, y_train)\n",
    "\n",
    "        x_test = scale_test_data(x_test,sd_mean_list)\n",
    "\n",
    "        y_predicted = model.predict(x_test,threshold_current)\n",
    "\n",
    "        # print_confusion_matrix(y_predicted,y_test)\n",
    "\n",
    "        f1_score.append(calculate_f1_score(y_predicted,y_test))\n",
    "        accuracy.append(calculate_accuracy(y_predicted,y_test))\n",
    "        precision.append(calculate_precision(y_predicted,y_test))\n",
    "        recall.append(calculate_recall(y_predicted,y_test))\n",
    "        specificity.append(calculate_specifity(y_predicted,y_test))\n",
    "\n",
    "        del y_train\n",
    "        del y_test\n",
    "        del x_train\n",
    "        del x_test\n",
    "\n",
    "    \n",
    "    threshold_df = pd.DataFrame(\n",
    "    {'Threshold': threshold,\n",
    "     'Accuracy': accuracy,\n",
    "     'Precision': precision,\n",
    "     'Recall': recall,\n",
    "     'Specificity':specificity,\n",
    "     'F1 Score': f1_score     \n",
    "    })\n",
    "    \n",
    "    #Accuracy visualisation\n",
    "    threshold_df = threshold_df.melt('Threshold', var_name='Metrics',  value_name='Variations')\n",
    "    threshold_graph = sns.factorplot(x=\"Threshold\", y=\"Variations\", hue='Metrics', data=threshold_df)\n",
    "\n",
    "    threshold_graph.savefig(\"threshold_graph.png\")\n",
    "\n",
    "\n",
    "\n"
   ]
  },
  {
   "cell_type": "markdown",
   "metadata": {},
   "source": [
    "## Train and Evaluate Logistic Model"
   ]
  },
  {
   "cell_type": "code",
   "execution_count": 22,
   "metadata": {
    "ExecuteTime": {
     "end_time": "2019-02-17T11:50:13.180047Z",
     "start_time": "2019-02-17T11:50:13.149445Z"
    },
    "scrolled": true
   },
   "outputs": [],
   "source": [
    "def train_evaluate_logistic_model():\n",
    "    \n",
    "    increment = 0.1\n",
    "    plot_threshold_precision_recall(increment)\n",
    "    plot_error_iterations(10000)\n",
    "    sd_mean_list, X_train, X_test, Y_train, Y_test = data_preprocessing()\n",
    "\n",
    "    threshold = 0.8\n",
    "\n",
    "    Y_train = modify_label(Y_train,threshold)\n",
    "    Y_test = modify_label(Y_test,threshold)\n",
    "\n",
    "\n",
    "    model = Logistic_regression_model(0.1,10000)\n",
    "    model.fit(X_train, Y_train)\n",
    "\n",
    "    X_test = scale_test_data(X_test,sd_mean_list)\n",
    "\n",
    "    yPrediction = model.predict(X_test,threshold)\n",
    "\n",
    "    print(\"Confusion Matrix\")\n",
    "    print()\n",
    "    print_confusion_matrix(yPrediction,Y_test)\n",
    "    print()\n",
    "    print(\"Accuracy: \",(yPrediction==Y_test).mean())\n",
    "    print(\"Precision: \",calculate_precision(yPrediction,Y_test))\n",
    "    print(\"Recall: \",calculate_recall(yPrediction,Y_test))\n",
    "    print(\"Specifity: \",calculate_specifity(yPrediction,Y_test))\n",
    "    print(\"F1 Score: \",calculate_f1_score(yPrediction,Y_test))"
   ]
  },
  {
   "cell_type": "markdown",
   "metadata": {},
   "source": [
    "## KNN Model"
   ]
  },
  {
   "cell_type": "markdown",
   "metadata": {},
   "source": [
    "## Distance Measures"
   ]
  },
  {
   "cell_type": "code",
   "execution_count": 23,
   "metadata": {
    "ExecuteTime": {
     "end_time": "2019-02-17T11:50:13.209593Z",
     "start_time": "2019-02-17T11:50:13.183312Z"
    }
   },
   "outputs": [],
   "source": [
    "def calculate_distance(test_row,train_row, distance_type):\n",
    "    \n",
    "    distance = 0\n",
    "    label = train_row[-1]\n",
    "    \n",
    "    if distance_type == \"Euclidean\":\n",
    "        for index in range(len(train_row)-1):\n",
    "\n",
    "            distance += math.pow((float(test_row[index])) - (float(train_row[index])), 2)\n",
    "\n",
    "        distance = math.sqrt(distance)\n",
    "\n",
    "        distance_label_tuple = (distance, label)\n",
    "    \n",
    "    elif distance_type == \"Manhattan\":\n",
    "        \n",
    "        for index in range(len(train_row)-1):\n",
    "\n",
    "            distance += abs((float(test_row[index])) - (float(train_row[index])))\n",
    "\n",
    "        distance_label_tuple = (distance, label)\n",
    "        \n",
    "    elif distance_type == \"Chebyshev\":\n",
    "        \n",
    "        max_dist = float('-inf')\n",
    "        \n",
    "        for index in range(len(train_row)-1):\n",
    "            \n",
    "            distance = abs((float(test_row[index])) - (float(train_row[index])))\n",
    "            \n",
    "            if distance > max_dist:\n",
    "                max_dist = distance\n",
    "                \n",
    "        distance_label_tuple = (max_dist, label)\n",
    "        \n",
    "    elif distance_type == \"Hellinger\":\n",
    "        \n",
    "        for index in range(len(train_row)-1):\n",
    "\n",
    "            distance += math.pow(math.sqrt(float(test_row[index])) - math.sqrt(float(train_row[index])), 2)\n",
    "\n",
    "        distance = math.sqrt(distance)*(1/math.sqrt(2))\n",
    "\n",
    "        distance_label_tuple = (distance, label)\n",
    "    \n",
    "    return distance_label_tuple"
   ]
  },
  {
   "cell_type": "markdown",
   "metadata": {},
   "source": [
    "## Classify test data based on training example"
   ]
  },
  {
   "cell_type": "code",
   "execution_count": 24,
   "metadata": {
    "ExecuteTime": {
     "end_time": "2019-02-17T11:50:13.235303Z",
     "start_time": "2019-02-17T11:50:13.210830Z"
    }
   },
   "outputs": [],
   "source": [
    "def classify_data(test_row, data, k ,distance_type):\n",
    "\n",
    "    distance_list = []\n",
    "    \n",
    "    for row in data:\n",
    "    \n",
    "        distance_list.append(calculate_distance(test_row,row,distance_type))\n",
    "    \n",
    "    \n",
    "    k_smallest_point = heapq.nsmallest(k, distance_list)\n",
    "    \n",
    "    label_unique_values = []\n",
    "    \n",
    "    for item in k_smallest_point:\n",
    "        \n",
    "        label_unique_values.append(item[1])\n",
    "        \n",
    "    return max(label_unique_values,key=label_unique_values.count)\n",
    "    "
   ]
  },
  {
   "cell_type": "markdown",
   "metadata": {},
   "source": [
    "## Calculate Accuracy"
   ]
  },
  {
   "cell_type": "code",
   "execution_count": 25,
   "metadata": {
    "ExecuteTime": {
     "end_time": "2019-02-17T11:50:13.256219Z",
     "start_time": "2019-02-17T11:50:13.238507Z"
    }
   },
   "outputs": [],
   "source": [
    "def calculate_accuracy_knn(df):\n",
    "    \n",
    "    #mean of all results\n",
    "    accuracy = df[\"correct_result\"].mean()\n",
    "    \n",
    "    return accuracy"
   ]
  },
  {
   "cell_type": "markdown",
   "metadata": {},
   "source": [
    "## Train and Evaluate KNN Model"
   ]
  },
  {
   "cell_type": "code",
   "execution_count": 26,
   "metadata": {
    "ExecuteTime": {
     "end_time": "2019-02-17T11:50:13.321269Z",
     "start_time": "2019-02-17T11:50:13.258043Z"
    }
   },
   "outputs": [],
   "source": [
    "def train_evaluate_model(test_filename,threshold):\n",
    "\n",
    "    feature_list = ['GRE Score', 'TOEFL Score', 'University Rating', 'SOP', 'LOR ', 'CGPA', 'Research', 'label']\n",
    "\n",
    "    df = pd.read_csv(\"admission_data.csv\", names = feature_list,skiprows=1)\n",
    "\n",
    "    X = df.values[:, :-1] \n",
    "    y = df.values[:, -1]\n",
    "\n",
    "    y = modify_label(y,threshold)\n",
    "\n",
    "    \n",
    "    X_train, X_validation, y_train, y_validation = train_test_split(X, y, random_state = 0) \n",
    "\n",
    "    train_data = X_train\n",
    "    train_data[:,-1] = y_train\n",
    "\n",
    "    validation_data = X_validation\n",
    "    validation_data[:,-1] = y_validation\n",
    "\n",
    "    validation_df = pd.DataFrame(validation_data)\n",
    "    \n",
    "    custom_knn_accuracy = []\n",
    "    sklearn_accuracy = []\n",
    "    k_list = []\n",
    "\n",
    "    for k in range(15):\n",
    "\n",
    "        validation_df[\"result\"] = validation_df.apply(classify_data, args=(train_data,k+1,\"Hellinger\"), axis=1)\n",
    "        validation_df[\"correct_result\"] = validation_df[\"result\"] == validation_df[validation_df.columns[-2]]\n",
    "\n",
    "        k_list.append(k+1)\n",
    "        custom_knn_accuracy.append(calculate_accuracy_knn(validation_df))\n",
    "\n",
    "        validation_df.drop([\"correct_result\"],inplace=True,axis = 1)\n",
    "\n",
    "        knn = KNeighborsClassifier(n_neighbors = k+1).fit(X_train, y_train)\n",
    "        sklearn_accuracy.append(knn.score(X_validation, y_validation))\n",
    "\n",
    "    accuracy = pd.DataFrame(\n",
    "    {'K': k_list,\n",
    "     'Custom KNN Model': custom_knn_accuracy,\n",
    "     'Scikit Learn Model': sklearn_accuracy\n",
    "    })\n",
    "\n",
    "    print(\"Plot on Validation data\")\n",
    "    #Accuracy visualisation\n",
    "    accuracy = accuracy.melt('K', var_name='Implementation',value_name='Accuracy')\n",
    "    accuracy_graph = sns.factorplot(x=\"K\", y=\"Accuracy\", hue='Implementation', data=accuracy)\n",
    "\n",
    "    \n",
    "    \n",
    "    \n",
    "    print(\"Plot on Test data\")\n",
    "    \n",
    "    feature_list = ['GRE Score', 'TOEFL Score', 'University Rating', 'SOP', 'LOR ', 'CGPA', 'Research', 'label']\n",
    "\n",
    "    test_df = pd.read_csv(test_filename, names = feature_list,skiprows=1)\n",
    "    \n",
    "    X_test = test_df[test_df.columns[0:-1]].values\n",
    "    y_test = test_df[test_df.columns[-1]].values\n",
    "    \n",
    "    y_test = modify_label(y_test,threshold)\n",
    "    \n",
    "    custom_knn_accuracy_test = []\n",
    "    sklearn_accuracy_test = []\n",
    "    k_list_test = []\n",
    "    \n",
    "    for k in range(15):\n",
    "\n",
    "        test_df[\"result\"] = test_df.apply(classify_data, args=(train_data,k+1,\"Hellinger\"), axis=1)\n",
    "        test_df[\"correct_result\"] = test_df[\"result\"] == test_df[test_df.columns[-2]]\n",
    "\n",
    "        k_list_test.append(k+1)\n",
    "        custom_knn_accuracy_test.append(calculate_accuracy_knn(test_df))\n",
    "\n",
    "        test_df.drop([\"correct_result\"],inplace=True,axis = 1)\n",
    "\n",
    "        knn_model = KNeighborsClassifier(n_neighbors = k+1).fit(X_train, y_train)\n",
    "        sklearn_accuracy_test.append(knn_model.score(X_test, y_test))\n",
    "\n",
    "    accuracy_test = pd.DataFrame(\n",
    "    {'K': k_list_test,\n",
    "     'Custom KNN Model': custom_knn_accuracy_test,\n",
    "     'Scikit Learn Model': sklearn_accuracy_test\n",
    "    })\n",
    "\n",
    "    #Accuracy visualisation\n",
    "    \n",
    "    accuracy_test = accuracy_test.melt('K', var_name='Implementation',value_name='Accuracy')\n",
    "    accuracy_test_graph = sns.factorplot(x=\"K\", y=\"Accuracy\", hue='Implementation', data=accuracy_test)\n",
    "    \n",
    "    "
   ]
  },
  {
   "cell_type": "markdown",
   "metadata": {},
   "source": [
    "## Q - 2 - 1 and Q - 2 - 3"
   ]
  },
  {
   "cell_type": "code",
   "execution_count": 28,
   "metadata": {
    "ExecuteTime": {
     "end_time": "2019-02-17T11:54:36.374360Z",
     "start_time": "2019-02-17T11:54:12.808749Z"
    },
    "scrolled": true
   },
   "outputs": [
    {
     "name": "stderr",
     "output_type": "stream",
     "text": [
      "/home/prakashjha/.local/lib/python3.6/site-packages/seaborn/categorical.py:3666: UserWarning: The `factorplot` function has been renamed to `catplot`. The original name will be removed in a future release. Please update your code. Note that the default `kind` in `factorplot` (`'point'`) has changed `'strip'` in `catplot`.\n",
      "  warnings.warn(msg)\n"
     ]
    },
    {
     "name": "stdout",
     "output_type": "stream",
     "text": [
      "Confusion Matrix\n",
      "\n",
      "True Positive:  20\n",
      "True Negative:  61\n",
      "False Positive:  4\n",
      "False Negative:  5\n",
      "\n",
      "Accuracy:  0.9\n",
      "Precision:  0.8333333333333334\n",
      "Recall:  0.8\n",
      "Specifity:  0.9242424242424242\n",
      "F1 Score:  0.816326530612245\n"
     ]
    },
    {
     "data": {
      "image/png": "[encoded data removed]",
      "text/plain": [
       "<Figure size 447.625x360 with 1 Axes>"
      ]
     },
     "metadata": {},
     "output_type": "display_data"
    },
    {
     "data": {
      "image/png": "[encoded data removed]",
      "text/plain": [
       "<Figure size 360x360 with 1 Axes>"
      ]
     },
     "metadata": {},
     "output_type": "display_data"
    }
   ],
   "source": [
    "train_evaluate_logistic_model()"
   ]
  },
  {
   "cell_type": "markdown",
   "metadata": {},
   "source": [
    "Choice of threshold value depends largely on the use case of the machine learning model i.e. for some use cases we try to maximize true positive rate or recall or sensitivity and in some cases we try to maximize true negative rate or specificity. More so we might even try to maximize both recall and specificity. For the later case we can simply plot values of recall and specificity based on different threshold value and as we can observe from the above graph the point they meet maximize both so we take threshold where these two curves meet."
   ]
  },
  {
   "cell_type": "markdown",
   "metadata": {},
   "source": [
    "## Q - 2 - 2"
   ]
  },
  {
   "cell_type": "code",
   "execution_count": 27,
   "metadata": {
    "ExecuteTime": {
     "end_time": "2019-02-17T11:52:36.087283Z",
     "start_time": "2019-02-17T11:50:13.322828Z"
    },
    "scrolled": true
   },
   "outputs": [
    {
     "name": "stdout",
     "output_type": "stream",
     "text": [
      "Plot on Validation data\n"
     ]
    },
    {
     "name": "stderr",
     "output_type": "stream",
     "text": [
      "/home/prakashjha/.local/lib/python3.6/site-packages/seaborn/categorical.py:3666: UserWarning: The `factorplot` function has been renamed to `catplot`. The original name will be removed in a future release. Please update your code. Note that the default `kind` in `factorplot` (`'point'`) has changed `'strip'` in `catplot`.\n",
      "  warnings.warn(msg)\n"
     ]
    },
    {
     "name": "stdout",
     "output_type": "stream",
     "text": [
      "Plot on Test data\n"
     ]
    },
    {
     "name": "stderr",
     "output_type": "stream",
     "text": [
      "/home/prakashjha/.local/lib/python3.6/site-packages/seaborn/categorical.py:3666: UserWarning: The `factorplot` function has been renamed to `catplot`. The original name will be removed in a future release. Please update your code. Note that the default `kind` in `factorplot` (`'point'`) has changed `'strip'` in `catplot`.\n",
      "  warnings.warn(msg)\n"
     ]
    },
    {
     "data": {
      "image/png": "[encoded data removed]",
      "text/plain": [
       "<Figure size 491.75x360 with 1 Axes>"
      ]
     },
     "metadata": {},
     "output_type": "display_data"
    },
    {
     "data": {
      "image/png": "[encoded data removed]",
      "text/plain": [
       "<Figure size 491.75x360 with 1 Axes>"
      ]
     },
     "metadata": {},
     "output_type": "display_data"
    }
   ],
   "source": [
    "filename = \"admission_data.csv\"\n",
    "threshold = 0.75\n",
    "train_evaluate_model(filename,threshold)"
   ]
  }
 ],
 "metadata": {
  "kernelspec": {
   "display_name": "Python 3",
   "language": "python",
   "name": "python3"
  },
  "language_info": {
   "codemirror_mode": {
    "name": "ipython",
    "version": 3
   },
   "file_extension": ".py",
   "mimetype": "text/x-python",
   "name": "python",
   "nbconvert_exporter": "python",
   "pygments_lexer": "ipython3",
   "version": "3.6.7"
  }
 },
 "nbformat": 4,
 "nbformat_minor": 2
}
