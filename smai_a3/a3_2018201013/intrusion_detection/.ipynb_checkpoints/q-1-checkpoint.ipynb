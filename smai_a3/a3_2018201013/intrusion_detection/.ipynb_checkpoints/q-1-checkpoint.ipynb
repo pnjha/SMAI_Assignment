{
 "cells": [
  {
   "cell_type": "code",
   "execution_count": 1,
   "metadata": {
    "ExecuteTime": {
     "end_time": "2019-02-14T07:21:09.199412Z",
     "start_time": "2019-02-14T07:21:08.378427Z"
    }
   },
   "outputs": [],
   "source": [
    "import numpy as np\n",
    "import pandas as pd\n",
    "import ssl\n",
    "import math\n",
    "import matplotlib.pyplot as plt\n",
    "import seaborn as sns\n",
    "get_ipython().magic(u'matplotlib inline')\n",
    "import heapq\n",
    "import itertools\n",
    "import random\n",
    "from pprint import pprint\n",
    "from sklearn.model_selection import train_test_split\n",
    "import plotly.plotly as py\n",
    "from scipy.linalg import svd"
   ]
  },
  {
   "cell_type": "code",
   "execution_count": 2,
   "metadata": {
    "ExecuteTime": {
     "end_time": "2019-02-14T07:21:09.207193Z",
     "start_time": "2019-02-14T07:21:09.200663Z"
    }
   },
   "outputs": [],
   "source": [
    "def data_preprocessing():\n",
    "    \n",
    "    \n",
    "    df = pd.read_csv(\"intrusion_detection.csv\")\n",
    "    df[\"xAttack\"] = df.apply(convert_string_to_float, axis=1)\n",
    "\n",
    "    X = df.values[:, :-1] \n",
    "    y = df.values[:, -1]\n",
    "    \n",
    "    X_train, X_validation, y_train, y_validation = train_test_split(X, y, test_size = 0.2,random_state = 0) \n",
    "\n",
    "    X_train = feature_scaling(X_train)\n",
    "    \n",
    "#     train_data = X_train\n",
    "#     train_data[:,-1] = y_train\n",
    "\n",
    "#     validation_data = X_validation\n",
    "#     validation_data[:,-1] = y_validation\n",
    "\n",
    "#     validation_df = pd.DataFrame(validation_data)\n",
    "    \n",
    "    return X_train, X_validation, y_train, y_validation\n",
    "    "
   ]
  },
  {
   "cell_type": "code",
   "execution_count": 3,
   "metadata": {
    "ExecuteTime": {
     "end_time": "2019-02-14T07:21:09.217309Z",
     "start_time": "2019-02-14T07:21:09.208399Z"
    }
   },
   "outputs": [],
   "source": [
    "def train_test_split_data(df, size):\n",
    "    \n",
    "    if isinstance(size, float):\n",
    "        size = round(size * len(df))\n",
    "    \n",
    "    #getting indexes of dataset in a list\n",
    "    indices = df.index.tolist()\n",
    "    \n",
    "    #randomly choosing \"size\" number of indices for validation set\n",
    "    indices = random.sample(population=indices, k=size)\n",
    "\n",
    "    #Creating validation set\n",
    "    validation_df = df.loc[indices]\n",
    "    \n",
    "    #Creating trianing set\n",
    "    train_df = df.drop(indices)\n",
    "    \n",
    "    return train_df, validation_df"
   ]
  },
  {
   "cell_type": "code",
   "execution_count": 4,
   "metadata": {
    "ExecuteTime": {
     "end_time": "2019-02-14T07:21:09.228633Z",
     "start_time": "2019-02-14T07:21:09.218649Z"
    }
   },
   "outputs": [],
   "source": [
    "def feature_scaling(train_data):\n",
    "    \n",
    "    no_of_columns = train_data.shape[1]\n",
    "    \n",
    "    global sd_mean_list\n",
    "    \n",
    "    sd_mean_list = []\n",
    "    \n",
    "    for index in range(no_of_columns):\n",
    "\n",
    "        sd_val = np.std(train_data[:,index])\n",
    "        mean_val = np.mean(train_data[:,index])\n",
    "        train_data[:,index] = (train_data[:,index] - mean_val)/(sd_val)\n",
    "        \n",
    "        sd_mean_list.append([sd_val,mean_val])\n",
    "        \n",
    "    return train_data"
   ]
  },
  {
   "cell_type": "code",
   "execution_count": 5,
   "metadata": {
    "ExecuteTime": {
     "end_time": "2019-02-14T07:21:09.243020Z",
     "start_time": "2019-02-14T07:21:09.229995Z"
    }
   },
   "outputs": [],
   "source": [
    "def scale_test_data(X_test):\n",
    "    \n",
    "    global sd_mean_list\n",
    "    \n",
    "    for test_row in X_test:\n",
    "        \n",
    "        for index in range(len(test_row)):\n",
    "\n",
    "            mean = sd_mean_list[index][1]\n",
    "            sd = sd_mean_list[index][0]\n",
    "\n",
    "            test_row[index] = (test_row[index] - mean)/sd\n",
    "\n",
    "    return X_test\n",
    "    "
   ]
  },
  {
   "cell_type": "code",
   "execution_count": 6,
   "metadata": {
    "ExecuteTime": {
     "end_time": "2019-02-14T07:21:09.253581Z",
     "start_time": "2019-02-14T07:21:09.244449Z"
    }
   },
   "outputs": [],
   "source": [
    "def convert_string_to_float(test_row):\n",
    "    \n",
    "    if test_row[-1] == \"normal\":\n",
    "        return 0\n",
    "    elif test_row[-1] == \"dos\":\n",
    "        return  1\n",
    "    elif test_row[-1] == \"u2r\":\n",
    "        return  2\n",
    "    elif test_row[-1] == \"r2l\":\n",
    "        return  3\n",
    "    elif test_row[-1] == \"probe\":\n",
    "        return  4"
   ]
  },
  {
   "cell_type": "code",
   "execution_count": 31,
   "metadata": {
    "ExecuteTime": {
     "end_time": "2019-02-14T20:04:00.334458Z",
     "start_time": "2019-02-14T20:03:57.381737Z"
    },
    "scrolled": true
   },
   "outputs": [
    {
     "name": "stdout",
     "output_type": "stream",
     "text": [
      "[[-2.64177033e+00 -9.65186111e-01 -1.61679116e-02 ...  3.19836175e-02\n",
      "   3.35126729e-01  5.99283221e-01]\n",
      " [-2.16229916e+00 -8.63304475e-01 -8.07681784e-02 ...  1.29332991e-01\n",
      "  -5.17807798e-01 -9.44001906e-02]\n",
      " [ 3.77871401e+00 -1.29694763e+00  2.14894211e-03 ...  1.47745537e-02\n",
      "  -3.89271715e-01  2.89607925e-01]\n",
      " ...\n",
      " [-7.73402687e-02  6.66098291e+00  2.27473879e-01 ...  4.34716849e-02\n",
      "  -2.30355534e-02 -6.20225151e-01]\n",
      " [-7.76505952e-02 -4.12160245e-01  9.20243083e-02 ... -1.42923986e-02\n",
      "   9.53320147e-01 -9.21748736e-01]\n",
      " [-2.23672679e+00 -8.94011534e-01 -9.27058177e-02 ...  1.23772800e-01\n",
      "  -4.96459335e-01 -2.23534779e-01]]\n"
     ]
    }
   ],
   "source": [
    "X_train, X_validation, y_train, y_validation = data_preprocessing()\n",
    "\n",
    "X_train = X_train - np.mean(X_train, axis=0)\n",
    "\n",
    "covmat = np.dot(X_train.T,X_train)/(X_train.shape[0])\n",
    "\n",
    "U, S, V = svd(covmat)\n",
    "\n",
    "Z = np.dot(X_train,U[:,0:15])\n",
    "\n",
    "print(Z)\n",
    "\n",
    "X_regenerate = "
   ]
  },
  {
   "cell_type": "code",
   "execution_count": 26,
   "metadata": {
    "ExecuteTime": {
     "end_time": "2019-02-14T18:35:52.580028Z",
     "start_time": "2019-02-14T18:35:48.813577Z"
    },
    "scrolled": true
   },
   "outputs": [
    {
     "name": "stdout",
     "output_type": "stream",
     "text": [
      "Eigenvalues in descending order:\n",
      "6.7414809989947075\n",
      "4.84458862297108\n",
      "2.1770443933758665\n",
      "1.885580100020422\n",
      "1.4805966401334438\n",
      "1.3435951390704566\n",
      "1.146043037740263\n",
      "1.0291273810839112\n",
      "1.0235396883338952\n",
      "1.0004006884730356\n",
      "0.9964014662988234\n",
      "0.9338950476755454\n",
      "0.7868398090785894\n",
      "0.7215416439382368\n",
      "0.6514325068838547\n",
      "0.5003941522973823\n",
      "0.4512500992431199\n",
      "0.40900039608287014\n",
      "0.3510074367950941\n",
      "0.21232756188666027\n",
      "0.09877051349838485\n",
      "0.06653047703956332\n",
      "0.0513735204868849\n",
      "0.04031775195069013\n",
      "0.026450238225557112\n",
      "0.01638335474950574\n",
      "0.009160400955715886\n",
      "0.004304228888390058\n",
      "0.0006227038280640352\n",
      "[ 23.2464862   39.95196421  47.45901385  53.96101419  59.06651985\n",
      "  63.69960653  67.65147908  71.20019418  74.72964139  78.17929893\n",
      "  81.61516606  84.83549381  87.54873453  90.03680916  92.28312815\n",
      "  94.00862523  95.56466005  96.97500625  98.18537672  98.91754073\n",
      "  99.2581287   99.48754414  99.66469421  99.80372094  99.89492866\n",
      "  99.95142299  99.98301058  99.99785275 100.        ]\n",
      "[1, 2, 3, 4, 5, 6, 7, 8, 9, 10, 11, 12, 13, 14, 15, 16, 17, 18, 19, 20, 21, 22, 23, 24, 25, 26, 27, 28, 29]\n",
      "[0, 1, 2, 3, 4, 5, 6, 7, 8, 9, 10, 11, 12, 13, 14, 15, 16, 17, 18, 19, 20, 21, 22, 23, 24, 25, 26, 27, 28]\n",
      "[[ 2.64177033e+00 -9.65186111e-01 -1.61679116e-02 ... -2.05093782e-02\n",
      "  -1.81912391e-03  1.78301470e-03]\n",
      " [ 2.16229916e+00 -8.63304475e-01 -8.07681784e-02 ... -1.92353182e-02\n",
      "  -6.28289977e-03 -4.92688605e-03]\n",
      " [-3.77871401e+00 -1.29694763e+00  2.14894211e-03 ... -1.72387543e-03\n",
      "  -6.12835635e-04  2.26094751e-03]\n",
      " ...\n",
      " [ 7.73402687e-02  6.66098291e+00  2.27473879e-01 ... -5.14128492e-02\n",
      "  -2.14434759e-02 -4.75247518e-03]\n",
      " [ 7.76505952e-02 -4.12160245e-01  9.20243083e-02 ...  4.73248203e-01\n",
      "   3.51872278e-01  1.28562595e-01]\n",
      " [ 2.23672679e+00 -8.94011534e-01 -9.27058177e-02 ... -9.59256000e-03\n",
      "  -4.41992362e-03 -1.65556151e-03]]\n",
      "sdgsdgsdgsdgsgsd\n",
      "[[-2.64177033e+00 -9.65186111e-01 -1.61679116e-02 ...  2.05093782e-02\n",
      "  -1.81912391e-03  1.78301470e-03]\n",
      " [-2.16229916e+00 -8.63304475e-01 -8.07681784e-02 ...  1.92353182e-02\n",
      "  -6.28289977e-03 -4.92688605e-03]\n",
      " [ 3.77871401e+00 -1.29694763e+00  2.14894211e-03 ...  1.72387543e-03\n",
      "  -6.12835635e-04  2.26094751e-03]\n",
      " ...\n",
      " [-7.73402687e-02  6.66098291e+00  2.27473879e-01 ...  5.14128492e-02\n",
      "  -2.14434759e-02 -4.75247518e-03]\n",
      " [-7.76505952e-02 -4.12160245e-01  9.20243083e-02 ... -4.73248203e-01\n",
      "   3.51872278e-01  1.28562595e-01]\n",
      " [-2.23672679e+00 -8.94011534e-01 -9.27058177e-02 ...  9.59256000e-03\n",
      "  -4.41992362e-03 -1.65556151e-03]]\n"
     ]
    },
    {
     "data": {
      "image/png": "[encoded data removed]",
      "text/plain": [
       "<Figure size 432x288 with 1 Axes>"
      ]
     },
     "metadata": {},
     "output_type": "display_data"
    }
   ],
   "source": [
    "X_train, X_validation, y_train, y_validation = data_preprocessing()\n",
    "\n",
    "mean_vec = np.mean(X_train, axis=0)\n",
    "cov_mat = (X_train - mean_vec).T.dot((X_train - mean_vec)) / (X_train.shape[0])\n",
    "\n",
    "# print(cov_mat)\n",
    "\n",
    "eig_vals, eig_vecs = np.linalg.eig(cov_mat)\n",
    "\n",
    "# Make a list of (eigenvalue, eigenvector) tuples\n",
    "eig_pairs = [(np.abs(eig_vals[i]), eig_vecs[:,i]) for i in range(len(eig_vals))]\n",
    "\n",
    "# Sort the (eigenvalue, eigenvector) tuples from high to low\n",
    "eig_pairs.sort()\n",
    "eig_pairs.reverse()\n",
    "\n",
    "# Visually confirm that the list is correctly sorted by decreasing eigenvalues\n",
    "print('Eigenvalues in descending order:')\n",
    "for i in eig_pairs:\n",
    "    print(i[0])\n",
    "\n",
    "tot = sum(eig_vals)\n",
    "var_exp = [(i / tot)*100 for i in sorted(eig_vals, reverse=True)]\n",
    "cum_var_exp = np.cumsum(var_exp)\n",
    "\n",
    "print(cum_var_exp)\n",
    "\n",
    "x_data = [i+1 for i in range(29)]\n",
    "print(x_data)\n",
    "x_datax = [i for i in range(29)]\n",
    "print(x_datax)\n",
    "\n",
    "barplot = pd.DataFrame(\n",
    "    {'Principal Components': x_data,\n",
    "     'Variance': var_exp\n",
    "    })\n",
    "    \n",
    "barplot = barplot.melt('Principal Components',value_name='Variance')\n",
    "barplot_graph = sns.barplot(x=\"Principal Components\", y=\"Variance\", data=barplot)\n",
    "\n",
    "lineplot = pd.DataFrame(\n",
    "    {'Principal Components': x_datax,\n",
    "     'Variance': cum_var_exp\n",
    "    })\n",
    "    \n",
    "lineplot = lineplot.melt('Principal Components',value_name='Variance')\n",
    "lineplot_graph = sns.lineplot(x=\"Principal Components\", y=\"Variance\", data=lineplot)\n",
    "\n",
    "\n",
    "tl = []\n",
    "for i in range(len(cum_var_exp)):\n",
    "    if(cum_var_exp[i]<100):\n",
    "        tl.append(eig_pairs[i][1].tolist())\n",
    "    \n",
    "\n",
    "matrix_w= np.matrix(tl)\n",
    "print(np.dot(X_train,matrix_w.T))\n",
    "\n",
    "\n",
    "\n",
    "\n",
    "\n",
    "pca = PCA(28)\n",
    "# fit on data\n",
    "# X_test_std = StandardScaler().fit_transform(X_train)\n",
    "pca.fit(X_train)\n",
    "# access values and vectors\n",
    "#print(pca.components_)\n",
    "# print(sorted(pca.explained_variance_, reverse=True))\n",
    "# transform data\n",
    "B = pca.transform(X_train)\n",
    "\n",
    "tot = sum(pca.explained_variance_)\n",
    "var_exp = [(i / tot)*100 for i in sorted(pca.explained_variance_, reverse=True)]\n",
    "# print(var_exp)\n",
    "cum_var_exp = np.cumsum(var_exp)\n",
    "# print(cum_var_exp)\n",
    "print(\"sdgsdgsdgsdgsgsd\")\n",
    "# print(B.shape)\n",
    "print(B)\n",
    "\n",
    "\n",
    "\n"
   ]
  },
  {
   "cell_type": "code",
   "execution_count": 21,
   "metadata": {
    "ExecuteTime": {
     "end_time": "2019-02-14T18:32:12.427522Z",
     "start_time": "2019-02-14T18:32:12.082851Z"
    }
   },
   "outputs": [
    {
     "ename": "NameError",
     "evalue": "name 'StandardScaler' is not defined",
     "output_type": "error",
     "traceback": [
      "\u001b[0;31m---------------------------------------------------------------------------\u001b[0m",
      "\u001b[0;31mNameError\u001b[0m                                 Traceback (most recent call last)",
      "\u001b[0;32m<ipython-input-21-f09a25d3e352>\u001b[0m in \u001b[0;36m<module>\u001b[0;34m()\u001b[0m\n\u001b[1;32m      3\u001b[0m \u001b[0mpca\u001b[0m \u001b[0;34m=\u001b[0m \u001b[0mPCA\u001b[0m\u001b[0;34m(\u001b[0m\u001b[0;36m14\u001b[0m\u001b[0;34m)\u001b[0m\u001b[0;34m\u001b[0m\u001b[0;34m\u001b[0m\u001b[0m\n\u001b[1;32m      4\u001b[0m \u001b[0;31m# fit on data\u001b[0m\u001b[0;34m\u001b[0m\u001b[0;34m\u001b[0m\u001b[0;34m\u001b[0m\u001b[0m\n\u001b[0;32m----> 5\u001b[0;31m \u001b[0mX_test_std\u001b[0m \u001b[0;34m=\u001b[0m \u001b[0mStandardScaler\u001b[0m\u001b[0;34m(\u001b[0m\u001b[0;34m)\u001b[0m\u001b[0;34m.\u001b[0m\u001b[0mfit_transform\u001b[0m\u001b[0;34m(\u001b[0m\u001b[0mX_train\u001b[0m\u001b[0;34m)\u001b[0m\u001b[0;34m\u001b[0m\u001b[0;34m\u001b[0m\u001b[0m\n\u001b[0m\u001b[1;32m      6\u001b[0m \u001b[0mpca\u001b[0m\u001b[0;34m.\u001b[0m\u001b[0mfit\u001b[0m\u001b[0;34m(\u001b[0m\u001b[0mX_test_std\u001b[0m\u001b[0;34m)\u001b[0m\u001b[0;34m\u001b[0m\u001b[0;34m\u001b[0m\u001b[0m\n\u001b[1;32m      7\u001b[0m \u001b[0;31m# access values and vectors\u001b[0m\u001b[0;34m\u001b[0m\u001b[0;34m\u001b[0m\u001b[0;34m\u001b[0m\u001b[0m\n",
      "\u001b[0;31mNameError\u001b[0m: name 'StandardScaler' is not defined"
     ]
    }
   ],
   "source": [
    "from numpy import array\n",
    "from sklearn.decomposition import PCA\n",
    "pca = PCA(14)\n",
    "# fit on data\n",
    "# X_test_std = StandardScaler().fit_transform(X_train)\n",
    "pca.fit(X_test_std)\n",
    "# access values and vectors\n",
    "#print(pca.components_)\n",
    "print(sorted(pca.explained_variance_, reverse=True))\n",
    "# transform data\n",
    "B = pca.transform(X_test_std)\n",
    "\n",
    "tot = sum(pca.explained_variance_)\n",
    "var_exp = [(i / tot)*100 for i in sorted(pca.explained_variance_, reverse=True)]\n",
    "# print(var_exp)\n",
    "cum_var_exp = nump.cumsum(var_exp)\n",
    "# print(cum_var_exp)\n",
    "\n",
    "print(B.shape)\n",
    "print(B)"
   ]
  }
 ],
 "metadata": {
  "kernelspec": {
   "display_name": "Python 3",
   "language": "python",
   "name": "python3"
  },
  "language_info": {
   "codemirror_mode": {
    "name": "ipython",
    "version": 3
   },
   "file_extension": ".py",
   "mimetype": "text/x-python",
   "name": "python",
   "nbconvert_exporter": "python",
   "pygments_lexer": "ipython3",
   "version": "3.6.7"
  }
 },
 "nbformat": 4,
 "nbformat_minor": 2
}
