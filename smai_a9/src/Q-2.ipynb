{
 "cells": [
  {
   "cell_type": "code",
   "execution_count": 31,
   "metadata": {
    "ExecuteTime": {
     "end_time": "2019-04-14T10:48:16.427778Z",
     "start_time": "2019-04-14T10:48:16.422188Z"
    }
   },
   "outputs": [],
   "source": [
    "import numpy as np\n",
    "import matplotlib.pyplot as plt\n",
    "get_ipython().magic(u'matplotlib inline')\n",
    "from sklearn.datasets import load_digits\n",
    "from sklearn.neighbors import KernelDensity\n",
    "from sklearn.decomposition import PCA\n",
    "from sklearn.model_selection import GridSearchCV\n",
    "from sklearn.mixture import GaussianMixture as GMM"
   ]
  },
  {
   "cell_type": "markdown",
   "metadata": {},
   "source": [
    "## Kernel Density Estimation"
   ]
  },
  {
   "cell_type": "code",
   "execution_count": 32,
   "metadata": {
    "ExecuteTime": {
     "end_time": "2019-04-14T10:48:16.443176Z",
     "start_time": "2019-04-14T10:48:16.436314Z"
    },
    "code_folding": []
   },
   "outputs": [],
   "source": [
    "def kernel_density_estimation():\n",
    "    \n",
    "    digits = load_digits()\n",
    "\n",
    "    pca = PCA(n_components=15, whiten=False)\n",
    "    data = pca.fit_transform(digits.data)\n",
    "\n",
    "    \n",
    "    params = {'bandwidth': np.logspace(0, 1, 20)}\n",
    "    \n",
    "    #print(params)\n",
    "    \n",
    "    grid = GridSearchCV(KernelDensity(), params, cv=5)\n",
    "    grid.fit(data)\n",
    "\n",
    "    print(\"best bandwidth: \",grid.best_estimator_.bandwidth)\n",
    "\n",
    "    kde = grid.best_estimator_\n",
    "\n",
    "    generate_new_data(kde,pca)"
   ]
  },
  {
   "cell_type": "code",
   "execution_count": 33,
   "metadata": {
    "ExecuteTime": {
     "end_time": "2019-04-14T10:48:16.472512Z",
     "start_time": "2019-04-14T10:48:16.450908Z"
    }
   },
   "outputs": [],
   "source": [
    "def plot_kde_data(new_data):\n",
    "    fig, ax = plt.subplots(4, 12, subplot_kw=dict(xticks=[], yticks=[]))\n",
    "    for j in range(12):\n",
    "\n",
    "        for i in range(4):\n",
    "\n",
    "            im = ax[i, j].imshow(new_data[i, j].reshape((8, 8)),cmap=plt.cm.binary, interpolation='nearest')\n",
    "            im.set_clim(0, 16)\n",
    "\n",
    "    ax[0, 5].set_title('\"New\" digits sampled from the kernel density model')\n",
    "    plt.show()"
   ]
  },
  {
   "cell_type": "markdown",
   "metadata": {},
   "source": [
    "## Generating New Data from KDE"
   ]
  },
  {
   "cell_type": "code",
   "execution_count": null,
   "metadata": {
    "ExecuteTime": {
     "start_time": "2019-04-14T10:48:16.447Z"
    }
   },
   "outputs": [],
   "source": [
    "def generate_new_data(kde,pca):\n",
    "    \n",
    "    new_data = kde.sample(48)\n",
    "    new_data = pca.inverse_transform(new_data)\n",
    "\n",
    "    new_data = new_data.reshape((4, 12, -1))\n",
    "\n",
    "    plot_kde_data(new_data)"
   ]
  },
  {
   "cell_type": "code",
   "execution_count": null,
   "metadata": {
    "ExecuteTime": {
     "start_time": "2019-04-14T10:48:16.450Z"
    }
   },
   "outputs": [],
   "source": [
    "kernel_density_estimation()"
   ]
  },
  {
   "cell_type": "markdown",
   "metadata": {},
   "source": [
    "## Gaussian Mixture Model Density Estimation"
   ]
  },
  {
   "cell_type": "code",
   "execution_count": null,
   "metadata": {
    "ExecuteTime": {
     "start_time": "2019-04-14T10:48:16.454Z"
    },
    "code_folding": []
   },
   "outputs": [],
   "source": [
    "def gmm_density_estimation():\n",
    "    \n",
    "    digits = load_digits()\n",
    "    digits.data.shape\n",
    "\n",
    "    pca = PCA(n_components=29)\n",
    "    data = pca.fit_transform(digits.data)\n",
    "\n",
    "    print(data.shape)\n",
    "\n",
    "    n_components = np.arange(50, 200, 10)\n",
    "    models = [GMM(n, covariance_type='full', random_state=0) for n in n_components]\n",
    "\n",
    "    plt.plot(n_components, [model.fit(data).bic(data) for model in models], label='BIC')\n",
    "    plt.legend(loc='best')\n",
    "    plt.xlabel('n_components');\n",
    "\n",
    "    gmm = GMM(115, covariance_type='full')\n",
    "    gmm.fit(data)\n",
    "    print(\"Convergence: \",gmm.converged_)\n",
    "\n",
    "    data_new_X, data_new_Y = gmm.sample(48)\n",
    "    \n",
    "#     print(data_new_X.shape)\n",
    "#     print(data_new_Y.shape)\n",
    "\n",
    "    generate_data_GMM(pca,data_new_X)"
   ]
  },
  {
   "cell_type": "code",
   "execution_count": null,
   "metadata": {
    "ExecuteTime": {
     "start_time": "2019-04-14T10:48:16.457Z"
    }
   },
   "outputs": [],
   "source": [
    "def plot_digits(data):\n",
    "    \n",
    "    fig, ax = plt.subplots(6, 8, figsize=(8, 8),subplot_kw=dict(xticks=[], yticks=[]))\n",
    "    fig.subplots_adjust(hspace=0.05, wspace=0.05)\n",
    "    \n",
    "    for i, axi in enumerate(ax.flat):\n",
    "        im = axi.imshow(data[i].reshape(8, 8), cmap='binary')\n",
    "        im.set_clim(0, 16)"
   ]
  },
  {
   "cell_type": "markdown",
   "metadata": {},
   "source": [
    "## Generating New Data Using GMM Density Estimation"
   ]
  },
  {
   "cell_type": "code",
   "execution_count": null,
   "metadata": {
    "ExecuteTime": {
     "start_time": "2019-04-14T10:48:16.461Z"
    }
   },
   "outputs": [],
   "source": [
    "def generate_data_GMM(pca,data):\n",
    "    \n",
    "    digits_new = pca.inverse_transform(data)\n",
    "    plot_digits(digits_new)"
   ]
  },
  {
   "cell_type": "code",
   "execution_count": null,
   "metadata": {
    "ExecuteTime": {
     "start_time": "2019-04-14T10:48:16.464Z"
    }
   },
   "outputs": [],
   "source": [
    "gmm_density_estimation()"
   ]
  }
 ],
 "metadata": {
  "kernelspec": {
   "display_name": "Python 3",
   "language": "python",
   "name": "python3"
  },
  "language_info": {
   "codemirror_mode": {
    "name": "ipython",
    "version": 3
   },
   "file_extension": ".py",
   "mimetype": "text/x-python",
   "name": "python",
   "nbconvert_exporter": "python",
   "pygments_lexer": "ipython3",
   "version": "3.6.7"
  }
 },
 "nbformat": 4,
 "nbformat_minor": 2
}
