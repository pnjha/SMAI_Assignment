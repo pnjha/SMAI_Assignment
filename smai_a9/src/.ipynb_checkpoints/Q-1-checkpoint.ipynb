{
 "cells": [
  {
   "cell_type": "markdown",
   "metadata": {},
   "source": [
    "## Import Packages"
   ]
  },
  {
   "cell_type": "code",
   "execution_count": 1,
   "metadata": {
    "ExecuteTime": {
     "end_time": "2019-04-13T10:05:20.324258Z",
     "start_time": "2019-04-13T10:05:18.756684Z"
    }
   },
   "outputs": [],
   "source": [
    "import subprocess, sys\n",
    "import numpy as np\n",
    "import pandas as pd\n",
    "import ssl\n",
    "import math\n",
    "import matplotlib.pyplot as plt\n",
    "import seaborn as sns\n",
    "from sklearn.model_selection import train_test_split\n",
    "import heapq\n",
    "import itertools\n",
    "import random\n",
    "import copy\n",
    "import pickle\n",
    "from statistics import mean , stdev\n",
    "from sklearn import datasets \n",
    "from sklearn.metrics import confusion_matrix \n",
    "from sklearn.neighbors import KNeighborsClassifier\n",
    "from pprint import pprint\n",
    "from sklearn.model_selection import train_test_split\n",
    "import plotly.plotly as py\n",
    "import scipy.cluster.hierarchy as hierarchy\n",
    "from scipy.linalg import svd\n",
    "from sklearn.cluster import KMeans\n",
    "from sklearn.mixture import GaussianMixture\n",
    "from scipy.cluster.hierarchy import dendrogram, linkage\n",
    "from scipy.cluster.hierarchy import cophenet\n",
    "from scipy.spatial.distance import pdist\n",
    "from sklearn import metrics \n",
    "from sklearn.cluster import AgglomerativeClustering"
   ]
  },
  {
   "cell_type": "markdown",
   "metadata": {},
   "source": [
    "## Data Preprocessing"
   ]
  },
  {
   "cell_type": "code",
   "execution_count": 2,
   "metadata": {
    "ExecuteTime": {
     "end_time": "2019-04-13T10:05:20.334126Z",
     "start_time": "2019-04-13T10:05:20.326997Z"
    },
    "code_folding": [
     0
    ]
   },
   "outputs": [],
   "source": [
    "def data_preprocessing():\n",
    "    \n",
    "    \n",
    "    df = pd.read_csv(\"intrusion_detection.csv\")\n",
    "\n",
    "#     print(df.info(verbose=True))\n",
    "    \n",
    "    df[\"xAttack\"] = df.apply(convert_string_to_float, axis=1)\n",
    "    \n",
    "    X = df.values[:, :-1] \n",
    "    y = df.values[:, -1]\n",
    "\n",
    "    X_train, X_validation, y_train, y_validation = train_test_split(X, y, test_size = 0.3,random_state = 0) \n",
    "\n",
    "    return X_train, X_validation, y_train, y_validation"
   ]
  },
  {
   "cell_type": "markdown",
   "metadata": {},
   "source": [
    "## Feature Scaling"
   ]
  },
  {
   "cell_type": "code",
   "execution_count": 3,
   "metadata": {
    "ExecuteTime": {
     "end_time": "2019-04-13T10:05:20.358386Z",
     "start_time": "2019-04-13T10:05:20.335698Z"
    },
    "code_folding": [
     0
    ]
   },
   "outputs": [],
   "source": [
    "def feature_scaling(train_data):\n",
    "    \n",
    "    no_of_columns = train_data.shape[1]\n",
    "    \n",
    "    global sd_mean_list\n",
    "    \n",
    "    sd_mean_list = []\n",
    "    \n",
    "    for index in range(no_of_columns):\n",
    "\n",
    "        sd_val = np.std(train_data[:,index])\n",
    "        mean_val = np.mean(train_data[:,index])\n",
    "        train_data[:,index] = (train_data[:,index] - mean_val)/(sd_val)\n",
    "        \n",
    "        sd_mean_list.append([sd_val,mean_val])\n",
    "        \n",
    "    return train_data"
   ]
  },
  {
   "cell_type": "markdown",
   "metadata": {},
   "source": [
    "## Scaling Test Data"
   ]
  },
  {
   "cell_type": "code",
   "execution_count": 4,
   "metadata": {
    "ExecuteTime": {
     "end_time": "2019-04-13T10:05:20.380844Z",
     "start_time": "2019-04-13T10:05:20.363130Z"
    },
    "code_folding": [
     0
    ]
   },
   "outputs": [],
   "source": [
    "def scale_test_data(X_test):\n",
    "    \n",
    "    global sd_mean_list\n",
    "    \n",
    "    for test_row in X_test:\n",
    "        \n",
    "        for index in range(len(test_row)):\n",
    "\n",
    "            mean = sd_mean_list[index][1]\n",
    "            sd = sd_mean_list[index][0]\n",
    "\n",
    "            test_row[index] = (test_row[index] - mean)/sd\n",
    "\n",
    "    return X_test"
   ]
  },
  {
   "cell_type": "markdown",
   "metadata": {
    "ExecuteTime": {
     "end_time": "2019-03-26T04:06:23.236321Z",
     "start_time": "2019-03-26T04:06:23.231512Z"
    }
   },
   "source": [
    "## Convert string type label column to float"
   ]
  },
  {
   "cell_type": "code",
   "execution_count": 5,
   "metadata": {
    "ExecuteTime": {
     "end_time": "2019-04-13T10:05:20.398612Z",
     "start_time": "2019-04-13T10:05:20.385968Z"
    },
    "code_folding": [
     0
    ]
   },
   "outputs": [],
   "source": [
    "def convert_string_to_float(test_row):\n",
    "    \n",
    "    if test_row[-1] == \"normal\":\n",
    "        return 0\n",
    "    elif test_row[-1] == \"dos\":\n",
    "        return  1\n",
    "    elif test_row[-1] == \"u2r\":\n",
    "        return  2\n",
    "    elif test_row[-1] == \"r2l\":\n",
    "        return  3\n",
    "    elif test_row[-1] == \"probe\":\n",
    "        return  4"
   ]
  },
  {
   "cell_type": "markdown",
   "metadata": {},
   "source": [
    "# AutoEncoder"
   ]
  },
  {
   "cell_type": "code",
   "execution_count": 6,
   "metadata": {
    "ExecuteTime": {
     "end_time": "2019-04-13T10:05:20.411689Z",
     "start_time": "2019-04-13T10:05:20.403732Z"
    },
    "code_folding": [
     0
    ]
   },
   "outputs": [],
   "source": [
    "class neural_layer:\n",
    "    \n",
    "    def __init__(self,weight,bias):\n",
    "        \n",
    "        self.weight = weight\n",
    "        self.bias = bias\n",
    "        self.activations = None\n",
    "        self.delta = None"
   ]
  },
  {
   "cell_type": "code",
   "execution_count": 7,
   "metadata": {
    "ExecuteTime": {
     "end_time": "2019-04-13T10:05:20.801575Z",
     "start_time": "2019-04-13T10:05:20.415081Z"
    },
    "code_folding": [
     2,
     23,
     35,
     83,
     108,
     118,
     128,
     143,
     168,
     202,
     220,
     240,
     247,
     256,
     265
    ]
   },
   "outputs": [],
   "source": [
    "class Neural_Network:\n",
    "    \n",
    "    def __init__(self, layer_sizes = None, activation_function = None,mode = \"training\",bottleneck_layer_index = None):\n",
    "        \n",
    "        if mode == \"training\": \n",
    "            \n",
    "            self.layer_sizes = layer_sizes\n",
    "            self.activation_function = activation_function\n",
    "            self.bottleneck_layer_index = bottleneck_layer_index\n",
    "            \n",
    "            network_layer = []\n",
    "\n",
    "            for index in range(len(layer_sizes)-1):\n",
    "\n",
    "                weight = np.random.randn(layer_sizes[index],layer_sizes[index+1])*np.sqrt(2.0/layer_sizes[index])\n",
    "                bias = np.random.randn(layer_sizes[index+1],1)\n",
    "\n",
    "                layer = neural_layer(weight,bias)\n",
    "\n",
    "                network_layer.append(layer)\n",
    "                \n",
    "            self.network_layer = network_layer\n",
    "        \n",
    "        elif mode == \"testing\":\n",
    "            \n",
    "            network_layer = None\n",
    "            \n",
    "            with open ('model', 'rb') as fp:\n",
    "                network_layer = pickle.load(fp)\n",
    "            \n",
    "            self.layer_sizes = network_layer[0]\n",
    "            self.activation_function = network_layer[1]\n",
    "            self.network_layer = network_layer[2]\n",
    "            self.bottleneck_layer_index = bottleneck_layer_index[3]\n",
    "            \n",
    "    def fit(self, data, Y, n_iterations, learning_rate):\n",
    "        \n",
    "        X = data\n",
    "        y = Y\n",
    "        \n",
    "        batch_size = 1\n",
    "        \n",
    "        self.error_per_epoch = []\n",
    "        self.epochs = []\n",
    "        self.r2 = []\n",
    "        \n",
    "        for iteration in range(n_iterations):\n",
    "        \n",
    "            #forward propagation\n",
    "            index = 0\n",
    "            for layer in self.network_layer:\n",
    "\n",
    "                if index == 0:\n",
    "\n",
    "                    layer.activations = self.nl_transform(X,layer.weight,layer.bias,self.activation_function[index]) \n",
    "\n",
    "                elif index == len(self.network_layer) - 1:\n",
    "\n",
    "                    layer.activations = self.nl_transform(self.network_layer[index-1].activations,layer.weight,layer.bias,self.activation_function[index])\n",
    "                    self.output_layer = layer.activations\n",
    "\n",
    "                else:\n",
    "\n",
    "                    layer.activations = self.nl_transform(self.network_layer[index-1].activations,layer.weight,layer.bias,self.activation_function[index])\n",
    "\n",
    "                index += 1\n",
    "\n",
    "\n",
    "            #backward propagation\n",
    "            for index, layer in reversed(list(enumerate(self.network_layer))):\n",
    "\n",
    "                if index == len(self.network_layer) - 1:    \n",
    "\n",
    "#                     layer.delta = self.cross_entropy_error(y , layer.activations,derivative =  True) * self.nl_derivative(layer.activations,self.activation_function[index])\n",
    "\n",
    "\n",
    "                    layer.delta = self.calculate_mse(X, layer.activations, y,derivative =  True) * self.nl_derivative(layer.activations,self.activation_function[index])\n",
    "\n",
    "                else:\n",
    "\n",
    "                    layer.delta = np.dot(self.network_layer[index+1].delta,self.network_layer[index+1].weight.T) * self.nl_derivative(layer.activations,self.activation_function[index])\n",
    "\n",
    "            #weight and bias update\n",
    "            for index, layer in reversed(list(enumerate(self.network_layer))):\n",
    "\n",
    "                if index == 0:\n",
    "\n",
    "                    layer.weight -= (learning_rate/batch_size) * np.dot(X.T,layer.delta)\n",
    "\n",
    "                else:\n",
    "\n",
    "                    layer.weight -= (learning_rate/batch_size) * np.dot(self.network_layer[index - 1].activations.T,layer.delta)\n",
    "\n",
    "                bias_gradient = pd.DataFrame(np.sum(layer.delta, axis=0)).values * (learning_rate/batch_size)                    \n",
    "                layer.bias -= bias_gradient\n",
    "\n",
    "            error = metrics.mean_squared_error(self.output_layer,y)\n",
    "            \n",
    "#             print(\"metrics: \",metrics.mean_squared_error(self.output_layer,y))\n",
    "#             print(\"my: \",self.calculate_mse(X,self.output_layer,y,derivative =  False))\n",
    "            \n",
    "            self.error_per_epoch.append(round(error,3))\n",
    "            self.r2.append(metrics.r2_score(self.output_layer,y))\n",
    "            self.epochs.append(iteration+1)\n",
    "\n",
    "\n",
    "        self.dump_model()\n",
    "                    \n",
    "    def cross_entropy_error(self,y_predicted,y_actual, derivative = False):\n",
    "        \n",
    "        if derivative == False:\n",
    "            \n",
    "            error = -np.sum(y_actual*np.log(y_predicted+1e-9))/(y_actual.shape[0])\n",
    "        else:\n",
    "            error = np.nan_to_num(-((y_actual / y_predicted) - ((1 - y_actual) / (1 - y_predicted))))/(y_actual.shape[0])\n",
    "            \n",
    "        return error\n",
    "            \n",
    "    def calculate_mse(self, X, y_predicted, y_actual,derivative =  False):\n",
    "        \n",
    "        if derivative == False:\n",
    "            mse = np.nan_to_num((np.sum(np.square(y_actual - y_predicted))))/y_actual.shape[0]\n",
    "        \n",
    "        else:\n",
    "            mse = np.nan_to_num((y_predicted - y_actual))/y_actual.shape[0]\n",
    "        \n",
    "        return mse    \n",
    "        \n",
    "    def dump_model(self):\n",
    "        \n",
    "        global train_sd, train_mean\n",
    "        \n",
    "        neural_net_model = []\n",
    "        neural_net_model.append(self.layer_sizes)\n",
    "        neural_net_model.append(self.activation_function)\n",
    "        neural_net_model.append(self.network_layer)\n",
    "        neural_net_model.append(self.bottleneck_layer_index)\n",
    "#         neural_net_model.append(train_mean)\n",
    "#         neural_net_model.append(train_sd)\n",
    "        \n",
    "        with open('model', 'wb') as fp:\n",
    "            pickle.dump(neural_net_model, fp)\n",
    "            \n",
    "    def encoder(self,X):\n",
    "        \n",
    "        index = 0\n",
    "        \n",
    "        for layer in self.network_layer:\n",
    "            \n",
    "            if index == 0:\n",
    "                \n",
    "                layer.activations = self.nl_transform(X,layer.weight,layer.bias,self.activation_function[index]) \n",
    "            \n",
    "            elif index == len(self.network_layer) - 1:\n",
    "                \n",
    "                layer.activations = self.nl_transform(self.network_layer[index-1].activations,layer.weight,layer.bias,self.activation_function[index])\n",
    "                self.output_layer = layer.activations\n",
    "            \n",
    "            else:\n",
    "                layer.activations = self.nl_transform(self.network_layer[index-1].activations,layer.weight,layer.bias,self.activation_function[index])\n",
    "\n",
    "            print(index,self.bottleneck_layer_index)\n",
    "            if index == self.bottleneck_layer_index - 1:\n",
    "                print(\"here\")\n",
    "                return layer.activations\n",
    "                \n",
    "            index += 1\n",
    "       \n",
    "    def predict(self, X):\n",
    "\n",
    "        index = 0\n",
    "        \n",
    "        for layer in self.network_layer:\n",
    "            \n",
    "            if index == 0:\n",
    "                \n",
    "                layer.activations = self.nl_transform(X,layer.weight,layer.bias,self.activation_function[index]) \n",
    "            \n",
    "            elif index == len(self.network_layer) - 1:\n",
    "                \n",
    "                layer.activations = self.nl_transform(self.network_layer[index-1].activations,layer.weight,layer.bias,self.activation_function[index])\n",
    "                self.output_layer = layer.activations\n",
    "            \n",
    "            else:\n",
    "                layer.activations = self.nl_transform(self.network_layer[index-1].activations,layer.weight,layer.bias,self.activation_function[index])\n",
    "\n",
    "            index += 1\n",
    "\n",
    "        y_predicted = []\n",
    "        \n",
    "#         self.predicted = final_activation\n",
    "        \n",
    "#         for row in final_activation:\n",
    "            \n",
    "#             e_x = np.exp(row - np.max(row))\n",
    "#             softmax =  e_x / e_x.sum()\n",
    "\n",
    "#             y_predicted.append(np.argmax(row))\n",
    "        y_predicted = self.output_layer\n",
    "    \n",
    "        return y_predicted \n",
    "    \n",
    "    def nl_derivative(self,activations,activation_function):\n",
    "        \n",
    "        if activation_function == \"sigmoid\":\n",
    "            \n",
    "            return self.sigmoid(activations,derivative = True)\n",
    "            \n",
    "        elif activation_function == \"relu\":\n",
    "            \n",
    "            return self.relu(activations,derivative = True)\n",
    "            \n",
    "        elif activation_function == \"tanh\":\n",
    "            \n",
    "            return self.tanh(activations,derivative = True)\n",
    "        \n",
    "        elif activation_function == \"linear\":\n",
    "            \n",
    "            return self.linear(activations,derivative = True)\n",
    "        \n",
    "    def nl_transform(self,X,Y,B,activation_function):\n",
    "        \n",
    "        x = np.dot(X,Y) + B.T\n",
    "        \n",
    "        if activation_function == \"sigmoid\":\n",
    "            \n",
    "            return self.sigmoid(x)\n",
    "            \n",
    "        elif activation_function == \"relu\":\n",
    "            \n",
    "            return self.relu(x)\n",
    "            \n",
    "        elif activation_function == \"tanh\":\n",
    "            \n",
    "            return self.tanh(x)\n",
    "        \n",
    "        elif activation_function == \"linear\":\n",
    "            \n",
    "            return self.linear(x)\n",
    "        \n",
    "    def linear(self, x, derivative = False):\n",
    "\n",
    "        if derivative == False:\n",
    "            return x\n",
    "        else:\n",
    "            return np.ones((x.shape[0],x.shape[1]))\n",
    "        \n",
    "    def sigmoid(self, x, derivative = False):\n",
    "        \n",
    "        if derivative == False:\n",
    "            result = np.nan_to_num(1.0 / (1.0 + np.exp(-x)))\n",
    "        else:\n",
    "            result = np.nan_to_num((x)*(1-x))\n",
    "            \n",
    "        return result\n",
    "    \n",
    "    def tanh(self, x, derivative = False):\n",
    "        \n",
    "        if derivative == False:\n",
    "            result = np.nan_to_num(2.0/(1.0 + np.exp(-(2*x))) - 1)\n",
    "        else:\n",
    "            result = np.nan_to_num(1 - np.tanh(x)**2)\n",
    "            \n",
    "        return result\n",
    "\n",
    "    def relu(self,x, derivative = False):\n",
    "        \n",
    "        if derivative == False:\n",
    "            result = np.nan_to_num(x * (x > 0))\n",
    "        else:\n",
    "            result = np.nan_to_num(1 * (x > 0))\n",
    "            \n",
    "        return result "
   ]
  },
  {
   "cell_type": "code",
   "execution_count": 8,
   "metadata": {
    "ExecuteTime": {
     "end_time": "2019-04-13T10:05:20.861239Z",
     "start_time": "2019-04-13T10:05:20.802884Z"
    },
    "code_folding": [
     0
    ]
   },
   "outputs": [],
   "source": [
    "def temp():\n",
    "    X_train, X_validation, Y_train, Y_validation = data_preprocessing()\n",
    "\n",
    "    global train_mean, train_sd\n",
    "\n",
    "    train_mean = np.mean(X_train)\n",
    "    train_sd  =np.std(X_train)\n",
    "\n",
    "    X_train = (X_train - train_mean)/train_sd\n",
    "    X_validation = (X_validation - train_mean)/train_sd\n",
    "\n",
    "\n",
    "    nb_classes = 5\n",
    "\n",
    "    # print(Y_train.dtype)\n",
    "    Y_train = np.subtract(Y_train, 0, casting = \"unsafe\" ,dtype=np.int64)\n",
    "    Y_validation = np.subtract(Y_train, 0, casting = \"unsafe\" ,dtype=np.int64)\n",
    "    # print(Y_train.dtype)\n",
    "\n",
    "\n",
    "\n",
    "    # print(Y_train.T)\n",
    "\n",
    "    # print(np.unique(Y_train))\n",
    "\n",
    "    # print(np.unique(targets))\n",
    "    # print(targets.dtype)\n",
    "\n",
    "    targets = Y_train.reshape(-1)\n",
    "    y_hot = np.eye(nb_classes)[targets]\n",
    "\n",
    "    targets_val = Y_validation.reshape(-1)\n",
    "    y_hot_val = np.eye(nb_classes)[targets_val]\n",
    "\n",
    "\n",
    "    layers = [X_train.shape[1],100,nb_classes]\n",
    "    act_func = ['relu','relu']\n",
    "\n",
    "    nl_obj = Neural_Network(layer_sizes = layers, activation_function = act_func,mode = \"training\")\n",
    "\n",
    "    nl_obj.fit(X_train,y_hot,3,0.15)\n",
    "\n",
    "    y_predicted = nl_obj.predict(X_train)\n",
    "\n",
    "\n",
    "\n",
    "    mse = nl_obj.calculate_mse(X_train, y_predicted, Y_train)\n",
    "    metrics.r2_score(Y_train,y_predicted)"
   ]
  },
  {
   "cell_type": "code",
   "execution_count": 9,
   "metadata": {
    "ExecuteTime": {
     "end_time": "2019-04-13T10:05:20.888735Z",
     "start_time": "2019-04-13T10:05:20.863455Z"
    },
    "code_folding": []
   },
   "outputs": [],
   "source": [
    "def toy_data():\n",
    "    \n",
    "    global train_mean,train_sd\n",
    "    \n",
    "    X_train = np.asarray([[1,2,3,4],[5,6,7,8],[9,10,11,12]])\n",
    "\n",
    "    train_mean = np.mean(X_train)\n",
    "    train_sd  =np.std(X_train)\n",
    "\n",
    "    X_train = (X_train - train_mean)/train_sd\n",
    "#     X_validation = (X_validation - train_mean)/train_sd\n",
    "\n",
    "\n",
    "    # print(X_train)\n",
    "    layers = [X_train.shape[1],3,X_train.shape[1]]\n",
    "    act_func = ['linear','linear']\n",
    "\n",
    "    nl_obj = Neural_Network(layer_sizes = layers, activation_function = act_func,mode = \"training\")\n",
    "\n",
    "\n",
    "\n",
    "    nl_obj.fit(X_train,X_train,100,0.1)\n",
    "\n",
    "\n",
    "    # xx_validation = copy.deepcopy(X_validation)\n",
    "    X_train_predicted = nl_obj.predict(X_train)\n",
    "\n",
    "\n",
    "\n",
    "    print(X_train)\n",
    "    print(X_train_predicted)\n",
    "\n",
    "    # print(np.sum(X_train - X_train_predicted))\n",
    "\n",
    "    print(metrics.r2_score(X_train.T,X_train_predicted.T))\n",
    "\n",
    "\n",
    "    error_vs_layer_df = pd.DataFrame(\n",
    "    {'Train Data Error': nl_obj.error_per_epoch,\n",
    "     'Epochs': nl_obj.epochs\n",
    "    })\n",
    "\n",
    "\n",
    "    error_vs_layer_df = error_vs_layer_df.melt('Epochs',value_name='Prediction Error')\n",
    "    error_vs_layer_graph = sns.factorplot(x=\"Epochs\", y=\"Prediction Error\", data=error_vs_layer_df)\n",
    "\n",
    "    error_vs_layer_df = pd.DataFrame(\n",
    "    {\n",
    "     'R2 score': nl_obj.r2,\n",
    "     'Epochs': nl_obj.epochs\n",
    "    })\n",
    "\n",
    "\n",
    "    error_vs_layer_df = error_vs_layer_df.melt('Epochs' , value_name='R2 score')\n",
    "    error_vs_layer_graph = sns.factorplot(x=\"Epochs\", y=\"R2 score\", data=error_vs_layer_df)"
   ]
  },
  {
   "cell_type": "code",
   "execution_count": 10,
   "metadata": {
    "ExecuteTime": {
     "end_time": "2019-04-13T10:05:23.766271Z",
     "start_time": "2019-04-13T10:05:20.890376Z"
    },
    "scrolled": true
   },
   "outputs": [
    {
     "name": "stdout",
     "output_type": "stream",
     "text": [
      "[[-1.59325501 -1.30357228 -1.01388955 -0.72420682]\n",
      " [-0.43452409 -0.14484136  0.14484136  0.43452409]\n",
      " [ 0.72420682  1.01388955  1.30357228  1.59325501]]\n",
      "[[-1.59325561 -1.3035717  -1.01388864 -0.72420772]\n",
      " [-0.43452432 -0.14484114  0.14484171  0.43452376]\n",
      " [ 0.72420697  1.01388941  1.30357206  1.59325524]]\n",
      "0.9999999999977639\n"
     ]
    },
    {
     "name": "stderr",
     "output_type": "stream",
     "text": [
      "/home/prakashjha/.local/lib/python3.6/site-packages/seaborn/categorical.py:3666: UserWarning:\n",
      "\n",
      "The `factorplot` function has been renamed to `catplot`. The original name will be removed in a future release. Please update your code. Note that the default `kind` in `factorplot` (`'point'`) has changed `'strip'` in `catplot`.\n",
      "\n"
     ]
    },
    {
     "data": {
      "image/png": "[encoded data removed]",
      "text/plain": [
       "<Figure size 360x360 with 1 Axes>"
      ]
     },
     "metadata": {},
     "output_type": "display_data"
    },
    {
     "data": {
      "image/png": "[encoded data removed]",
      "text/plain": [
       "<Figure size 360x360 with 1 Axes>"
      ]
     },
     "metadata": {},
     "output_type": "display_data"
    }
   ],
   "source": [
    "toy_data()"
   ]
  },
  {
   "cell_type": "code",
   "execution_count": 11,
   "metadata": {
    "ExecuteTime": {
     "end_time": "2019-04-13T10:05:23.788765Z",
     "start_time": "2019-04-13T10:05:23.767690Z"
    },
    "code_folding": [
     0
    ],
    "scrolled": true
   },
   "outputs": [],
   "source": [
    "def encode_data(X_train,X_validation,bottleneck_layer_index,act_func,layers,learning_rate,epochs):\n",
    "    \n",
    "    X_train = feature_scaling(X_train)\n",
    "\n",
    "    nl_obj = Neural_Network(layer_sizes = layers, activation_function = act_func,mode = \"training\",bottleneck_layer_index = bottleneck_layer_index)\n",
    "\n",
    "    nl_obj.fit(X_train,X_train,epochs,learning_rate)\n",
    "\n",
    "    C_X_train = nl_obj.network_layer[bottleneck_layer_index - 1].activations\n",
    "    \n",
    "    print(C_X_train.shape)\n",
    "    \n",
    "    \n",
    "    C_X_validation = nl_obj.encoder(X_validation)\n",
    "    \n",
    "    print(C_X_validation.shape)\n",
    "    \n",
    "    # xx_validation = copy.deepcopy(X_validation)\n",
    "    X_train_predicted = nl_obj.predict(X_train)\n",
    "    X_validation_predicted = nl_obj.predict(X_validation)\n",
    "    # print(X_train_predicted)\n",
    "\n",
    "#     print(X_train[0,:])\n",
    "#     print(X_train_predicted[0,:])\n",
    "\n",
    "\n",
    "#     print(np.corrcoef(X_train,X_train_predicted))\n",
    "    \n",
    "#     print(\"performance: \",np.sum(X_train - X_train_predicted))\n",
    "\n",
    "    print(\"R2 train data: \",metrics.r2_score(X_train.T,X_train_predicted.T))\n",
    "    print(\"R2 validation data: \",metrics.r2_score(X_validation.T,X_validation_predicted.T))\n",
    "\n",
    "\n",
    "#     error_vs_layer_df = pd.DataFrame(\n",
    "#     {'Train Data Error': nl_obj.error_per_epoch,\n",
    "#      'Epochs': nl_obj.epochs\n",
    "#     })\n",
    "\n",
    "\n",
    "#     error_vs_layer_df = error_vs_layer_df.melt('Epochs',value_name='Prediction Error')\n",
    "#     error_vs_layer_graph = sns.factorplot(x=\"Epochs\", y=\"Prediction Error\", data=error_vs_layer_df)\n",
    "\n",
    "#     error_vs_layer_df = pd.DataFrame(\n",
    "#     {\n",
    "#      'R2 score': nl_obj.r2,\n",
    "#      'Epochs': nl_obj.epochs\n",
    "#     })\n",
    "\n",
    "\n",
    "#     error_vs_layer_df = error_vs_layer_df.melt('Epochs' , value_name='R2 score')\n",
    "#     error_vs_layer_graph = sns.factorplot(x=\"Epochs\", y=\"R2 score\", data=error_vs_layer_df)\n",
    "\n",
    "    return C_X_train, C_X_validation"
   ]
  },
  {
   "cell_type": "code",
   "execution_count": 12,
   "metadata": {
    "ExecuteTime": {
     "end_time": "2019-04-13T10:05:23.955111Z",
     "start_time": "2019-04-13T10:05:23.790245Z"
    },
    "scrolled": true
   },
   "outputs": [
    {
     "ename": "FileNotFoundError",
     "evalue": "[Errno 2] File b'intrusion_detection.csv' does not exist: b'intrusion_detection.csv'",
     "output_type": "error",
     "traceback": [
      "\u001b[0;31m---------------------------------------------------------------------------\u001b[0m",
      "\u001b[0;31mFileNotFoundError\u001b[0m                         Traceback (most recent call last)",
      "\u001b[0;32m<ipython-input-12-e46947c215db>\u001b[0m in \u001b[0;36m<module>\u001b[0;34m()\u001b[0m\n\u001b[0;32m----> 1\u001b[0;31m \u001b[0mX_train\u001b[0m\u001b[0;34m,\u001b[0m \u001b[0mX_validation\u001b[0m\u001b[0;34m,\u001b[0m \u001b[0mY_train\u001b[0m\u001b[0;34m,\u001b[0m \u001b[0mY_validation\u001b[0m \u001b[0;34m=\u001b[0m \u001b[0mdata_preprocessing\u001b[0m\u001b[0;34m(\u001b[0m\u001b[0;34m)\u001b[0m\u001b[0;34m\u001b[0m\u001b[0;34m\u001b[0m\u001b[0m\n\u001b[0m\u001b[1;32m      2\u001b[0m \u001b[0;34m\u001b[0m\u001b[0m\n\u001b[1;32m      3\u001b[0m \u001b[0mbottleneck_layer_neurons\u001b[0m \u001b[0;34m=\u001b[0m \u001b[0;36m17\u001b[0m\u001b[0;34m\u001b[0m\u001b[0;34m\u001b[0m\u001b[0m\n\u001b[1;32m      4\u001b[0m \u001b[0;34m\u001b[0m\u001b[0m\n\u001b[1;32m      5\u001b[0m \u001b[0mbottleneck_layer_index\u001b[0m \u001b[0;34m=\u001b[0m \u001b[0;36m1\u001b[0m\u001b[0;34m\u001b[0m\u001b[0;34m\u001b[0m\u001b[0m\n",
      "\u001b[0;32m<ipython-input-2-3cdac3debadb>\u001b[0m in \u001b[0;36mdata_preprocessing\u001b[0;34m()\u001b[0m\n\u001b[1;32m      2\u001b[0m \u001b[0;34m\u001b[0m\u001b[0m\n\u001b[1;32m      3\u001b[0m \u001b[0;34m\u001b[0m\u001b[0m\n\u001b[0;32m----> 4\u001b[0;31m     \u001b[0mdf\u001b[0m \u001b[0;34m=\u001b[0m \u001b[0mpd\u001b[0m\u001b[0;34m.\u001b[0m\u001b[0mread_csv\u001b[0m\u001b[0;34m(\u001b[0m\u001b[0;34m\"intrusion_detection.csv\"\u001b[0m\u001b[0;34m)\u001b[0m\u001b[0;34m\u001b[0m\u001b[0;34m\u001b[0m\u001b[0m\n\u001b[0m\u001b[1;32m      5\u001b[0m \u001b[0;34m\u001b[0m\u001b[0m\n\u001b[1;32m      6\u001b[0m \u001b[0;31m#     print(df.info(verbose=True))\u001b[0m\u001b[0;34m\u001b[0m\u001b[0;34m\u001b[0m\u001b[0;34m\u001b[0m\u001b[0m\n",
      "\u001b[0;32m/home/prakashjha/.local/lib/python3.6/site-packages/pandas/io/parsers.py\u001b[0m in \u001b[0;36mparser_f\u001b[0;34m(filepath_or_buffer, sep, delimiter, header, names, index_col, usecols, squeeze, prefix, mangle_dupe_cols, dtype, engine, converters, true_values, false_values, skipinitialspace, skiprows, skipfooter, nrows, na_values, keep_default_na, na_filter, verbose, skip_blank_lines, parse_dates, infer_datetime_format, keep_date_col, date_parser, dayfirst, iterator, chunksize, compression, thousands, decimal, lineterminator, quotechar, quoting, doublequote, escapechar, comment, encoding, dialect, tupleize_cols, error_bad_lines, warn_bad_lines, delim_whitespace, low_memory, memory_map, float_precision)\u001b[0m\n\u001b[1;32m    700\u001b[0m                     skip_blank_lines=skip_blank_lines)\n\u001b[1;32m    701\u001b[0m \u001b[0;34m\u001b[0m\u001b[0m\n\u001b[0;32m--> 702\u001b[0;31m         \u001b[0;32mreturn\u001b[0m \u001b[0m_read\u001b[0m\u001b[0;34m(\u001b[0m\u001b[0mfilepath_or_buffer\u001b[0m\u001b[0;34m,\u001b[0m \u001b[0mkwds\u001b[0m\u001b[0;34m)\u001b[0m\u001b[0;34m\u001b[0m\u001b[0;34m\u001b[0m\u001b[0m\n\u001b[0m\u001b[1;32m    703\u001b[0m \u001b[0;34m\u001b[0m\u001b[0m\n\u001b[1;32m    704\u001b[0m     \u001b[0mparser_f\u001b[0m\u001b[0;34m.\u001b[0m\u001b[0m__name__\u001b[0m \u001b[0;34m=\u001b[0m \u001b[0mname\u001b[0m\u001b[0;34m\u001b[0m\u001b[0;34m\u001b[0m\u001b[0m\n",
      "\u001b[0;32m/home/prakashjha/.local/lib/python3.6/site-packages/pandas/io/parsers.py\u001b[0m in \u001b[0;36m_read\u001b[0;34m(filepath_or_buffer, kwds)\u001b[0m\n\u001b[1;32m    427\u001b[0m \u001b[0;34m\u001b[0m\u001b[0m\n\u001b[1;32m    428\u001b[0m     \u001b[0;31m# Create the parser.\u001b[0m\u001b[0;34m\u001b[0m\u001b[0;34m\u001b[0m\u001b[0;34m\u001b[0m\u001b[0m\n\u001b[0;32m--> 429\u001b[0;31m     \u001b[0mparser\u001b[0m \u001b[0;34m=\u001b[0m \u001b[0mTextFileReader\u001b[0m\u001b[0;34m(\u001b[0m\u001b[0mfilepath_or_buffer\u001b[0m\u001b[0;34m,\u001b[0m \u001b[0;34m**\u001b[0m\u001b[0mkwds\u001b[0m\u001b[0;34m)\u001b[0m\u001b[0;34m\u001b[0m\u001b[0;34m\u001b[0m\u001b[0m\n\u001b[0m\u001b[1;32m    430\u001b[0m \u001b[0;34m\u001b[0m\u001b[0m\n\u001b[1;32m    431\u001b[0m     \u001b[0;32mif\u001b[0m \u001b[0mchunksize\u001b[0m \u001b[0;32mor\u001b[0m \u001b[0miterator\u001b[0m\u001b[0;34m:\u001b[0m\u001b[0;34m\u001b[0m\u001b[0;34m\u001b[0m\u001b[0m\n",
      "\u001b[0;32m/home/prakashjha/.local/lib/python3.6/site-packages/pandas/io/parsers.py\u001b[0m in \u001b[0;36m__init__\u001b[0;34m(self, f, engine, **kwds)\u001b[0m\n\u001b[1;32m    893\u001b[0m             \u001b[0mself\u001b[0m\u001b[0;34m.\u001b[0m\u001b[0moptions\u001b[0m\u001b[0;34m[\u001b[0m\u001b[0;34m'has_index_names'\u001b[0m\u001b[0;34m]\u001b[0m \u001b[0;34m=\u001b[0m \u001b[0mkwds\u001b[0m\u001b[0;34m[\u001b[0m\u001b[0;34m'has_index_names'\u001b[0m\u001b[0;34m]\u001b[0m\u001b[0;34m\u001b[0m\u001b[0;34m\u001b[0m\u001b[0m\n\u001b[1;32m    894\u001b[0m \u001b[0;34m\u001b[0m\u001b[0m\n\u001b[0;32m--> 895\u001b[0;31m         \u001b[0mself\u001b[0m\u001b[0;34m.\u001b[0m\u001b[0m_make_engine\u001b[0m\u001b[0;34m(\u001b[0m\u001b[0mself\u001b[0m\u001b[0;34m.\u001b[0m\u001b[0mengine\u001b[0m\u001b[0;34m)\u001b[0m\u001b[0;34m\u001b[0m\u001b[0;34m\u001b[0m\u001b[0m\n\u001b[0m\u001b[1;32m    896\u001b[0m \u001b[0;34m\u001b[0m\u001b[0m\n\u001b[1;32m    897\u001b[0m     \u001b[0;32mdef\u001b[0m \u001b[0mclose\u001b[0m\u001b[0;34m(\u001b[0m\u001b[0mself\u001b[0m\u001b[0;34m)\u001b[0m\u001b[0;34m:\u001b[0m\u001b[0;34m\u001b[0m\u001b[0;34m\u001b[0m\u001b[0m\n",
      "\u001b[0;32m/home/prakashjha/.local/lib/python3.6/site-packages/pandas/io/parsers.py\u001b[0m in \u001b[0;36m_make_engine\u001b[0;34m(self, engine)\u001b[0m\n\u001b[1;32m   1120\u001b[0m     \u001b[0;32mdef\u001b[0m \u001b[0m_make_engine\u001b[0m\u001b[0;34m(\u001b[0m\u001b[0mself\u001b[0m\u001b[0;34m,\u001b[0m \u001b[0mengine\u001b[0m\u001b[0;34m=\u001b[0m\u001b[0;34m'c'\u001b[0m\u001b[0;34m)\u001b[0m\u001b[0;34m:\u001b[0m\u001b[0;34m\u001b[0m\u001b[0;34m\u001b[0m\u001b[0m\n\u001b[1;32m   1121\u001b[0m         \u001b[0;32mif\u001b[0m \u001b[0mengine\u001b[0m \u001b[0;34m==\u001b[0m \u001b[0;34m'c'\u001b[0m\u001b[0;34m:\u001b[0m\u001b[0;34m\u001b[0m\u001b[0;34m\u001b[0m\u001b[0m\n\u001b[0;32m-> 1122\u001b[0;31m             \u001b[0mself\u001b[0m\u001b[0;34m.\u001b[0m\u001b[0m_engine\u001b[0m \u001b[0;34m=\u001b[0m \u001b[0mCParserWrapper\u001b[0m\u001b[0;34m(\u001b[0m\u001b[0mself\u001b[0m\u001b[0;34m.\u001b[0m\u001b[0mf\u001b[0m\u001b[0;34m,\u001b[0m \u001b[0;34m**\u001b[0m\u001b[0mself\u001b[0m\u001b[0;34m.\u001b[0m\u001b[0moptions\u001b[0m\u001b[0;34m)\u001b[0m\u001b[0;34m\u001b[0m\u001b[0;34m\u001b[0m\u001b[0m\n\u001b[0m\u001b[1;32m   1123\u001b[0m         \u001b[0;32melse\u001b[0m\u001b[0;34m:\u001b[0m\u001b[0;34m\u001b[0m\u001b[0;34m\u001b[0m\u001b[0m\n\u001b[1;32m   1124\u001b[0m             \u001b[0;32mif\u001b[0m \u001b[0mengine\u001b[0m \u001b[0;34m==\u001b[0m \u001b[0;34m'python'\u001b[0m\u001b[0;34m:\u001b[0m\u001b[0;34m\u001b[0m\u001b[0;34m\u001b[0m\u001b[0m\n",
      "\u001b[0;32m/home/prakashjha/.local/lib/python3.6/site-packages/pandas/io/parsers.py\u001b[0m in \u001b[0;36m__init__\u001b[0;34m(self, src, **kwds)\u001b[0m\n\u001b[1;32m   1851\u001b[0m         \u001b[0mkwds\u001b[0m\u001b[0;34m[\u001b[0m\u001b[0;34m'usecols'\u001b[0m\u001b[0;34m]\u001b[0m \u001b[0;34m=\u001b[0m \u001b[0mself\u001b[0m\u001b[0;34m.\u001b[0m\u001b[0musecols\u001b[0m\u001b[0;34m\u001b[0m\u001b[0;34m\u001b[0m\u001b[0m\n\u001b[1;32m   1852\u001b[0m \u001b[0;34m\u001b[0m\u001b[0m\n\u001b[0;32m-> 1853\u001b[0;31m         \u001b[0mself\u001b[0m\u001b[0;34m.\u001b[0m\u001b[0m_reader\u001b[0m \u001b[0;34m=\u001b[0m \u001b[0mparsers\u001b[0m\u001b[0;34m.\u001b[0m\u001b[0mTextReader\u001b[0m\u001b[0;34m(\u001b[0m\u001b[0msrc\u001b[0m\u001b[0;34m,\u001b[0m \u001b[0;34m**\u001b[0m\u001b[0mkwds\u001b[0m\u001b[0;34m)\u001b[0m\u001b[0;34m\u001b[0m\u001b[0;34m\u001b[0m\u001b[0m\n\u001b[0m\u001b[1;32m   1854\u001b[0m         \u001b[0mself\u001b[0m\u001b[0;34m.\u001b[0m\u001b[0munnamed_cols\u001b[0m \u001b[0;34m=\u001b[0m \u001b[0mself\u001b[0m\u001b[0;34m.\u001b[0m\u001b[0m_reader\u001b[0m\u001b[0;34m.\u001b[0m\u001b[0munnamed_cols\u001b[0m\u001b[0;34m\u001b[0m\u001b[0;34m\u001b[0m\u001b[0m\n\u001b[1;32m   1855\u001b[0m \u001b[0;34m\u001b[0m\u001b[0m\n",
      "\u001b[0;32mpandas/_libs/parsers.pyx\u001b[0m in \u001b[0;36mpandas._libs.parsers.TextReader.__cinit__\u001b[0;34m()\u001b[0m\n",
      "\u001b[0;32mpandas/_libs/parsers.pyx\u001b[0m in \u001b[0;36mpandas._libs.parsers.TextReader._setup_parser_source\u001b[0;34m()\u001b[0m\n",
      "\u001b[0;31mFileNotFoundError\u001b[0m: [Errno 2] File b'intrusion_detection.csv' does not exist: b'intrusion_detection.csv'"
     ]
    }
   ],
   "source": [
    "X_train, X_validation, Y_train, Y_validation = data_preprocessing()\n",
    "\n",
    "bottleneck_layer_neurons = 17\n",
    "\n",
    "bottleneck_layer_index = 1\n",
    "learning_rate = 0.01\n",
    "epochs = 1000\n",
    "act_func = [\"linear\",\"linear\"]\n",
    "layers = [X_train.shape[1],17,X_train.shape[1]]\n",
    "\n",
    "C_X_train, C_X_validation = encode_data(X_train,X_validation,bottleneck_layer_index,act_func,layers,learning_rate,epochs)"
   ]
  },
  {
   "cell_type": "code",
   "execution_count": null,
   "metadata": {
    "ExecuteTime": {
     "end_time": "2019-04-13T10:05:23.956006Z",
     "start_time": "2019-04-13T10:05:18.804Z"
    }
   },
   "outputs": [],
   "source": [
    "X_train, X_validation, Y_train, Y_validation = data_preprocessing()\n",
    "bottleneck_layer_neurons = 17\n",
    "\n",
    "bottleneck_layer_index = 2\n",
    "learning_rate = 0.001\n",
    "epochs = 1000\n",
    "act_func = [\"linear\",\"relu\",\"relu\",\"linear\"]\n",
    "layers = [X_train.shape[1],25,bottleneck_layer_neurons,25,X_train.shape[1]]\n",
    "\n",
    "C_X_train, C_X_validation = encode_data(X_train,X_validation,bottleneck_layer_index,act_func,layers,learning_rate,epochs)"
   ]
  },
  {
   "cell_type": "markdown",
   "metadata": {},
   "source": [
    "# K Means Clustering Algorithm Implementation"
   ]
  },
  {
   "cell_type": "code",
   "execution_count": null,
   "metadata": {
    "ExecuteTime": {
     "end_time": "2019-04-13T10:05:23.956741Z",
     "start_time": "2019-04-13T10:05:18.811Z"
    },
    "code_folding": [
     0
    ]
   },
   "outputs": [],
   "source": [
    "class K_Means():\n",
    "\n",
    "    def __init__(self, k = 5, error_tolerance = 0.0000000001, max_iterations = 100):\n",
    "        self.k = k\n",
    "        self.error_tolerance = error_tolerance\n",
    "        self.max_iterations = max_iterations\n",
    "        \n",
    "    def euclidean_distance(self,data_row, centroid, axis = 1):\n",
    "        return np.linalg.norm(data_row - centroid, axis = axis)\n",
    "    \n",
    "    def initialize_centroids(self,data):\n",
    "        self.centroids = []\n",
    "        \n",
    "        for index in range(self.k):\n",
    "            data_index = random.randint(0,data.shape[0])\n",
    "            self.centroids.append(data[data_index,:])\n",
    "            \n",
    "        self.centroids = np.asarray(self.centroids) \n",
    "\n",
    "    def find_centroid_label(self,X_data,y):\n",
    "        \n",
    "        centroid_label_dict = {}\n",
    "        \n",
    "        self.cluster_purity = {}\n",
    "        \n",
    "        data_index = 0\n",
    "        \n",
    "        for row in X_data:\n",
    "            \n",
    "            distances = self.euclidean_distance(row,self.centroids)\n",
    "            closest_cluster_index = np.argmin(distances)\n",
    "            if closest_cluster_index not in centroid_label_dict:\n",
    "                centroid_label_dict[closest_cluster_index] = []\n",
    "            centroid_label_dict[closest_cluster_index].append(y[data_index])\n",
    "        \n",
    "            data_index += 1\n",
    "        \n",
    "        for key,values in centroid_label_dict.items():\n",
    "            \n",
    "            value,counts = np.unique(np.asarray(values), return_counts = True)\n",
    "            centroid_label_occurence = -np.sort(-counts)[0]\n",
    "            self.cluster_purity[key] = centroid_label_occurence/np.sum(counts)\n",
    "            \n",
    "            centroid_label_dict[key] = copy.deepcopy(max(set(values),key=values.count))\n",
    "        \n",
    "        return centroid_label_dict\n",
    "        \n",
    "    def fit(self,X_data,y):\n",
    "        self.initialize_centroids(X_data)\n",
    "        \n",
    "        cluster = np.zeros(X_data.shape[0])\n",
    "        \n",
    "        old_centriod = np.zeros(self.centroids.shape)\n",
    "        \n",
    "        error = self.euclidean_distance(self.centroids, old_centriod, None)\n",
    "        \n",
    "        inter = 0\n",
    "        while inter<self.max_iterations or error > self.error_tolerance:\n",
    "            inter += 1\n",
    "            \n",
    "            index = 0\n",
    "            for row in X_data:\n",
    "                distances = self.euclidean_distance(row,self.centroids)\n",
    "                \n",
    "    \n",
    "                closest_cluster_index = np.argmin(distances)\n",
    "                cluster[index] = closest_cluster_index\n",
    "                index += 1\n",
    "        \n",
    "  \n",
    "            old_centriod = copy.deepcopy(self.centroids)\n",
    "\n",
    "            for i in range(self.k):\n",
    "          \n",
    "                data_points = [X_data[j] for j in range(len(X_data)) if cluster[j] == i]\n",
    "                if data_points:\n",
    "         \n",
    "                    self.centroids[i] = copy.deepcopy(np.mean(data_points, axis=0))\n",
    "                del data_points\n",
    "            \n",
    "            error = self.euclidean_distance(old_centriod, self.centroids,1)\n",
    "            error = np.sum(error)\n",
    "            \n",
    "        self.centroid_label_dict = self.find_centroid_label(X_data,y)\n",
    "    \n",
    "    def predict(self,X_data):\n",
    "        \n",
    "        y_predicted = np.zeros(X_data.shape[0])\n",
    "        \n",
    "        index = 0\n",
    "        for row in X_data:\n",
    "\n",
    "            distances = self.euclidean_distance(row,self.centroids)\n",
    "\n",
    "            closest_cluster_index = np.argmin(distances)\n",
    "            y_predicted[index] = self.centroid_label_dict[closest_cluster_index]\n",
    "            index += 1\n",
    "        \n",
    "        return y_predicted"
   ]
  },
  {
   "cell_type": "markdown",
   "metadata": {},
   "source": [
    "## Confusion Matrix Generation"
   ]
  },
  {
   "cell_type": "code",
   "execution_count": null,
   "metadata": {
    "ExecuteTime": {
     "end_time": "2019-04-13T10:05:23.957413Z",
     "start_time": "2019-04-13T10:05:18.822Z"
    },
    "code_folding": [
     0
    ]
   },
   "outputs": [],
   "source": [
    "def generate_confusion_matrix(y_actual,y_predicted):\n",
    "    \n",
    "    confusion_matrix = metrics.cluster.contingency_matrix(y_actual, y_predicted)\n",
    "    \n",
    "    return confusion_matrix "
   ]
  },
  {
   "cell_type": "markdown",
   "metadata": {},
   "source": [
    "## Accuracy Computation"
   ]
  },
  {
   "cell_type": "code",
   "execution_count": null,
   "metadata": {
    "ExecuteTime": {
     "end_time": "2019-04-13T10:05:23.958078Z",
     "start_time": "2019-04-13T10:05:18.827Z"
    },
    "code_folding": [
     0
    ]
   },
   "outputs": [],
   "source": [
    "def calculate_accuracy(y_actual,y_predicted):\n",
    "    \n",
    "    confusion_matrix = generate_confusion_matrix(y_actual,y_predicted)\n",
    "    \n",
    "    return np.sum(np.amax(confusion_matrix, axis=0))/np.sum(confusion_matrix)"
   ]
  },
  {
   "cell_type": "markdown",
   "metadata": {},
   "source": [
    "## Train and Evaluate K Means Model"
   ]
  },
  {
   "cell_type": "code",
   "execution_count": null,
   "metadata": {
    "ExecuteTime": {
     "end_time": "2019-04-13T10:05:23.958792Z",
     "start_time": "2019-04-13T10:05:18.831Z"
    },
    "code_folding": [
     0
    ]
   },
   "outputs": [],
   "source": [
    "def kmeans_train_evaluate(X_train, X_validation, y_train, y_validation,bottleneck_layer_index,act_func,layers,bottleneck_layer_neurons,no_of_clusters,learning_rate,epochs):\n",
    "    \n",
    "    \n",
    "    X, X_validation = encode_data(X_train,X_validation,bottleneck_layer_index,act_func,layers,learning_rate,epochs)\n",
    "    \n",
    "    X = feature_scaling(X)\n",
    "    \n",
    "    X_validation = scale_test_data(X_validation)\n",
    "    \n",
    "    print(\"Custom Implementation of K Means Clustering\")\n",
    "    \n",
    "    kmeans = K_Means(k = no_of_clusters)\n",
    "    kmeans.fit(X,y_train)\n",
    "\n",
    "    print()\n",
    "    for key,values in kmeans.cluster_purity.items():\n",
    "        print(\"Purity of cluster\",key, \" is: \", values)\n",
    "    print()\n",
    "    \n",
    "    print(\"Performance on train data\")\n",
    "    y_predicted = kmeans.predict(X)\n",
    "    print(np.unique(y_train.T),np.unique(y_predicted))\n",
    "    print(\"Accuracy: \",calculate_accuracy(y_train,y_predicted))\n",
    "    print()\n",
    "    \n",
    "    print(\"Clustering based on first two principal component using custom implementation\")\n",
    "    \n",
    "    plt.figure(figsize=(10, 20))\n",
    "    plt.subplot(2, 1, 1)\n",
    "    \n",
    "    plt.title('K Means clustering on training data based on Custom implementation')\n",
    "    plt.xlabel('Principal Component 1')\n",
    "    plt.ylabel('Principal Component 2')\n",
    "    \n",
    "    plt.scatter(X[:, 0], X[:, 1], c=y_predicted, s=40, cmap='viridis');\n",
    "    print(\"Performance on validation data\")\n",
    "    y_predicted = kmeans.predict(X_validation)\n",
    "    print(\"Accuracy: \",calculate_accuracy(y_validation,y_predicted))\n",
    "    \n",
    "    print()\n",
    "    \n",
    "    print(\"Scikit Learn Library Implementation of K Means Clustering\")\n",
    "\n",
    "    plt.subplot(2, 1, 2)\n",
    "    \n",
    "    k_means = KMeans(n_clusters=5, random_state=0)\n",
    "    \n",
    "    k_means.fit(X)\n",
    "        \n",
    "    print(\"Performance on train data\")\n",
    "    y_pred_train = k_means.predict(X)\n",
    "    print(\"Accuracy: \",calculate_accuracy(y_train,y_pred_train))\n",
    "    print()\n",
    "    print(\"Clustering based on first two principal component using Scikit Learn\")\n",
    "    \n",
    "    plt.title('K Means clustering on training data based on Scikit Learn library')\n",
    "    plt.xlabel('Principal Component 1')\n",
    "    plt.ylabel('Principal Component 2')\n",
    "    \n",
    "    plt.scatter(X[:, 0], X[:, 1], c=y_pred_train, s=40, cmap='viridis');\n",
    "    \n",
    "    print(\"Performance on validation data\")\n",
    "    y_pred_validation = k_means.predict(X_validation)\n",
    "    print(\"Accuracy: \",calculate_accuracy(y_validation,y_pred_validation))"
   ]
  },
  {
   "cell_type": "markdown",
   "metadata": {},
   "source": [
    "## Hierarchical Clustering"
   ]
  },
  {
   "cell_type": "code",
   "execution_count": null,
   "metadata": {
    "ExecuteTime": {
     "end_time": "2019-04-13T10:05:23.959509Z",
     "start_time": "2019-04-13T10:05:18.834Z"
    },
    "code_folding": [
     0
    ]
   },
   "outputs": [],
   "source": [
    "def hierarchial_clustering(X_train, X_validation, y_train, y_validation,linkage_type,bottleneck_layer_index,act_func,layers,bottleneck_layer_neurons,no_of_clusters,learning_rate,epochs):\n",
    "    \n",
    "    X, X_validation = encode_data(X_train,X_validation,bottleneck_layer_index,act_func,layers,learning_rate,epochs)\n",
    "    \n",
    "    X = feature_scaling(X)\n",
    "    \n",
    "    X_validation = scale_test_data(X_validation)\n",
    "    \n",
    "    Y = pdist(X)\n",
    "    Z = hierarchy.linkage(Y, method = linkage_type, metric = \"euclidean\")\n",
    "    T = hierarchy.fcluster(Z, no_of_clusters, criterion = \"maxclust\")\n",
    "    \n",
    "    lens = {}      \n",
    "    centroids = {} \n",
    "    for idx,clno in enumerate(T):\n",
    "        centroids.setdefault(clno,np.zeros(bottleneck_layer_neurons)) \n",
    "        centroids[clno] += X[idx,:]\n",
    "        lens.setdefault(clno,0)\n",
    "        lens[clno] += 1\n",
    "    \n",
    "    for clno in centroids:\n",
    "        centroids[clno] /= float(lens[clno])\n",
    "        \n",
    "    centroid_positions = []\n",
    "\n",
    "    \n",
    "    for key ,values in centroids.items():\n",
    "        centroid_positions.append(values.tolist())\n",
    "    \n",
    "    centroid_positions = np.asarray(centroid_positions)\n",
    "    \n",
    "    centroids_labels_dicts = {}\n",
    "    \n",
    "    index = 0\n",
    "    for row in X:\n",
    "        \n",
    "        distances = np.linalg.norm(row - centroid_positions, axis = 1)\n",
    "        \n",
    "        closest_cluster_index = np.argmin(distances)\n",
    "        \n",
    "        if closest_cluster_index not in centroids_labels_dicts:\n",
    "            centroids_labels_dicts[closest_cluster_index] = []\n",
    "\n",
    "        centroids_labels_dicts[closest_cluster_index].append(y_train[index])\n",
    "        \n",
    "        index += 1\n",
    "        \n",
    "    \n",
    "    print()\n",
    "    for key,values in centroids_labels_dicts.items():\n",
    "    \n",
    "        value,counts = np.unique(np.asarray(values), return_counts = True)\n",
    "\n",
    "        centroid_label_occurence = -np.sort(-counts)[0]\n",
    "        purity = centroid_label_occurence/np.sum(counts)\n",
    "        \n",
    "        print(\"Purity of cluster\",key, \" is: \", purity)\n",
    "        \n",
    "    print()\n",
    "    \n",
    "    Z = linkage(X, linkage_type)\n",
    "\n",
    "    plt.figure(figsize=(10, 20))\n",
    "    plt.subplot(3, 1, 1)\n",
    "    plt.title('Hierarchical Clustering Dendrogram')\n",
    "    plt.xlabel('Cluster Size')\n",
    "    plt.ylabel('Distance')\n",
    "    dendrogram(\n",
    "        Z,\n",
    "        truncate_mode='lastp', \n",
    "        p=no_of_clusters,  \n",
    "        show_leaf_counts=True,\n",
    "        leaf_rotation=90.,\n",
    "        leaf_font_size=12.,\n",
    "        show_contracted=True,\n",
    "    )\n",
    "    \n",
    "    \n",
    "    clustering_model = AgglomerativeClustering(affinity='euclidean',linkage=linkage_type,n_clusters=no_of_clusters)\n",
    "    clustering_model.fit(X)\n",
    "    \n",
    "    plt.subplot(3, 1, 2)  \n",
    "    plt.title('Hierarchical clustering on training data')\n",
    "    plt.xlabel('Principal Component 1')\n",
    "    plt.ylabel('Principal Component 2')\n",
    "    plt.scatter(X[:,0], X[:,1], c=clustering_model.labels_, cmap='viridis')  \n",
    "\n",
    "    y_train_predicted = clustering_model.fit_predict(X)\n",
    "    y_validation_predicted = clustering_model.fit_predict(X_validation)\n",
    "\n",
    "    plt.subplot(3, 1, 3)\n",
    "    plt.title('Hierarchical clustering on validation data')\n",
    "    plt.xlabel('Principal Component 1')\n",
    "    plt.ylabel('Principal Component 2')\n",
    "    plt.scatter(X_validation[:,0], X_validation[:,1], c=y_validation_predicted, cmap='viridis')\n",
    "    \n",
    "    plt.show()\n",
    "\n",
    "    print(\"Accuracy on train data: \",calculate_accuracy(y_train_predicted,y_train))\n",
    "\n",
    "    print(\"Accuracy on validation data: \",calculate_accuracy(y_validation_predicted,y_validation))"
   ]
  },
  {
   "cell_type": "code",
   "execution_count": null,
   "metadata": {
    "ExecuteTime": {
     "end_time": "2019-04-13T10:05:23.960368Z",
     "start_time": "2019-04-13T10:05:18.836Z"
    },
    "code_folding": [
     0
    ]
   },
   "outputs": [],
   "source": [
    "def train_evaluation_hierarical_model(X_train, X_validation, y_train, y_validation,linkage_type,bottleneck_layer_index,act_func,layers,bottleneck_layer_neurons,no_of_clusters,learning_rate,epochs):\n",
    "    \n",
    "    print()\n",
    "    print(\"Using linkage type \",linkage_type)\n",
    "    hierarchial_clustering(X_train, X_validation, y_train, y_validation,linkage_type,bottleneck_layer_index,act_func,layers,bottleneck_layer_neurons,no_of_clusters,learning_rate,epochs)\n",
    "\n",
    "    print()"
   ]
  },
  {
   "cell_type": "code",
   "execution_count": null,
   "metadata": {
    "ExecuteTime": {
     "end_time": "2019-04-13T10:05:23.961265Z",
     "start_time": "2019-04-13T10:05:18.841Z"
    },
    "code_folding": [
     0
    ]
   },
   "outputs": [],
   "source": [
    "def visualize_pie_chart(X_train, X_validation, y_train, y_validation,linkage_type,bottleneck_layer_index,act_func,layers,bottleneck_layer_neurons,no_of_clusters,learning_rate,epochs):\n",
    "    \n",
    "    X, X_validation = encode_data(X_train,X_validation,bottleneck_layer_index,act_func,layers,learning_rate,epochs)\n",
    "    \n",
    "    X = feature_scaling(X)\n",
    "    \n",
    "    X_validation = scale_test_data(X_validation)\n",
    "    \n",
    "    linkage_list = ['ward','single','average','complete']\n",
    "    \n",
    "    train_accuracy_list = []\n",
    "    validation_accuracy_list = []\n",
    "    \n",
    "    for linkage_type in linkage_list:\n",
    "    \n",
    "        clustering_model = AgglomerativeClustering(affinity='euclidean',linkage=linkage_type,n_clusters=no_of_clusters)\n",
    "        clustering_model.fit(X)\n",
    "\n",
    "        y_train_predicted = clustering_model.fit_predict(X)\n",
    "        y_validation_predicted = clustering_model.fit_predict(X_validation)\n",
    "        \n",
    "        train_accuracy_list.append(calculate_accuracy(y_train_predicted,y_train))\n",
    "        validation_accuracy_list.append(calculate_accuracy(y_validation_predicted,y_validation))\n",
    "        \n",
    "    \n",
    "    train_df = pd.DataFrame({\n",
    "        \n",
    "        \"Linkage_Type\":linkage_list,\n",
    "        \"Accuracy\":train_accuracy_list\n",
    "    })\n",
    "    \n",
    "    validation_df = pd.DataFrame({\n",
    "        \n",
    "        \"Linkage_Type\":linkage_list,\n",
    "        \"Accuracy\":validation_accuracy_list\n",
    "    })\n",
    "    \n",
    "    print(train_df)\n",
    "    print(validation_df)\n",
    "    \n",
    "    train_accuracy = train_df.Accuracy.groupby(train_df.Linkage_Type).sum()\n",
    "    plt.axis('equal');\n",
    "    plt.pie(train_accuracy, labels=train_accuracy.index);\n",
    "    plt.show()\n",
    "    \n",
    "    validation_accuracy = validation_df.Accuracy.groupby(validation_df.Linkage_Type).sum()\n",
    "    plt.axis('equal');\n",
    "    plt.pie(validation_accuracy, labels=validation_accuracy.index);\n",
    "    plt.show()"
   ]
  },
  {
   "cell_type": "markdown",
   "metadata": {},
   "source": [
    "# Gaussian Mixture Model "
   ]
  },
  {
   "cell_type": "code",
   "execution_count": null,
   "metadata": {
    "ExecuteTime": {
     "end_time": "2019-04-13T10:05:23.962267Z",
     "start_time": "2019-04-13T10:05:18.844Z"
    },
    "code_folding": [
     0
    ]
   },
   "outputs": [],
   "source": [
    "def gausian_mixture_model(X_train, X_validation, y_train, y_validation,bottleneck_layer_index,act_func,layers,bottleneck_layer_neurons,no_of_clusters,learning_rate,epochs):\n",
    "\n",
    "    X, X_validation = encode_data(X_train,X_validation,bottleneck_layer_index,act_func,layers,learning_rate,epochs)\n",
    "    \n",
    "    X = feature_scaling(X)\n",
    "    \n",
    "    X_validation = scale_test_data(X_validation)\n",
    "    \n",
    "    gmm = GaussianMixture(n_components=no_of_clusters).fit(X)\n",
    "    y_train_predicted = gmm.predict(X)\n",
    "    \n",
    "    \n",
    "    centroids_labels_dicts = {}\n",
    "    \n",
    "    index = 0\n",
    "    for row in X:\n",
    "        \n",
    "        distances = np.linalg.norm(row - gmm.means_, axis = 1)\n",
    "        \n",
    "        closest_cluster_index = np.argmin(distances)\n",
    "        \n",
    "        if closest_cluster_index not in centroids_labels_dicts:\n",
    "            centroids_labels_dicts[closest_cluster_index] = []\n",
    "                \n",
    "        centroids_labels_dicts[closest_cluster_index].append(y_train[index])\n",
    "        \n",
    "        index += 1\n",
    "        \n",
    "    \n",
    "    print()\n",
    "    for key,values in centroids_labels_dicts.items():\n",
    "    \n",
    "        value,counts = np.unique(np.asarray(values), return_counts = True)\n",
    "        centroid_label_occurence = -np.sort(-counts)[0]\n",
    "        purity = centroid_label_occurence/np.sum(counts)\n",
    "        \n",
    "        print(\"Purity of cluster\",key, \" is: \", purity)\n",
    "        print()\n",
    "    print()\n",
    "    \n",
    "    plt.figure(figsize=(10, 20))\n",
    "    plt.subplot(2, 1, 1)\n",
    "    \n",
    "    plt.title('GMM clustering on train data')\n",
    "    plt.xlabel('Principal Component 1')\n",
    "    plt.ylabel('Principal Component 2')\n",
    "    plt.scatter(X[:,0], X[:,1], c = y_train_predicted, s=40, cmap='viridis')\n",
    "     \n",
    "    y_validation_predicted = gmm.predict(X_validation)\n",
    "    \n",
    "    print()\n",
    "    print()\n",
    "    \n",
    "    plt.subplot(2, 1, 2)\n",
    "    \n",
    "    plt.title('GMM clustering on train data')\n",
    "    plt.xlabel('Principal Component 1')\n",
    "    plt.ylabel('Principal Component 2')\n",
    "    plt.scatter(X_validation[:,0], X_validation[:,1], c = y_validation_predicted, s=40, cmap='viridis')\n",
    "        \n",
    "    print(\"Accuracy on train dataset: \",calculate_accuracy(y_train, y_train_predicted))\n",
    "    print(\"Accuracy on validation dataset: \",calculate_accuracy(y_validation, y_validation_predicted))"
   ]
  },
  {
   "cell_type": "markdown",
   "metadata": {},
   "source": [
    "## K Means Clustering Using 3 Layer AutoEncoder"
   ]
  },
  {
   "cell_type": "code",
   "execution_count": null,
   "metadata": {
    "ExecuteTime": {
     "end_time": "2019-04-13T10:05:23.963190Z",
     "start_time": "2019-04-13T10:05:18.848Z"
    },
    "scrolled": true
   },
   "outputs": [],
   "source": [
    "bottleneck_layer_neurons = 17\n",
    "no_of_clusters = 5\n",
    "bottleneck_layer_index = 1\n",
    "learning_rate = 0.01\n",
    "epochs = 2000\n",
    "act_func = [\"linear\",\"linear\"]\n",
    "\n",
    "X_train, X_validation, y_train, y_validation = data_preprocessing()\n",
    "layers = [X_train.shape[1],bottleneck_layer_neurons,X_train.shape[1]]\n",
    "\n",
    "kmeans_train_evaluate(X_train, X_validation, y_train, y_validation,bottleneck_layer_index,act_func,layers,bottleneck_layer_neurons,no_of_clusters,learning_rate,epochs)"
   ]
  },
  {
   "cell_type": "markdown",
   "metadata": {},
   "source": [
    "## K Means Clustering Using Deep AutoEncoder"
   ]
  },
  {
   "cell_type": "code",
   "execution_count": null,
   "metadata": {
    "ExecuteTime": {
     "end_time": "2019-04-13T10:05:23.964161Z",
     "start_time": "2019-04-13T10:05:18.853Z"
    },
    "scrolled": true
   },
   "outputs": [],
   "source": [
    "bottleneck_layer_neurons = 17\n",
    "no_of_clusters = 5\n",
    "bottleneck_layer_index = 2\n",
    "learning_rate = 0.001\n",
    "epochs = 2000\n",
    "act_func = [\"relu\",\"relu\",\"relu\",\"relu\"]\n",
    "\n",
    "X_train, X_validation, y_train, y_validation = data_preprocessing()\n",
    "layers = [X_train.shape[1],25,bottleneck_layer_neurons,25,X_train.shape[1]]\n",
    "\n",
    "kmeans_train_evaluate(X_train, X_validation, y_train, y_validation,bottleneck_layer_index,act_func,layers,bottleneck_layer_neurons,no_of_clusters,learning_rate,epochs)"
   ]
  },
  {
   "cell_type": "markdown",
   "metadata": {},
   "source": [
    "## GMM Using 3 Layer AutoEncoder"
   ]
  },
  {
   "cell_type": "code",
   "execution_count": null,
   "metadata": {
    "ExecuteTime": {
     "end_time": "2019-04-13T10:05:23.965054Z",
     "start_time": "2019-04-13T10:05:18.856Z"
    },
    "scrolled": true
   },
   "outputs": [],
   "source": [
    "bottleneck_layer_neurons = 17\n",
    "no_of_clusters = 5\n",
    "bottleneck_layer_index = 1\n",
    "learning_rate = 0.01\n",
    "epochs = 2000\n",
    "act_func = [\"linear\",\"linear\"]\n",
    "\n",
    "X_train, X_validation, y_train, y_validation = data_preprocessing()\n",
    "\n",
    "layers = [X_train.shape[1],bottleneck_layer_neurons,X_train.shape[1]]\n",
    "\n",
    "gausian_mixture_model(X_train, X_validation, y_train, y_validation,bottleneck_layer_index,act_func,layers,bottleneck_layer_neurons,no_of_clusters,learning_rate,epochs)"
   ]
  },
  {
   "cell_type": "markdown",
   "metadata": {},
   "source": [
    "## GMM Using Deep AutoEncoder"
   ]
  },
  {
   "cell_type": "code",
   "execution_count": null,
   "metadata": {
    "ExecuteTime": {
     "end_time": "2019-04-13T10:05:23.966102Z",
     "start_time": "2019-04-13T10:05:18.859Z"
    },
    "scrolled": true
   },
   "outputs": [],
   "source": [
    "bottleneck_layer_neurons = 17\n",
    "no_of_clusters = 5\n",
    "bottleneck_layer_index = 1\n",
    "learning_rate = 0.001\n",
    "epochs = 2000\n",
    "act_func = [\"relu\",\"relu\",\"relu\",\"relu\"]\n",
    "\n",
    "X_train, X_validation, y_train, y_validation = data_preprocessing()\n",
    "\n",
    "layers = [X_train.shape[1],25,bottleneck_layer_neurons,25,X_train.shape[1]]\n",
    "\n",
    "gausian_mixture_model(X_train, X_validation, y_train, y_validation,bottleneck_layer_index,act_func,layers,bottleneck_layer_neurons,no_of_clusters,learning_rate,epochs)"
   ]
  },
  {
   "cell_type": "markdown",
   "metadata": {},
   "source": [
    "## Hierarchical Clustering Model Using 3 Layer AutoEncoder"
   ]
  },
  {
   "cell_type": "code",
   "execution_count": null,
   "metadata": {
    "ExecuteTime": {
     "end_time": "2019-04-13T10:05:23.967045Z",
     "start_time": "2019-04-13T10:05:18.862Z"
    }
   },
   "outputs": [],
   "source": [
    "bottleneck_layer_neurons = 5\n",
    "no_of_clusters = 5\n",
    "bottleneck_layer_index = 1\n",
    "learning_rate = 0.01\n",
    "epochs = 1500\n",
    "act_func = [\"linear\",\"linear\"]\n",
    "\n",
    "X_train, X_validation, y_train, y_validation = data_preprocessing()\n",
    "\n",
    "layers = [X_train.shape[1],bottleneck_layer_neurons,X_train.shape[1]]\n",
    "\n",
    "linkage_type = \"ward\" #single, complete, average\n",
    "train_evaluation_hierarical_model(X_train, X_validation, y_train, y_validation,linkage_type,bottleneck_layer_index,act_func,layers,bottleneck_layer_neurons,no_of_clusters,learning_rate,epochs)\n",
    "\n",
    "visualize_pie_chart(X_train, X_validation, y_train, y_validation,linkage_type,bottleneck_layer_index,act_func,layers,bottleneck_layer_neurons,no_of_clusters,learning_rate,epochs)"
   ]
  },
  {
   "cell_type": "markdown",
   "metadata": {},
   "source": [
    "## Hierarchical Clustering Model Using Deep AutoEncoder"
   ]
  },
  {
   "cell_type": "code",
   "execution_count": null,
   "metadata": {
    "ExecuteTime": {
     "end_time": "2019-04-13T10:05:23.968050Z",
     "start_time": "2019-04-13T10:05:18.865Z"
    },
    "scrolled": true
   },
   "outputs": [],
   "source": [
    "bottleneck_layer_neurons = 5\n",
    "no_of_clusters = 5\n",
    "bottleneck_layer_index = 2\n",
    "learning_rate = 0.001\n",
    "epochs = 1500\n",
    "act_func = [\"relu\",\"relu\",\"relu\",\"relu\"]\n",
    "\n",
    "X_train, X_validation, y_train, y_validation = data_preprocessing()\n",
    "\n",
    "layers = [X_train.shape[1],25,bottleneck_layer_neurons,25,X_train.shape[1]]\n",
    "\n",
    "# linkage_type = \"ward\" #single, complete, average\n",
    "# train_evaluation_hierarical_model(X_train, X_validation, y_train, y_validation,linkage_type,bottleneck_layer_index,act_func,layers,bottleneck_layer_neurons,no_of_clusters,learning_rate,epochs)\n",
    "\n",
    "visualize_pie_chart(X_train, X_validation, y_train, y_validation,linkage_type,bottleneck_layer_index,act_func,layers,bottleneck_layer_neurons,no_of_clusters,learning_rate,epochs)"
   ]
  }
 ],
 "metadata": {
  "kernelspec": {
   "display_name": "Python 3",
   "language": "python",
   "name": "python3"
  },
  "language_info": {
   "codemirror_mode": {
    "name": "ipython",
    "version": 3
   },
   "file_extension": ".py",
   "mimetype": "text/x-python",
   "name": "python",
   "nbconvert_exporter": "python",
   "pygments_lexer": "ipython3",
   "version": "3.6.7"
  }
 },
 "nbformat": 4,
 "nbformat_minor": 2
}
