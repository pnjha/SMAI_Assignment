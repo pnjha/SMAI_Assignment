{
 "cells": [
  {
   "cell_type": "markdown",
   "metadata": {},
   "source": [
    "# Linear Regression Using Gradient Descent"
   ]
  },
  {
   "cell_type": "markdown",
   "metadata": {},
   "source": [
    "# Packages Import"
   ]
  },
  {
   "cell_type": "code",
   "execution_count": 21,
   "metadata": {},
   "outputs": [],
   "source": [
    "import numpy as np\n",
    "import pandas as pd\n",
    "import ssl\n",
    "import matplotlib.pyplot as plt\n",
    "import seaborn as sns\n",
    "get_ipython().magic(u'matplotlib inline')\n",
    "\n",
    "from sklearn.model_selection import train_test_split\n",
    "from sklearn.metrics import mean_squared_error, r2_score\n",
    "import itertools\n",
    "import random\n",
    "from pprint import pprint"
   ]
  },
  {
   "cell_type": "markdown",
   "metadata": {},
   "source": [
    "# Using Gradient Descent For Model Training"
   ]
  },
  {
   "cell_type": "code",
   "execution_count": 22,
   "metadata": {},
   "outputs": [],
   "source": [
    "def feature_scaling(train_data):\n",
    "    \n",
    "    no_of_columns = train_data.shape[1]\n",
    "    \n",
    "    global sd_mean_list\n",
    "    \n",
    "    sd_mean_list = []\n",
    "    \n",
    "    for index in range(no_of_columns-1):\n",
    "\n",
    "        sd_val = np.std(train_data[:,index+1])\n",
    "        mean_val = np.mean(train_data[:,index+1])\n",
    "        train_data[:,index+1] = (train_data[:,index+1] - mean_val)/(sd_val)\n",
    "        \n",
    "        sd_mean_list.append([sd_val,mean_val])\n",
    "        \n",
    "    return train_data"
   ]
  },
  {
   "cell_type": "markdown",
   "metadata": {},
   "source": [
    "## Scaling Test dataset based on train dataset mean and standard deviation"
   ]
  },
  {
   "cell_type": "code",
   "execution_count": 23,
   "metadata": {},
   "outputs": [],
   "source": [
    "def scale_test_data(X_test):\n",
    "    \n",
    "    global sd_mean_list\n",
    "    \n",
    "    for test_row in X_test:\n",
    "        \n",
    "        for index in range(len(test_row)-1):\n",
    "\n",
    "            mean = sd_mean_list[index][1]\n",
    "            sd = sd_mean_list[index][0]\n",
    "\n",
    "            test_row[index+1] = (test_row[index+1] - mean)/sd\n",
    "\n",
    "    return X_test\n",
    "    "
   ]
  },
  {
   "cell_type": "markdown",
   "metadata": {},
   "source": [
    "## Data Preprocessing"
   ]
  },
  {
   "cell_type": "code",
   "execution_count": 24,
   "metadata": {},
   "outputs": [],
   "source": [
    "def data_preprocessing():\n",
    "    \n",
    "    \n",
    "    df = pd.read_csv(\"admission_dataset.csv\")\n",
    "    \n",
    "    df.drop([\"Serial No.\"],inplace = True, axis = 1)\n",
    "    \n",
    "    length = df.values.shape[0]\n",
    "    \n",
    "    df[\"bias\"] = [1]*length\n",
    "\n",
    "    cols = df.columns.tolist()\n",
    "    cols = ['bias', 'GRE Score', 'TOEFL Score', 'University Rating', 'SOP', 'LOR ', 'CGPA', 'Research', 'Chance of Admit ']\n",
    "    df = df[cols]\n",
    "    \n",
    "    X = df.iloc[:,0:-1]\n",
    "    Y = df.iloc[:,-1]\n",
    "    \n",
    "    X_train, X_test, Y_train, Y_test = train_test_split(X, Y, test_size = 0.2, random_state = 0)\n",
    "    \n",
    "    \n",
    "    Y_train = pd.DataFrame(Y_train)\n",
    "    Y_train = Y_train.values\n",
    "\n",
    "    \n",
    "    Y_test = pd.DataFrame(Y_test)\n",
    "    Y_test = Y_test.values\n",
    "    \n",
    "    \n",
    "    X_train = feature_scaling(X_train.values)\n",
    "\n",
    "    X_test = X_test.values\n",
    "    \n",
    "    \n",
    "    return X_train, X_test, Y_train, Y_test "
   ]
  },
  {
   "cell_type": "markdown",
   "metadata": {},
   "source": [
    "## Gradient Descent"
   ]
  },
  {
   "cell_type": "code",
   "execution_count": 25,
   "metadata": {},
   "outputs": [],
   "source": [
    "def gradient_descent(X_train,Y_train):\n",
    "\n",
    "    global prediction_error_list, iterations, parameters_change_over_time\n",
    "    \n",
    "    iterations = []\n",
    "    prediction_error_list = []\n",
    "    parameters_change_over_time = []\n",
    "    \n",
    "    learning_rate = 0.01\n",
    "    \n",
    "    error_tolerance = 1e-06\n",
    "\n",
    "    maximum_iterations = 10000\n",
    "    \n",
    "    no_of_columns = X_train.shape[1]\n",
    "    \n",
    "    constant_term = 0\n",
    "    \n",
    "    parameter_list = np.zeros(no_of_columns)\n",
    "    parameter_list = pd.DataFrame(parameter_list)\n",
    "    parameter_list = parameter_list.values.T\n",
    "\n",
    "    count = 0\n",
    "    \n",
    "    \n",
    "    for index in range(maximum_iterations):\n",
    "\n",
    "        mse = (np.sum(np.square(np.dot(X_train , parameter_list.T) - Y_train)))/(X_train.shape[0])\n",
    "        \n",
    "        if mse < error_tolerance:\n",
    "            break\n",
    "        \n",
    "        gradient = (learning_rate/X_train.shape[0]) * np.dot(X_train.T,(np.dot(X_train , parameter_list.T) - Y_train))\n",
    "        \n",
    "        parameter_list = parameter_list - gradient.T\n",
    "\n",
    "        if index <= 300 and index%10 == 0:\n",
    "            iterations.append(index+1)\n",
    "            prediction_error_list.append(mse)\n",
    "            parameters_change_over_time.append(parameter_list.tolist()[0])\n",
    "        \n",
    "        \n",
    "    return parameter_list"
   ]
  },
  {
   "cell_type": "markdown",
   "metadata": {},
   "source": [
    "## Train Model"
   ]
  },
  {
   "cell_type": "code",
   "execution_count": 26,
   "metadata": {},
   "outputs": [],
   "source": [
    "def train_classifier(X_train,Y_train):\n",
    "    \n",
    "    global parameter_list\n",
    "    \n",
    "    parameter_list = gradient_descent(X_train,Y_train)\n",
    "    \n",
    "    return parameter_list"
   ]
  },
  {
   "cell_type": "markdown",
   "metadata": {},
   "source": [
    "## Testing Model Using Validation Data "
   ]
  },
  {
   "cell_type": "code",
   "execution_count": 27,
   "metadata": {
    "scrolled": true
   },
   "outputs": [],
   "source": [
    "def model_train_validation():\n",
    "    \n",
    "    X_train, X_test, Y_train, Y_test = data_preprocessing()\n",
    "\n",
    "    parameter_list = train_classifier(X_train,Y_train)\n",
    "\n",
    "    X_test = scale_test_data(X_test)\n",
    "\n",
    "    Y_test_predicted = np.dot(parameter_list,X_test.T)\n",
    "    \n",
    "    print()\n",
    "    print(\"Result on Validation data\")\n",
    "    print()\n",
    "    print(\"R2 Score: \",calculate_r2_score(Y_test_predicted,Y_test))\n",
    "    print(\"Mean Square Error: \",calculate_mse(Y_test_predicted,Y_test))\n",
    "    print(\"Mean Absolute Error: \",calculate_mea(Y_test_predicted,Y_test))\n",
    "    print(\"Mean Percentage Error: \",calculate_mpe(Y_test_predicted,Y_test))\n",
    "\n",
    "    return parameter_list"
   ]
  },
  {
   "cell_type": "markdown",
   "metadata": {},
   "source": [
    "# Calculate Metrics"
   ]
  },
  {
   "cell_type": "markdown",
   "metadata": {},
   "source": [
    "## R2 Score Calculation"
   ]
  },
  {
   "cell_type": "code",
   "execution_count": 2,
   "metadata": {
    "ExecuteTime": {
     "end_time": "2019-02-12T16:18:36.383683Z",
     "start_time": "2019-02-12T16:18:36.374670Z"
    }
   },
   "outputs": [],
   "source": [
    "def calculate_r2_score(y_predicted,y_test):\n",
    "\n",
    "    sum_of_sq = 0\n",
    "    \n",
    "    mean_y_test = np.mean(y_test)\n",
    "    \n",
    "    sum_of_sq = np.sum(np.square(y_test-mean_y_test))\n",
    "    \n",
    "    sum_tot = np.sum(np.square(y_test - y_predicted))\n",
    "    \n",
    "    r2_score = 1-(sum_tot/sum_of_sq)\n",
    "    \n",
    "    return r2_score"
   ]
  },
  {
   "cell_type": "markdown",
   "metadata": {},
   "source": [
    "## Mean Square Error Calculation"
   ]
  },
  {
   "cell_type": "code",
   "execution_count": 29,
   "metadata": {},
   "outputs": [],
   "source": [
    "def calculate_mse(y_predicted, y_test):\n",
    "    \n",
    "    no_of_rows = y_test.shape[0]\n",
    "    \n",
    "    mse = (np.sum(np.square(y_test - y_predicted)))/no_of_rows\n",
    "    \n",
    "    return mse\n",
    "    "
   ]
  },
  {
   "cell_type": "markdown",
   "metadata": {},
   "source": [
    "## Mean Absolute Error Calculation"
   ]
  },
  {
   "cell_type": "code",
   "execution_count": 30,
   "metadata": {},
   "outputs": [],
   "source": [
    "def calculate_mea(y_predicted, y_test):\n",
    "\n",
    "    no_of_rows = y_test.shape[0]\n",
    "    \n",
    "    mea = (np.sum(abs(y_test - y_predicted)))/no_of_rows\n",
    "    \n",
    "    return mea"
   ]
  },
  {
   "cell_type": "markdown",
   "metadata": {
    "ExecuteTime": {
     "end_time": "2019-02-12T16:18:32.714498Z",
     "start_time": "2019-02-12T16:18:32.710299Z"
    }
   },
   "source": [
    "## Mean Percentage Error Calculation"
   ]
  },
  {
   "cell_type": "code",
   "execution_count": 31,
   "metadata": {},
   "outputs": [],
   "source": [
    "def calculate_mpe(y_predicted, y_test):\n",
    "    \n",
    "    no_of_rows = y_test.shape[0]\n",
    "\n",
    "    mpe = np.sum((y_test - y_predicted)/y_test)\n",
    "    \n",
    "    mpe = (1/no_of_rows)*mpe\n",
    "    \n",
    "    return mpe"
   ]
  },
  {
   "cell_type": "markdown",
   "metadata": {},
   "source": [
    "# Using Scikit Learn Library"
   ]
  },
  {
   "cell_type": "code",
   "execution_count": 32,
   "metadata": {
    "scrolled": true
   },
   "outputs": [],
   "source": [
    "def model_using_sklearn():\n",
    "    \n",
    "    from sklearn.linear_model import LinearRegression\n",
    "    from sklearn.model_selection import train_test_split\n",
    "    from sklearn.metrics import r2_score\n",
    "\n",
    "\n",
    "    dataset = pd.read_csv('admission_dataset.csv')\n",
    "    x = dataset.iloc[:, 1:-1].values\n",
    "    y = dataset.iloc[:, -1].values\n",
    "\n",
    "    xTrain, xTest, yTrain, yTest = train_test_split(x, y, test_size = .2, random_state = 0)\n",
    "\n",
    "    linearRegressor = LinearRegression()\n",
    "    linearRegressor.fit(xTrain, yTrain)\n",
    "    yPrediction = linearRegressor.predict(xTest)\n",
    "\n",
    "    print()\n",
    "    print(\"Using Sklearn Library On Validation Data\")\n",
    "    print()\n",
    "\n",
    "    print(\"R2 Score: \",calculate_r2_score(yPrediction,yTest))\n",
    "    print(\"Mean Square Error: \",calculate_mse(yPrediction,yTest))\n",
    "    print(\"Mean Absolute Error: \",calculate_mea(yPrediction,yTest))\n",
    "    print(\"Mean Percentage Error: \",calculate_mpe(yPrediction,yTest))\n",
    "    \n",
    "    return linearRegressor\n"
   ]
  },
  {
   "cell_type": "code",
   "execution_count": 33,
   "metadata": {},
   "outputs": [],
   "source": [
    "def evaluation_sk_learn(filename):\n",
    "    \n",
    "    linearRegressor = model_using_sklearn()\n",
    "\n",
    "    dataset = pd.read_csv(filename)\n",
    "    x = dataset.iloc[:, 1:-1].values\n",
    "    y = dataset.iloc[:, -1].values\n",
    "\n",
    "    \n",
    "    yPrediction = linearRegressor.predict(x)\n",
    "\n",
    "    print()\n",
    "    print(\"Using Sklearn Library On Test Data\")\n",
    "    print()\n",
    "\n",
    "    print(\"R2 Score: \",calculate_r2_score(yPrediction,y))\n",
    "    print(\"Mean Square Error: \",calculate_mse(yPrediction,y))\n",
    "    print(\"Mean Absolute Error: \",calculate_mea(yPrediction,y))\n",
    "    print(\"Mean Percentage Error: \",calculate_mpe(yPrediction,y))\n",
    "    "
   ]
  },
  {
   "cell_type": "markdown",
   "metadata": {},
   "source": [
    "# Using Normal Equation For Model Training"
   ]
  },
  {
   "cell_type": "code",
   "execution_count": 34,
   "metadata": {},
   "outputs": [
    {
     "name": "stdout",
     "output_type": "stream",
     "text": [
      "R2 Score:  0.7732955450686257\n",
      "Mean Square Error:  0.0032450195796833795\n",
      "Mean Absolute Error:  0.0419965072776302\n",
      "Mean Percentage Error:  0.0009783869771530522\n"
     ]
    }
   ],
   "source": [
    "df = pd.read_csv(\"admission_dataset.csv\")\n",
    "df.drop([\"Serial No.\"],inplace = True, axis = 1)\n",
    "\n",
    "length = len(df.values)\n",
    "\n",
    "df[\"bias\"] = [1]*length\n",
    "\n",
    "cols = df.columns.tolist()\n",
    "\n",
    "cols = ['bias', 'GRE Score', 'TOEFL Score', 'University Rating', 'SOP', 'LOR ', 'CGPA', 'Research', 'Chance of Admit ']\n",
    "df = df[cols]\n",
    "\n",
    "\n",
    "X = df.iloc[:,0:-1]\n",
    "Y = df.iloc[:,-1]\n",
    "\n",
    "X_train, X_test, Y_train, Y_test = train_test_split(X, Y, test_size = 0.2, random_state = 0)\n",
    "\n",
    "\n",
    "X_train = X_train\n",
    "X_test = X_test\n",
    "Y_test = Y_test.values\n",
    "Y_train = Y_train.values\n",
    "\n",
    "model = np.dot(np.dot(np.linalg.inv(np.dot(X_train.T,X_train)),X_train.T),Y_train)\n",
    "\n",
    "Y_test_predicted = np.dot(X_test,model)\n",
    "\n",
    "print(\"R2 Score: \",calculate_r2_score(Y_test_predicted,Y_test))\n",
    "print(\"Mean Square Error: \",calculate_mse(Y_test_predicted,Y_test))\n",
    "print(\"Mean Absolute Error: \",calculate_mea(Y_test_predicted,Y_test))\n",
    "print(\"Mean Percentage Error: \",calculate_mpe(Y_test_predicted,Y_test))"
   ]
  },
  {
   "cell_type": "markdown",
   "metadata": {},
   "source": [
    "## Model Evaluation on both train and test dataset"
   ]
  },
  {
   "cell_type": "code",
   "execution_count": 35,
   "metadata": {},
   "outputs": [],
   "source": [
    "def evaluation(filename):\n",
    "    \n",
    "    global test_file_name\n",
    "    \n",
    "    test_file_name = filename\n",
    "    \n",
    "    #Train decision tree\n",
    "    parameter_list =  model_train_validation()\n",
    "    \n",
    "    df = pd.read_csv(filename)\n",
    "    \n",
    "    df.drop([\"Serial No.\"],inplace = True, axis = 1)\n",
    "    \n",
    "    length = df.values.shape[0]\n",
    "    \n",
    "    df[\"bias\"] = [1]*length\n",
    "\n",
    "    cols = df.columns.tolist()\n",
    "    cols = ['bias', 'GRE Score', 'TOEFL Score', 'University Rating', 'SOP', 'LOR ', 'CGPA', 'Research', 'Chance of Admit ']\n",
    "    df = df[cols]\n",
    "    \n",
    "    X = df.iloc[:,0:-1]\n",
    "    Y = df.iloc[:,-1]\n",
    "    \n",
    "    X = scale_test_data(X.values)\n",
    "    \n",
    "    Y_predicted = np.dot(X,parameter_list.T)\n",
    "    \n",
    "\n",
    "    Y = pd.DataFrame(Y)\n",
    "    Y = Y.values\n",
    "    \n",
    "    \n",
    "    print()\n",
    "    print(\"Result on Test Data\")\n",
    "    print()\n",
    "    print(\"R2 Score: \",calculate_r2_score(Y_predicted,Y))\n",
    "    print(\"Mean Square Error: \",calculate_mse(Y_predicted,Y))\n",
    "    print(\"Mean Absolute Error: \",calculate_mea(Y_predicted,Y))\n",
    "    print(\"Mean Percentage Error: \",calculate_mpe(Y_predicted,Y))\n",
    "    \n",
    "    print()\n",
    "    print()\n",
    "    print(\"Residual Plot Using Custom Implementation of Linear Regression\")\n",
    "    print()\n",
    "    \n",
    "    residual_plot(Y_predicted,Y)"
   ]
  },
  {
   "cell_type": "markdown",
   "metadata": {},
   "source": [
    "# Data Visualization"
   ]
  },
  {
   "cell_type": "code",
   "execution_count": 36,
   "metadata": {
    "scrolled": true
   },
   "outputs": [],
   "source": [
    "def error_vs_iteration_plot():\n",
    "    \n",
    "    global iterations, prediction_error_list\n",
    "    \n",
    "    prediction_error_df = pd.DataFrame(\n",
    "    {'Iterations': iterations,\n",
    "     'Error': prediction_error_list\n",
    "    })\n",
    "\n",
    "    prediction_error_df = prediction_error_df.melt('Iterations',  value_name='Error')\n",
    "    prediction_error_df_graph = sns.factorplot(x=\"Iterations\", y=\"Error\", data = prediction_error_df)\n"
   ]
  },
  {
   "cell_type": "code",
   "execution_count": 37,
   "metadata": {
    "scrolled": true
   },
   "outputs": [],
   "source": [
    "def error_vs_parameters():\n",
    "    \n",
    "    \n",
    "\n",
    "    global prediction_error_list,parameters_change_over_time\n",
    "\n",
    "\n",
    "    headers = ['Bias', 'GRE Score', 'TOEFL Score', 'University Rating', 'SOP', 'LOR', 'CGPA', 'Research']\n",
    "\n",
    "    parameters = pd.DataFrame(parameters_change_over_time, columns=headers)\n",
    "\n",
    "    parameters[\"Error\"] = prediction_error_list\n",
    "\n",
    "    iterations = []\n",
    "\n",
    "    for index in range(len(parameters)):\n",
    "        iterations.append(index+1)\n",
    "\n",
    "\n",
    "    parameters[\"Iterations\"] = iterations\n",
    "\n",
    "\n",
    "    f, ax = plt.subplots(1, 1)\n",
    "    x_col='Iterations'\n",
    "    y_col = 'Variations'\n",
    "\n",
    "    ax.plot(parameters.Iterations, parameters[\"SOP\"],  label=\"SOP\", linestyle=\"-\")\n",
    "    ax.plot(parameters.Iterations, parameters[\"LOR\"],  label=\"LOR\", linestyle=\"-\")\n",
    "    ax.plot(parameters.Iterations, parameters[\"CGPA\"], label=\"CGPA\", linestyle=\"-\")\n",
    "    ax.plot(parameters.Iterations, parameters[\"Research\"],  label=\"Research\", linestyle=\"-\")\n",
    "    ax.plot(parameters.Iterations, parameters[\"GRE Score\"],  label=\"GRE Score\", linestyle=\"-\")\n",
    "    ax.plot(parameters.Iterations, parameters[\"TOEFL Score\"], label=\"TOEFL Score\", linestyle=\"-\")\n",
    "    ax.plot(parameters.Iterations, parameters[\"University Rating\"],  label=\"University Rating\", linestyle=\"-\")\n",
    "\n",
    "    ax.set_xlabel('Iterations')\n",
    "    ax.set_ylabel('Variations of Coeffiecent of Features')\n",
    "\n",
    "    ax.legend()\n",
    "    plt.show()\n",
    "\n",
    "    f, axis = plt.subplots(1, 1)\n",
    "    x_col='Error'\n",
    "    y_col = 'Variations'\n",
    "\n",
    "    axis.plot(parameters.Error, parameters[\"SOP\"],  label=\"SOP\", linestyle=\"-\")\n",
    "    axis.plot(parameters.Error, parameters[\"LOR\"],  label=\"LOR\", linestyle=\"-\")\n",
    "    axis.plot(parameters.Error, parameters[\"CGPA\"], label=\"CGPA\", linestyle=\"-\")\n",
    "    axis.plot(parameters.Error, parameters[\"Research\"],  label=\"Research\", linestyle=\"-\")\n",
    "    axis.plot(parameters.Error, parameters[\"GRE Score\"],  label=\"GRE Score\", linestyle=\"-\")\n",
    "    axis.plot(parameters.Error, parameters[\"TOEFL Score\"], label=\"TOEFL Score\", linestyle=\"-\")\n",
    "    axis.plot(parameters.Error, parameters[\"University Rating\"],  label=\"University Rating\", linestyle=\"-\")\n",
    "\n",
    "    axis.set_xlabel('Error')\n",
    "    axis.set_ylabel('Variations of Coeffiecent of Features')\n",
    "\n",
    "    axis.invert_xaxis()\n",
    "\n",
    "    axis.legend()\n",
    "    plt.show()\n",
    "\n"
   ]
  },
  {
   "cell_type": "code",
   "execution_count": 38,
   "metadata": {},
   "outputs": [],
   "source": [
    "def residual_plot(ypredicted,ytest):\n",
    "    \n",
    "   \n",
    "    errors = ytest - ypredicted\n",
    "    \n",
    "    ypredict = list(itertools.chain(*ypredicted))\n",
    "    error = list(itertools.chain(*errors))\n",
    "    \n",
    "    residual_error_df = pd.DataFrame(\n",
    "    {'Prdeicted Values': ypredict,\n",
    "     'Error': error\n",
    "    })\n",
    "\n",
    "    residual_error_df = residual_error_df.melt('Prdeicted Values',  value_name='Error')\n",
    "\n",
    "    sns.lmplot('Prdeicted Values', 'Error', data=residual_error_df, fit_reg=False)\n",
    "    \n",
    "    "
   ]
  },
  {
   "cell_type": "markdown",
   "metadata": {},
   "source": [
    "# Question 1 - 3 - 1 and 1 -3 - 2"
   ]
  },
  {
   "cell_type": "code",
   "execution_count": 39,
   "metadata": {
    "scrolled": true
   },
   "outputs": [
    {
     "name": "stdout",
     "output_type": "stream",
     "text": [
      "\n",
      "Using Sklearn Library On Validation Data\n",
      "\n",
      "R2 Score:  0.7732955450687018\n",
      "Mean Square Error:  0.0032450195796822905\n",
      "Mean Absolute Error:  0.04199650727761043\n",
      "Mean Percentage Error:  0.0009783869770144547\n",
      "\n",
      "Using Sklearn Library On Test Data\n",
      "\n",
      "R2 Score:  0.816973552388422\n",
      "Mean Square Error:  0.003651192343817597\n",
      "Mean Absolute Error:  0.04335947920261959\n",
      "Mean Percentage Error:  -0.008547922305384894\n",
      "\n",
      "Result on Validation data\n",
      "\n",
      "R2 Score:  -169.15464225680805\n",
      "Mean Square Error:  2.435572542517993\n",
      "Mean Absolute Error:  11.914616900393856\n",
      "Mean Percentage Error:  -2.078809451320013\n",
      "\n",
      "Result on Test Data\n",
      "\n",
      "R2 Score:  0.8169735517294017\n",
      "Mean Square Error:  0.003651192356964385\n",
      "Mean Absolute Error:  0.04335947896856289\n",
      "Mean Percentage Error:  -0.008547922706587135\n",
      "\n",
      "\n",
      "Residual Plot Using Custom Implementation of Linear Regression\n",
      "\n"
     ]
    },
    {
     "data": {
      "image/png": "[encoded data removed]",
      "text/plain": [
       "<Figure size 360x360 with 1 Axes>"
      ]
     },
     "metadata": {},
     "output_type": "display_data"
    }
   ],
   "source": [
    "test_filename = \"admission_dataset.csv\"\n",
    "\n",
    "evaluation_sk_learn(test_filename)\n",
    "\n",
    "evaluation(test_filename)"
   ]
  },
  {
   "cell_type": "markdown",
   "metadata": {},
   "source": [
    "# Question 1 - 3 - 3"
   ]
  },
  {
   "cell_type": "code",
   "execution_count": 40,
   "metadata": {
    "scrolled": false
   },
   "outputs": [
    {
     "name": "stderr",
     "output_type": "stream",
     "text": [
      "/home/prakashjha/.local/lib/python3.6/site-packages/seaborn/categorical.py:3666: UserWarning: The `factorplot` function has been renamed to `catplot`. The original name will be removed in a future release. Please update your code. Note that the default `kind` in `factorplot` (`'point'`) has changed `'strip'` in `catplot`.\n",
      "  warnings.warn(msg)\n"
     ]
    },
    {
     "data": {
      "image/png": "[encoded data removed]",
      "text/plain": [
       "<Figure size 360x360 with 1 Axes>"
      ]
     },
     "metadata": {},
     "output_type": "display_data"
    },
    {
     "data": {
      "image/png": "[encoded data removed]",
      "text/plain": [
       "<Figure size 432x288 with 1 Axes>"
      ]
     },
     "metadata": {},
     "output_type": "display_data"
    },
    {
     "data": {
      "image/png": "[encoded data removed]",
      "text/plain": [
       "<Figure size 432x288 with 1 Axes>"
      ]
     },
     "metadata": {},
     "output_type": "display_data"
    }
   ],
   "source": [
    "error_vs_iteration_plot()\n",
    "error_vs_parameters()"
   ]
  },
  {
   "cell_type": "markdown",
   "metadata": {},
   "source": [
    "## Observations"
   ]
  },
  {
   "cell_type": "markdown",
   "metadata": {},
   "source": [
    "From the graph between Error vs Iteration we can observe that with every iteration there is decrease in error which signals correct implementation of Gradient Descent algorithm used for training the linear regression model \n",
    "\n",
    "From the above Error vs Variation of coefficent features we can cleary obesrve that with increase in coefficient values there is a decrease in error. Moreover from the graph it very evifent that CGPA, TOEFL Score, GRE Score play more significant role as comapared to other features as the have higher coefficent values.\n",
    "\n",
    "From the graph Error vs Variation of coefficent features we can see that with every epoch or iteration of entire dataset there is an increase in coefficent values for the features in the dataset which tend to suggest direct proportionality among feature value and label which is \"Chance of Admit\""
   ]
  }
 ],
 "metadata": {
  "kernelspec": {
   "display_name": "Python 3",
   "language": "python",
   "name": "python3"
  },
  "language_info": {
   "codemirror_mode": {
    "name": "ipython",
    "version": 3
   },
   "file_extension": ".py",
   "mimetype": "text/x-python",
   "name": "python",
   "nbconvert_exporter": "python",
   "pygments_lexer": "ipython3",
   "version": "3.6.7"
  }
 },
 "nbformat": 4,
 "nbformat_minor": 2
}
