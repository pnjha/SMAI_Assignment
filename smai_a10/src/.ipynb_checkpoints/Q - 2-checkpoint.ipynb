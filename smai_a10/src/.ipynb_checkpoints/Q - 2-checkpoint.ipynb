{
 "cells": [
  {
   "cell_type": "code",
   "execution_count": 1,
   "metadata": {
    "ExecuteTime": {
     "end_time": "2019-04-06T06:57:58.046869Z",
     "start_time": "2019-04-06T06:57:57.726788Z"
    }
   },
   "outputs": [],
   "source": [
    "import numpy as np\n",
    "import matplotlib.pyplot as plt"
   ]
  },
  {
   "cell_type": "code",
   "execution_count": 2,
   "metadata": {
    "ExecuteTime": {
     "end_time": "2019-04-06T06:57:58.049961Z",
     "start_time": "2019-04-06T06:57:58.047982Z"
    }
   },
   "outputs": [],
   "source": [
    "state_e = [0.25,0.25,0.25,0.25]\n",
    "state_5 = [0.05,0,0.95,0]\n",
    "state_i = [0.4,0.1,0.1,0.4]"
   ]
  },
  {
   "cell_type": "code",
   "execution_count": 3,
   "metadata": {
    "ExecuteTime": {
     "end_time": "2019-04-06T06:57:58.063170Z",
     "start_time": "2019-04-06T06:57:58.051335Z"
    }
   },
   "outputs": [],
   "source": [
    "input_sequence = \"CTTCATGTGAAAGCAGACGTAAGTCA\"\n",
    "input_state_path = \"EEEEEEEEEEEEEEEEEE5IIIIIII$\""
   ]
  },
  {
   "cell_type": "code",
   "execution_count": 4,
   "metadata": {
    "ExecuteTime": {
     "end_time": "2019-04-06T06:57:58.101661Z",
     "start_time": "2019-04-06T06:57:58.064580Z"
    }
   },
   "outputs": [],
   "source": [
    "def traverse(dna_element,state_path_element):\n",
    "#     print(dna_element,state_path_element)\n",
    "    retval = 0\n",
    "    if(dna_element=='A'):\n",
    "        if(state_path_element==\"E\"):\n",
    "            retval = np.log(state_e[0])\n",
    "        elif(state_path_element==\"5\"):\n",
    "            retval = np.log(state_5[0])\n",
    "        elif(state_path_element==\"I\"):\n",
    "            retval = np.log(state_i[0])\n",
    "        return retval\n",
    "    elif(dna_element=='C'):\n",
    "        if(state_path_element==\"E\"):\n",
    "            retval = np.log(state_e[1])\n",
    "        elif(state_path_element==\"5\"):\n",
    "            retval = np.log(state_5[1])\n",
    "        elif(state_path_element==\"I\"):\n",
    "            retval = np.log(state_i[1])\n",
    "        return retval\n",
    "    elif(dna_element=='G'):\n",
    "        if(state_path_element==\"E\"):\n",
    "            retval = np.log(state_e[2])\n",
    "        elif(state_path_element==\"5\"):\n",
    "            retval = np.log(state_5[2])\n",
    "        elif(state_path_element==\"I\"):\n",
    "            retval = np.log(state_i[2])\n",
    "        return retval\n",
    "    elif(dna_element=='T'):\n",
    "        if(state_path_element==\"E\"):\n",
    "            retval = np.log(state_e[3])\n",
    "        elif(state_path_element==\"5\"):\n",
    "            retval = np.log(state_5[3])\n",
    "        elif(state_path_element==\"I\"):\n",
    "            retval = np.log(state_i[3])\n",
    "        return retval\n",
    "    else:\n",
    "        return retval"
   ]
  },
  {
   "cell_type": "code",
   "execution_count": 5,
   "metadata": {
    "ExecuteTime": {
     "end_time": "2019-04-06T06:57:58.116486Z",
     "start_time": "2019-04-06T06:57:58.103657Z"
    }
   },
   "outputs": [],
   "source": [
    "def state_path_probabilities(cur,nxt):\n",
    "    if(cur=='E' and nxt=='E'):\n",
    "        return np.log (0.9)\n",
    "    if(cur=='E' and nxt=='5'):\n",
    "        return np.log (0.1)\n",
    "    if(cur=='5' and nxt=='I'):\n",
    "        return np.log (1.0)\n",
    "    if(cur=='I' and nxt=='I'):\n",
    "        return np.log (0.9)\n",
    "    if(cur=='I' and nxt=='$'):\n",
    "        return np.log (0.1)\n",
    "    return  0.0\n",
    "    "
   ]
  },
  {
   "cell_type": "code",
   "execution_count": 6,
   "metadata": {
    "ExecuteTime": {
     "end_time": "2019-04-06T06:57:58.131093Z",
     "start_time": "2019-04-06T06:57:58.118364Z"
    },
    "scrolled": true
   },
   "outputs": [],
   "source": [
    "def compute(state_path):\n",
    "#     print(len(state_path),state_path)\n",
    "    log_probability = 0\n",
    "    for i in range(len(state_path)):\n",
    "        if(state_path[i]=='$'):\n",
    "            break\n",
    "        if(state_path[i]=='E'):\n",
    "            log_probability += traverse(input_sequence[i],state_path[i])\n",
    "        elif(state_path[i]=='5'):\n",
    "            log_probability += traverse(input_sequence[i],state_path[i])\n",
    "        elif(state_path[i]=='I'):\n",
    "            log_probability += traverse(input_sequence[i],state_path[i])\n",
    "#         print(i)\n",
    "        \n",
    "        log_probability += state_path_probabilities(state_path[i],state_path[i+1])\n",
    "        if(state_path[i] == 'I' and state_path[i+1]=='$'):\n",
    "            break\n",
    "        \n",
    "            \n",
    "    if(np.isneginf(log_probability)):\n",
    "        log_probability = -50\n",
    "#     print(\"log_probability \",log_probability)\n",
    "    return log_probability"
   ]
  },
  {
   "cell_type": "code",
   "execution_count": 7,
   "metadata": {
    "ExecuteTime": {
     "end_time": "2019-04-06T06:57:58.146936Z",
     "start_time": "2019-04-06T06:57:58.132983Z"
    }
   },
   "outputs": [],
   "source": [
    "def generate_state_path():\n",
    "    ret_list = []\n",
    "    for i in range(1,26):\n",
    "        state_path = \"\"\n",
    "        for j in range(0,i):\n",
    "            state_path += \"E\"\n",
    "        state_path += \"5\"\n",
    "        for j in range(i+1,26):\n",
    "            state_path += \"I\"\n",
    "        state_path += \"$\"\n",
    "        ret_list.append(state_path)\n",
    "#         print(type(state_path),state_path)\n",
    "    return ret_list"
   ]
  },
  {
   "cell_type": "code",
   "execution_count": 8,
   "metadata": {
    "ExecuteTime": {
     "end_time": "2019-04-06T06:57:58.161485Z",
     "start_time": "2019-04-06T06:57:58.148888Z"
    }
   },
   "outputs": [],
   "source": [
    "def plot_graph(all_logs):\n",
    "    position = [i for i in range(1,26)]\n",
    "    plt.xlabel('position of 5')\n",
    "    plt.ylabel('log probability')\n",
    "    plt.title('probability with different position $ , E , I')\n",
    "    plt.plot(position, all_logs)\n",
    "    plt.show()"
   ]
  },
  {
   "cell_type": "code",
   "execution_count": 9,
   "metadata": {
    "ExecuteTime": {
     "end_time": "2019-04-06T06:57:58.172594Z",
     "start_time": "2019-04-06T06:57:58.163165Z"
    },
    "scrolled": false
   },
   "outputs": [],
   "source": [
    "def start_main(compute_input):\n",
    "    if(compute_input):\n",
    "        ans = compute(input_state_path)\n",
    "        print(\"log probability = \",ans)\n",
    "    else:\n",
    "        all_state_path = generate_state_path()\n",
    "        all_logs = []\n",
    "        for path in all_state_path:\n",
    "            all_logs.append(compute(path))\n",
    "        ans = float('-inf')\n",
    "        print(all_logs)\n",
    "        for log in all_logs:\n",
    "            if(log> ans):\n",
    "                ans = log\n",
    "        print(\"maximum log probability = \",ans)\n",
    "        plot_graph(all_logs)"
   ]
  },
  {
   "cell_type": "code",
   "execution_count": 10,
   "metadata": {
    "ExecuteTime": {
     "end_time": "2019-04-06T06:57:58.185756Z",
     "start_time": "2019-04-06T06:57:58.176233Z"
    }
   },
   "outputs": [
    {
     "name": "stdout",
     "output_type": "stream",
     "text": [
      "log probability =  -41.21967768602254\n"
     ]
    }
   ],
   "source": [
    "start_main(True)"
   ]
  },
  {
   "cell_type": "code",
   "execution_count": 12,
   "metadata": {
    "ExecuteTime": {
     "end_time": "2019-04-06T06:58:03.338104Z",
     "start_time": "2019-04-06T06:58:03.192447Z"
    }
   },
   "outputs": [
    {
     "name": "stdout",
     "output_type": "stream",
     "text": [
      "[-50, -50, -50, -47.28812638358793, -50, -43.89740030179306, -50, -43.451113199164645, -46.865555807576825, -47.335559436822564, -47.8055630660683, -43.944833355027704, -50, -46.44298523156572, -42.58225552052512, -45.996698128937304, -50, -41.21967768602254, -50, -45.10412392368045, -45.57412755292618, -41.71339784188558, -50, -50, -42.484328770333114]\n",
      "maximum log probability =  -41.21967768602254\n"
     ]
    },
    {
     "name": "stderr",
     "output_type": "stream",
     "text": [
      "/usr/lib/python3/dist-packages/ipykernel_launcher.py:32: RuntimeWarning: divide by zero encountered in log\n",
      "/usr/lib/python3/dist-packages/ipykernel_launcher.py:16: RuntimeWarning: divide by zero encountered in log\n",
      "  app.launch_new_instance()\n"
     ]
    },
    {
     "data": {
      "image/png": "[encoded data removed]",
      "text/plain": [
       "<Figure size 432x288 with 1 Axes>"
      ]
     },
     "metadata": {},
     "output_type": "display_data"
    }
   ],
   "source": [
    "start_main(False)"
   ]
  }
 ],
 "metadata": {
  "kernelspec": {
   "display_name": "Python 3",
   "language": "python",
   "name": "python3"
  },
  "language_info": {
   "codemirror_mode": {
    "name": "ipython",
    "version": 3
   },
   "file_extension": ".py",
   "mimetype": "text/x-python",
   "name": "python",
   "nbconvert_exporter": "python",
   "pygments_lexer": "ipython3",
   "version": "3.6.7"
  }
 },
 "nbformat": 4,
 "nbformat_minor": 2
}
