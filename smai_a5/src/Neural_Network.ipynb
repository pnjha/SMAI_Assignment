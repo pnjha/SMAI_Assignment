{
 "cells": [
  {
   "cell_type": "code",
   "execution_count": 5,
   "metadata": {
    "ExecuteTime": {
     "end_time": "2019-02-26T15:42:09.933146Z",
     "start_time": "2019-02-26T15:42:09.925491Z"
    }
   },
   "outputs": [],
   "source": [
    "import numpy as np\n",
    "import pandas as pd\n",
    "import math\n",
    "import matplotlib.pyplot as plt\n",
    "import seaborn as sns\n",
    "import itertools\n",
    "import random\n",
    "import copy\n",
    "from sklearn import metrics\n",
    "from statistics import mean , stdev\n",
    "from pprint import pprint\n",
    "from sklearn.metrics import confusion_matrix \n",
    "from sklearn.model_selection import train_test_split \n",
    "import pickle"
   ]
  },
  {
   "cell_type": "code",
   "execution_count": 6,
   "metadata": {
    "ExecuteTime": {
     "end_time": "2019-02-26T15:42:10.857094Z",
     "start_time": "2019-02-26T15:42:10.842979Z"
    },
    "code_folding": [
     0
    ]
   },
   "outputs": [],
   "source": [
    "def data_preprocessing():\n",
    "    \n",
    "    global train_sd, train_mean\n",
    "    \n",
    "    df = pd.read_csv(\"apparel-trainval.csv\")\n",
    "    \n",
    "    X = df.iloc[:,1:]\n",
    "    Y = df.iloc[:,0]\n",
    "    \n",
    "\n",
    "    X_train, X_validation, Y_train, Y_validation = train_test_split(X, Y, test_size = 0.2, random_state = 0)\n",
    "    \n",
    "    Y_train = pd.DataFrame(Y_train)\n",
    "    Y_train = Y_train.values\n",
    "    \n",
    "    Y_validation = pd.DataFrame(Y_validation)\n",
    "    Y_validation = Y_validation.values\n",
    "    \n",
    "    \n",
    "    X_train = X_train.values\n",
    "    X_validation = X_validation.values\n",
    "    \n",
    "    train_sd = np.std(X_train)\n",
    "    train_mean = np.mean(X_train)\n",
    "\n",
    "    X_train = (X_train - train_mean)/train_sd\n",
    "    X_validation = (X_validation - train_mean)/train_sd\n",
    "\n",
    "    \n",
    "    return X_train, X_validation, Y_train, Y_validation "
   ]
  },
  {
   "cell_type": "code",
   "execution_count": 7,
   "metadata": {
    "ExecuteTime": {
     "end_time": "2019-02-26T15:42:12.430799Z",
     "start_time": "2019-02-26T15:42:12.426544Z"
    },
    "code_folding": [
     0,
     2
    ]
   },
   "outputs": [],
   "source": [
    "class neural_layer:\n",
    "    \n",
    "    def __init__(self,weight,bias):\n",
    "        \n",
    "        self.weight = weight\n",
    "        self.bias = bias\n",
    "        self.activations = None\n",
    "        self.delta = None"
   ]
  },
  {
   "cell_type": "code",
   "execution_count": 8,
   "metadata": {
    "ExecuteTime": {
     "end_time": "2019-02-26T15:42:13.835878Z",
     "start_time": "2019-02-26T15:42:13.525185Z"
    },
    "code_folding": [
     0,
     33,
     120,
     177
    ]
   },
   "outputs": [],
   "source": [
    "class Neural_Network:\n",
    "    \n",
    "    def __init__(self, layer_sizes = None, activation_function = None,mode = \"training\"):\n",
    "        \n",
    "        if mode == \"training\": \n",
    "            \n",
    "            self.layer_sizes = layer_sizes\n",
    "            self.activation_function = activation_function\n",
    "            \n",
    "            network_layer = []\n",
    "\n",
    "            for index in range(len(layer_sizes)-1):\n",
    "\n",
    "                weight = np.random.randn(layer_sizes[index],layer_sizes[index+1])*np.sqrt(2.0/layer_sizes[index])\n",
    "                bias = np.random.randn(layer_sizes[index+1],1)\n",
    "\n",
    "                layer = neural_layer(weight,bias)\n",
    "\n",
    "                network_layer.append(layer)\n",
    "\n",
    "            self.network_layer = network_layer\n",
    "        \n",
    "        elif mode == \"testing\":\n",
    "            \n",
    "            network_layer = None\n",
    "            \n",
    "            with open ('model', 'rb') as fp:\n",
    "                network_layer = pickle.load(fp)\n",
    "            \n",
    "            self.layer_sizes = network_layer[0]\n",
    "            self.activation_function = network_layer[1]\n",
    "            self.network_layer = network_layer[2]\n",
    "            \n",
    "    def fit(self, data, Y, n_iterations, learning_rate):\n",
    "        \n",
    "        batch_size = 100\n",
    "        \n",
    "        self.error_per_epoch = []\n",
    "        self.epochs = []\n",
    "        \n",
    "        for iteration in range(n_iterations):\n",
    "        \n",
    "#             print(\"Iterations: \",iteration)\n",
    "            \n",
    "            batches = math.floor(data.shape[0]/batch_size)\n",
    "            \n",
    "            error = 0\n",
    "            start = 0\n",
    "            end = batch_size\n",
    "        \n",
    "            for batch in range(batches):\n",
    "\n",
    "                X = data[start:end,:]\n",
    "\n",
    "                y = Y[start:end,:]\n",
    "\n",
    "                start += batch_size\n",
    "                end += batch_size\n",
    "\n",
    "                if end > data.shape[0]:\n",
    "                    end = data.shape[0]\n",
    "\n",
    "\n",
    "            \n",
    "                #forward propagation\n",
    "                index = 0\n",
    "                for layer in self.network_layer:\n",
    "                    \n",
    "                    if index == 0:\n",
    "                        \n",
    "                        layer.activations = self.nl_transform(X,layer.weight,layer.bias,self.activation_function[index]) \n",
    "                    \n",
    "                    elif index == len(self.network_layer) - 1:\n",
    "                        \n",
    "                        layer.activations = self.nl_transform(self.network_layer[index-1].activations,layer.weight,layer.bias,self.activation_function[index])\n",
    "                        self.output_layer = layer.activations\n",
    "                    \n",
    "                    else:\n",
    "                    \n",
    "                        layer.activations = self.nl_transform(self.network_layer[index-1].activations,layer.weight,layer.bias,self.activation_function[index])\n",
    "\n",
    "                    index += 1\n",
    "\n",
    "\n",
    "                #backward propagation\n",
    "                for index, layer in reversed(list(enumerate(self.network_layer))):\n",
    "\n",
    "                    if index == len(self.network_layer) - 1:    \n",
    "\n",
    "                        layer.delta = self.cross_entropy_error_derivative(y , layer.activations) * self.nl_derivative(layer.activations,self.activation_function[index])\n",
    "\n",
    "                    else:\n",
    "                        \n",
    "                        layer.delta = np.dot(self.network_layer[index+1].delta,self.network_layer[index+1].weight.T) * self.nl_derivative(layer.activations,self.activation_function[index])\n",
    "\n",
    "                #weight and bias update\n",
    "                for index, layer in reversed(list(enumerate(self.network_layer))):\n",
    "\n",
    "                    if index == 0:\n",
    "                        \n",
    "                        layer.weight -= (learning_rate/batch_size) * np.dot(X.T,layer.delta)\n",
    "                    \n",
    "                    else:\n",
    "                    \n",
    "                        layer.weight -= (learning_rate/batch_size) * np.dot(self.network_layer[index - 1].activations.T,layer.delta)\n",
    "\n",
    "                    bias_gradient = pd.DataFrame(np.sum(layer.delta, axis=0)).values * (learning_rate/batch_size)                    \n",
    "                    layer.bias -= bias_gradient\n",
    "                \n",
    "                \n",
    "            \n",
    "                    error = self.cross_entropy_error(self.output_layer,y)\n",
    "                \n",
    "            self.error_per_epoch.append(round(error,3))\n",
    "            \n",
    "            self.epochs.append(iteration+1)\n",
    "            \n",
    "\n",
    "        self.dump_model()\n",
    "                    \n",
    "    def cross_entropy_error(self,y_predicted,y_actual):\n",
    "        \n",
    "        error = -np.sum(y_actual*np.log(y_predicted+1e-9))/(y_actual.shape[0])\n",
    "        \n",
    "        return error\n",
    "            \n",
    "    def dump_model(self):\n",
    "        \n",
    "        global train_sd, train_mean\n",
    "        \n",
    "        neural_net_model = []\n",
    "        neural_net_model.append(self.layer_sizes)\n",
    "        neural_net_model.append(self.activation_function)\n",
    "        neural_net_model.append(self.network_layer)\n",
    "        neural_net_model.append(train_mean)\n",
    "        neural_net_model.append(train_sd)\n",
    "        \n",
    "        with open('model', 'wb') as fp:\n",
    "            pickle.dump(neural_net_model, fp)\n",
    "            \n",
    "    def predict(self, X):\n",
    "\n",
    "        index = 0\n",
    "        \n",
    "        for layer in self.network_layer:\n",
    "            \n",
    "            if index == 0:\n",
    "                \n",
    "                layer.activations = self.nl_transform(X,layer.weight,layer.bias,self.activation_function[index]) \n",
    "            \n",
    "            elif index == len(self.network_layer) - 1:\n",
    "                \n",
    "                layer.activations = self.nl_transform(self.network_layer[index-1].activations,layer.weight,layer.bias,self.activation_function[index])\n",
    "                final_activation = layer.activations\n",
    "            \n",
    "            else:\n",
    "                layer.activations = self.nl_transform(self.network_layer[index-1].activations,layer.weight,layer.bias,self.activation_function[index])\n",
    "\n",
    "            index += 1\n",
    "\n",
    "        y_predicted = []\n",
    "        \n",
    "        self.predicted = final_activation\n",
    "        \n",
    "        for row in final_activation:\n",
    "            \n",
    "#             e_x = np.exp(row - np.max(row))\n",
    "#             softmax =  e_x / e_x.sum()\n",
    "\n",
    "            y_predicted.append(np.argmax(row))\n",
    "        \n",
    "        return y_predicted \n",
    "    \n",
    "    def cross_entropy_error_derivative(self,y_actual,y_predicted):\n",
    "        \n",
    "        return np.nan_to_num(-((y_actual / y_predicted) - ((1 - y_actual) / (1 - y_predicted))))\n",
    "    \n",
    "    def nl_derivative(self,activations,activation_function):\n",
    "        \n",
    "        if activation_function == \"sigmoid\":\n",
    "            \n",
    "            return self.sigmoid_derivative(activations)\n",
    "            \n",
    "        elif activation_function == \"relu\":\n",
    "            \n",
    "            return self.relu_derivative(activations)\n",
    "            \n",
    "        elif activation_function == \"tanh\":\n",
    "            \n",
    "            return self.tanh_derivative(activations)\n",
    "    \n",
    "    def nl_transform(self,X,Y,B,activation_function):\n",
    "        \n",
    "        x = np.dot(X,Y) + B.T\n",
    "        \n",
    "        if activation_function == \"sigmoid\":\n",
    "            \n",
    "            return self.sigmoid(x)\n",
    "            \n",
    "        elif activation_function == \"relu\":\n",
    "            \n",
    "            return self.relu(x)\n",
    "            \n",
    "        elif activation_function == \"tanh\":\n",
    "            \n",
    "            return self.tanh(x)\n",
    "            \n",
    "    def sigmoid(self, x):\n",
    "        \n",
    "        result = np.nan_to_num(1.0 / (1.0 + np.exp(-x)))\n",
    "        return result\n",
    "    \n",
    "    def tanh(self, x):\n",
    "        \n",
    "        result = np.nan_to_num(2.0/(1.0 + np.exp(-(2*x))) - 1)\n",
    "        return result\n",
    "\n",
    "    def relu(self,x):\n",
    "        \n",
    "        return np.nan_to_num(x * (x > 0))\n",
    "\n",
    "    def tanh_derivative(self, x):\n",
    "        \n",
    "        result = np.nan_to_num(1 - np.tanh(x)**2)\n",
    "        \n",
    "        return result    \n",
    "    \n",
    "    def sigmoid_derivative(self, x):\n",
    "        \n",
    "        result = np.nan_to_num((x)*(1-x))\n",
    "        \n",
    "        return result    \n",
    "        \n",
    "    def relu_derivative(self, x):\n",
    "        \n",
    "        return np.nan_to_num(1 * (x > 0))"
   ]
  },
  {
   "cell_type": "code",
   "execution_count": 9,
   "metadata": {
    "ExecuteTime": {
     "end_time": "2019-02-26T15:42:14.994702Z",
     "start_time": "2019-02-26T15:42:14.991528Z"
    },
    "code_folding": [
     0
    ]
   },
   "outputs": [],
   "source": [
    "def generate_confusion_matrix(y_actual,y_predicted):\n",
    "    \n",
    "    confusion_matrix = metrics.cluster.contingency_matrix(y_actual, y_predicted)\n",
    "    \n",
    "    return confusion_matrix "
   ]
  },
  {
   "cell_type": "code",
   "execution_count": 10,
   "metadata": {
    "ExecuteTime": {
     "end_time": "2019-02-26T15:42:16.299900Z",
     "start_time": "2019-02-26T15:42:16.296159Z"
    },
    "code_folding": [
     0
    ]
   },
   "outputs": [],
   "source": [
    "def calculate_accuracy(y_actual,y_predicted):\n",
    "    \n",
    "    confusion_matrix = generate_confusion_matrix(y_actual,y_predicted)\n",
    "    \n",
    "#     print(confusion_matrix)\n",
    "    \n",
    "    return np.sum(np.amax(confusion_matrix, axis=0))/np.sum(confusion_matrix)"
   ]
  },
  {
   "cell_type": "code",
   "execution_count": 11,
   "metadata": {
    "ExecuteTime": {
     "end_time": "2019-02-26T15:42:17.624939Z",
     "start_time": "2019-02-26T15:42:17.621575Z"
    },
    "code_folding": [
     0
    ]
   },
   "outputs": [],
   "source": [
    "def cross_entropy_error(y_actual,y_predicted):\n",
    "        \n",
    "        error = -np.sum(y_actual*np.log(y_predicted+1e-9))/(y_actual.shape[0])\n",
    "        \n",
    "        return error"
   ]
  },
  {
   "cell_type": "code",
   "execution_count": 12,
   "metadata": {
    "ExecuteTime": {
     "end_time": "2019-02-26T15:42:19.326219Z",
     "start_time": "2019-02-26T15:42:19.291962Z"
    },
    "code_folding": [
     0
    ]
   },
   "outputs": [],
   "source": [
    "def layer_vs_prediction_error():\n",
    "    \n",
    "    X_train, X_validation, Y_train, Y_validation = data_preprocessing()\n",
    "    \n",
    "    layers = [X_train.shape[1]]\n",
    "    act_func = ['sigmoid']\n",
    "    \n",
    "    nb_classes = 10\n",
    "    targets = Y_train.reshape(-1)\n",
    "    y_hot = np.eye(nb_classes)[targets]\n",
    "    \n",
    "    targets_val = Y_validation.reshape(-1)\n",
    "    y_hot_val = np.eye(nb_classes)[targets_val]\n",
    "    \n",
    "    error_train = []\n",
    "    error_validate = []\n",
    "    n_layer = []\n",
    "    \n",
    "    for i in range(5):\n",
    "        \n",
    "        n_layer.append(i+1)\n",
    "        \n",
    "        layers.append(100)\n",
    "        layers.append(10)\n",
    "        \n",
    "        act_func.append('sigmoid')\n",
    "        \n",
    "        nl_obj = Neural_Network(layer_sizes = layers, activation_function = act_func,mode = \"training\")\n",
    "\n",
    "        nl_obj.fit(X_train,y_hot,10,0.15)\n",
    "        \n",
    "\n",
    "        y_predicted = nl_obj.predict(X_train)\n",
    "        \n",
    "        err = cross_entropy_error(y_hot,nl_obj.predicted)\n",
    "        print(\"Precidtion Error on Train data: \",err)\n",
    "        error_train.append(err)\n",
    "        \n",
    "        y_predicted = nl_obj.predict(X_validation)\n",
    "        \n",
    "        err = cross_entropy_error(y_hot_val,nl_obj.predicted)\n",
    "        print(\"Precidtion Error on Validation data: \",err)\n",
    "        error_validate.append(err)\n",
    "        \n",
    "        layers = layers[:-1]\n",
    "    \n",
    "    error_vs_layer_df = pd.DataFrame(\n",
    "    {'Train Data': error_train,\n",
    "     'Validation Data': error_validate,\n",
    "     'Layers': n_layer\n",
    "    })\n",
    "    \n",
    "    \n",
    "    error_vs_layer_df = error_vs_layer_df.melt('Layers', var_name='Data',  value_name='Prediction Error')\n",
    "    error_vs_layer_graph = sns.factorplot(x=\"Layers\", y=\"Prediction Error\", hue='Data', data=error_vs_layer_df)\n",
    "    \n",
    "    error_vs_layer_graph.savefig(\"error_vs_layer_graph.png\")"
   ]
  },
  {
   "cell_type": "code",
   "execution_count": 72,
   "metadata": {
    "ExecuteTime": {
     "end_time": "2019-02-26T06:16:56.353014Z",
     "start_time": "2019-02-26T06:14:14.349121Z"
    },
    "scrolled": true
   },
   "outputs": [
    {
     "name": "stdout",
     "output_type": "stream",
     "text": [
      "Precidtion Error on Train data:  0.326107150836468\n",
      "Precidtion Error on Validation data:  0.36649472632031665\n",
      "Precidtion Error on Train data:  0.33575645874025\n",
      "Precidtion Error on Validation data:  0.37464789670849835\n",
      "Precidtion Error on Train data:  0.34161813032066446\n",
      "Precidtion Error on Validation data:  0.38204021107891506\n",
      "Precidtion Error on Train data:  0.36753159343670905\n",
      "Precidtion Error on Validation data:  0.40392790688046115\n",
      "Precidtion Error on Train data:  0.5203768351710503\n",
      "Precidtion Error on Validation data:  0.5597997223532766\n"
     ]
    },
    {
     "name": "stderr",
     "output_type": "stream",
     "text": [
      "/home/prakashjha/.local/lib/python3.6/site-packages/seaborn/categorical.py:3666: UserWarning: The `factorplot` function has been renamed to `catplot`. The original name will be removed in a future release. Please update your code. Note that the default `kind` in `factorplot` (`'point'`) has changed `'strip'` in `catplot`.\n",
      "  warnings.warn(msg)\n"
     ]
    },
    {
     "data": {
      "image/png": "[encoded data removed]",
      "text/plain": [
       "<Figure size 473.375x360 with 1 Axes>"
      ]
     },
     "metadata": {},
     "output_type": "display_data"
    }
   ],
   "source": [
    "layer_vs_prediction_error()"
   ]
  },
  {
   "cell_type": "code",
   "execution_count": 13,
   "metadata": {
    "ExecuteTime": {
     "end_time": "2019-02-26T15:42:22.556768Z",
     "start_time": "2019-02-26T15:42:22.481777Z"
    },
    "code_folding": [
     0
    ]
   },
   "outputs": [],
   "source": [
    "def epoch_vs_prediction_error_activation_fuction():\n",
    "    \n",
    "    X_train, X_validation, Y_train, Y_validation = data_preprocessing()\n",
    "    \n",
    "    nb_classes = 10\n",
    "    targets = Y_train.reshape(-1)\n",
    "    y_hot = np.eye(nb_classes)[targets]\n",
    "    \n",
    "    targets_val = Y_validation.reshape(-1)\n",
    "    y_hot_val = np.eye(nb_classes)[targets_val]\n",
    "    \n",
    "    epochs_list = [5,10,15,20,25,30]\n",
    "    \n",
    "    error_train_sigmoid = []\n",
    "    error_validate_sigmoid = []\n",
    "    \n",
    "    error_train_relu = []\n",
    "    error_validate_relu = []\n",
    "    \n",
    "    error_train_tanh = []\n",
    "    error_validate_tanh = []\n",
    "    \n",
    "    for epoch in epochs_list:\n",
    "       \n",
    "        nl_obj_sigmoid = Neural_Network(layer_sizes = [X_train.shape[1],60,60,10], activation_function = ['sigmoid','sigmoid','sigmoid'],mode = \"training\")\n",
    "        nl_obj_relu = Neural_Network(layer_sizes = [X_train.shape[1],60,60,10], activation_function = ['relu','relu','sigmoid'],mode = \"training\")\n",
    "        nl_obj_tanh = Neural_Network(layer_sizes = [X_train.shape[1],60,60,10], activation_function = ['tanh','tanh','sigmoid'],mode = \"training\")\n",
    "        \n",
    "        \n",
    "        nl_obj_sigmoid.fit(X_train,y_hot,epoch,0.15)\n",
    "        nl_obj_relu.fit(X_train,y_hot,epoch,0.15)\n",
    "        nl_obj_tanh.fit(X_train,y_hot,epoch,0.15)\n",
    "        \n",
    "        y_predicted_sigmoid = nl_obj_sigmoid.predict(X_train)\n",
    "        y_predicted_relu = nl_obj_relu.predict(X_train)\n",
    "        y_predicted_tanh = nl_obj_tanh.predict(X_train)\n",
    "        \n",
    "        err = cross_entropy_error(y_hot,nl_obj_sigmoid.predicted)\n",
    "        print(\"Precidtion Error on Train data Sigmoid: \",err)\n",
    "        error_train_sigmoid.append(err)\n",
    "        \n",
    "        err = cross_entropy_error(y_hot,nl_obj_relu.predicted)\n",
    "        print(\"Precidtion Error on Train data Relu: \",err)\n",
    "        error_train_relu.append(err)\n",
    "        \n",
    "        err = cross_entropy_error(y_hot,nl_obj_tanh.predicted)\n",
    "        print(\"Precidtion Error on Train data tanh: \",err)\n",
    "        error_train_tanh.append(err)\n",
    "        \n",
    "        \n",
    "        y_predicted_sigmoid = nl_obj_sigmoid.predict(X_validation)\n",
    "        y_predicted_relu = nl_obj_relu.predict(X_validation)\n",
    "        y_predicted_tanh = nl_obj_tanh.predict(X_validation)\n",
    "        \n",
    "        err = cross_entropy_error(y_hot_val,nl_obj_sigmoid.predicted)\n",
    "        print(\"Precidtion Error on Validation data Sigmoid: \",err)\n",
    "        error_validate_sigmoid.append(err)\n",
    "        \n",
    "        err = cross_entropy_error(y_hot_val,nl_obj_relu.predicted)\n",
    "        print(\"Precidtion Error on Validate data Relu: \",err)\n",
    "        error_validate_relu.append(err)\n",
    "        \n",
    "        err = cross_entropy_error(y_hot_val,nl_obj_tanh.predicted)\n",
    "        print(\"Precidtion Error on Validate data tanh: \",err)\n",
    "        error_validate_tanh.append(err)\n",
    "        \n",
    "    error_vs_epoch_train_df = pd.DataFrame(\n",
    "    {'Sigmoid': error_train_sigmoid,\n",
    "     'Relu': error_train_relu,\n",
    "     'Tanh': error_train_tanh,\n",
    "     'Epochs': epochs_list\n",
    "    })\n",
    "    \n",
    "    \n",
    "    error_vs_epoch_train_df = error_vs_epoch_train_df.melt('Epochs', var_name='Activation Fuctions',  value_name='Prediction Error')\n",
    "    error_vs_epoch_train_graph = sns.factorplot(x=\"Epochs\", y=\"Prediction Error\", hue='Activation Fuctions', data=error_vs_epoch_train_df)\n",
    "    \n",
    "    error_vs_epoch_train_graph.savefig(\"error_vs_epoch_train_graph.png\")\n",
    "    \n",
    "    \n",
    "    error_vs_epoch_validate_df = pd.DataFrame(\n",
    "    {'Sigmoid': error_validate_sigmoid,\n",
    "     'Relu': error_validate_relu,\n",
    "     'Tanh': error_validate_tanh,\n",
    "     'Epochs': epochs_list\n",
    "    })\n",
    "    \n",
    "    \n",
    "    error_vs_epoch_validate_df = error_vs_epoch_validate_df.melt('Epochs', var_name='Activation Fuctions',  value_name='Prediction Error')\n",
    "    error_vs_epoch_validate_graph = sns.factorplot(x=\"Epochs\", y=\"Prediction Error\", hue='Activation Fuctions', data=error_vs_epoch_validate_df)\n",
    "\n",
    "    error_vs_epoch_validate_graph.savefig(\"error_vs_epoch_validate_graph.png\")\n",
    "    \n",
    "    "
   ]
  },
  {
   "cell_type": "code",
   "execution_count": 78,
   "metadata": {
    "ExecuteTime": {
     "end_time": "2019-02-26T06:47:09.717787Z",
     "start_time": "2019-02-26T06:35:41.974140Z"
    },
    "scrolled": true
   },
   "outputs": [
    {
     "name": "stdout",
     "output_type": "stream",
     "text": [
      "Precidtion Error on Train data Sigmoid:  0.40343224976543335\n",
      "Precidtion Error on Train data Relu:  0.3417153601505965\n",
      "Precidtion Error on Train data tanh:  0.3897547039011202\n",
      "Precidtion Error on Validation data Sigmoid:  0.41960887936176605\n",
      "Precidtion Error on Validate data Relu:  0.3888793553800871\n",
      "Precidtion Error on Validate data tanh:  0.418315270769063\n",
      "Precidtion Error on Train data Sigmoid:  0.33488487038845655\n",
      "Precidtion Error on Train data Relu:  0.29527131860164546\n",
      "Precidtion Error on Train data tanh:  0.35608884003144287\n",
      "Precidtion Error on Validation data Sigmoid:  0.372364465959133\n",
      "Precidtion Error on Validate data Relu:  0.3774616428944974\n",
      "Precidtion Error on Validate data tanh:  0.4218722311230422\n"
     ]
    },
    {
     "name": "stderr",
     "output_type": "stream",
     "text": [
      "/usr/lib/python3/dist-packages/ipykernel_launcher.py:172: RuntimeWarning: invalid value encountered in true_divide\n"
     ]
    },
    {
     "name": "stdout",
     "output_type": "stream",
     "text": [
      "Precidtion Error on Train data Sigmoid:  0.30452243798337286\n",
      "Precidtion Error on Train data Relu:  0.2525109890152563\n",
      "Precidtion Error on Train data tanh:  0.32969473125117676\n",
      "Precidtion Error on Validation data Sigmoid:  0.3630069910529989\n",
      "Precidtion Error on Validate data Relu:  0.3568352452603457\n",
      "Precidtion Error on Validate data tanh:  0.40814486903554115\n",
      "Precidtion Error on Train data Sigmoid:  0.28125568479384827\n",
      "Precidtion Error on Train data Relu:  0.28482079826230383\n",
      "Precidtion Error on Train data tanh:  0.3269424195398435\n",
      "Precidtion Error on Validation data Sigmoid:  0.35661751672138264\n",
      "Precidtion Error on Validate data Relu:  0.4344183081555068\n",
      "Precidtion Error on Validate data tanh:  0.4166337051788555\n",
      "Precidtion Error on Train data Sigmoid:  0.2596463369540521\n",
      "Precidtion Error on Train data Relu:  0.26189046854641723\n",
      "Precidtion Error on Train data tanh:  0.3135199370930874\n",
      "Precidtion Error on Validation data Sigmoid:  0.35506417286873254\n",
      "Precidtion Error on Validate data Relu:  0.4249451648562374\n",
      "Precidtion Error on Validate data tanh:  0.41568062145777784\n",
      "Precidtion Error on Train data Sigmoid:  0.24600515465129422\n",
      "Precidtion Error on Train data Relu:  0.23474030959736608\n",
      "Precidtion Error on Train data tanh:  0.3147216638796434\n",
      "Precidtion Error on Validation data Sigmoid:  0.3669743109485687\n",
      "Precidtion Error on Validate data Relu:  0.42375173286340967\n",
      "Precidtion Error on Validate data tanh:  0.44015153854480993\n"
     ]
    },
    {
     "name": "stderr",
     "output_type": "stream",
     "text": [
      "/home/prakashjha/.local/lib/python3.6/site-packages/seaborn/categorical.py:3666: UserWarning: The `factorplot` function has been renamed to `catplot`. The original name will be removed in a future release. Please update your code. Note that the default `kind` in `factorplot` (`'point'`) has changed `'strip'` in `catplot`.\n",
      "  warnings.warn(msg)\n"
     ]
    },
    {
     "data": {
      "image/png": "[encoded data removed]",
      "text/plain": [
       "<Figure size 463.375x360 with 1 Axes>"
      ]
     },
     "metadata": {},
     "output_type": "display_data"
    },
    {
     "data": {
      "image/png": "[encoded data removed]",
      "text/plain": [
       "<Figure size 463.375x360 with 1 Axes>"
      ]
     },
     "metadata": {},
     "output_type": "display_data"
    }
   ],
   "source": [
    "epoch_vs_prediction_error_activation_fuction()"
   ]
  },
  {
   "cell_type": "code",
   "execution_count": 14,
   "metadata": {
    "ExecuteTime": {
     "end_time": "2019-02-26T15:42:25.295335Z",
     "start_time": "2019-02-26T15:42:25.276930Z"
    },
    "code_folding": [
     0
    ]
   },
   "outputs": [],
   "source": [
    "def epoch_vs_accracy():\n",
    "    \n",
    "    X_train, X_validation, Y_train, Y_validation = data_preprocessing()\n",
    "    \n",
    "    nb_classes = 10\n",
    "    targets = Y_train.reshape(-1)\n",
    "    y_hot = np.eye(nb_classes)[targets]\n",
    "    \n",
    "    epochs_list = [5,10,15,20,25,30]\n",
    "    \n",
    "    accuracy_train = []\n",
    "    accuracy_validate = []\n",
    "    \n",
    "    for epoch in epochs_list:\n",
    "       \n",
    "        nl_obj = Neural_Network(layer_sizes = [X_train.shape[1],60,60,10], activation_function = ['tanh','relu','sigmoid'],mode = \"training\")\n",
    "        \n",
    "        nl_obj.fit(X_train,y_hot,epoch,0.3)\n",
    "        \n",
    "        y_predicted = nl_obj.predict(X_train)\n",
    "        \n",
    "        acc = calculate_accuracy((Y_train.T).tolist()[0],y_predicted)\n",
    "        print(\"Accuracy on Train data: \",acc)\n",
    "        accuracy_train.append(acc)\n",
    "        \n",
    "        y_predicted = nl_obj.predict(X_validation)\n",
    "        \n",
    "        acc = calculate_accuracy((Y_validation.T).tolist()[0],y_predicted)\n",
    "        print(\"Accuracy on Validation data: \",acc)\n",
    "        accuracy_validate.append(acc)\n",
    "        \n",
    "    accuracy_vs_epochs_df = pd.DataFrame(\n",
    "    {'Train Data': accuracy_train,\n",
    "     'Validation Data': accuracy_validate,\n",
    "     'Epochs': epochs_list\n",
    "    })\n",
    "    \n",
    "    \n",
    "    accuracy_vs_epochs_df = accuracy_vs_epochs_df.melt('Epochs', var_name='Data',  value_name='Accuracy')\n",
    "    accuracy_vs_epochs_df_graph = sns.factorplot(x=\"Epochs\", y=\"Accuracy\", hue='Data', data=accuracy_vs_epochs_df)\n",
    "    \n",
    "    accuracy_vs_epochs_df_graph.savefig(\"accuracy_vs_epochs_graph.png\")\n",
    "    "
   ]
  },
  {
   "cell_type": "code",
   "execution_count": 53,
   "metadata": {
    "ExecuteTime": {
     "end_time": "2019-02-26T05:46:01.978738Z",
     "start_time": "2019-02-26T05:42:44.633627Z"
    },
    "scrolled": true
   },
   "outputs": [
    {
     "name": "stdout",
     "output_type": "stream",
     "text": [
      "Accuracy on Train data:  0.8829791666666666\n",
      "Accuracy on Validation data:  0.8701666666666666\n",
      "Accuracy on Train data:  0.8928541666666666\n",
      "Accuracy on Validation data:  0.8738333333333334\n",
      "Accuracy on Train data:  0.9004375\n",
      "Accuracy on Validation data:  0.872\n",
      "Accuracy on Train data:  0.9065\n",
      "Accuracy on Validation data:  0.8781666666666667\n",
      "Accuracy on Train data:  0.904375\n",
      "Accuracy on Validation data:  0.8693333333333333\n",
      "Accuracy on Train data:  0.9085416666666667\n",
      "Accuracy on Validation data:  0.8675\n"
     ]
    },
    {
     "name": "stderr",
     "output_type": "stream",
     "text": [
      "/home/prakashjha/.local/lib/python3.6/site-packages/seaborn/categorical.py:3666: UserWarning: The `factorplot` function has been renamed to `catplot`. The original name will be removed in a future release. Please update your code. Note that the default `kind` in `factorplot` (`'point'`) has changed `'strip'` in `catplot`.\n",
      "  warnings.warn(msg)\n"
     ]
    },
    {
     "data": {
      "image/png": "[encoded data removed]",
      "text/plain": [
       "<Figure size 473.375x360 with 1 Axes>"
      ]
     },
     "metadata": {},
     "output_type": "display_data"
    }
   ],
   "source": [
    "epoch_vs_accracy()"
   ]
  },
  {
   "cell_type": "code",
   "execution_count": 15,
   "metadata": {
    "ExecuteTime": {
     "end_time": "2019-02-26T15:42:28.352763Z",
     "start_time": "2019-02-26T15:42:28.306069Z"
    },
    "code_folding": [
     0
    ]
   },
   "outputs": [],
   "source": [
    "def layer_vs_accuracy_error():\n",
    "    \n",
    "    X_train, X_validation, Y_train, Y_validation = data_preprocessing()\n",
    "    \n",
    "    layers = [X_train.shape[1]]\n",
    "    act_func = ['sigmoid']\n",
    "    \n",
    "    nb_classes = 10\n",
    "    targets = Y_train.reshape(-1)\n",
    "    y_hot = np.eye(nb_classes)[targets]\n",
    "    \n",
    "    accuracy = []\n",
    "    n_layer = []\n",
    "    \n",
    "    for i in range(5):\n",
    "        \n",
    "        n_layer.append(i+1)\n",
    "        \n",
    "        layers.append(100)\n",
    "        layers.append(10)\n",
    "        \n",
    "        act_func.append('sigmoid')\n",
    "        \n",
    "        nl_obj = Neural_Network(layer_sizes = layers, activation_function = act_func,mode = \"training\")\n",
    "\n",
    "        nl_obj.fit(X_train,y_hot,10,0.15)\n",
    "        y_predicted = nl_obj.predict(X_validation)\n",
    "        \n",
    "        acc = calculate_accuracy((Y_validation.T).tolist()[0],y_predicted)\n",
    "        \n",
    "        print(\"accuracy: \",acc)\n",
    "        \n",
    "        accuracy.append(acc)\n",
    "        \n",
    "        layers = layers[:-1]\n",
    "    \n",
    "    accuracy_vs_layers_df = pd.DataFrame(\n",
    "    {'Accuracy': accuracy,\n",
    "     'No. of Layers': n_layer\n",
    "    })\n",
    "    \n",
    "    #Accuracy visualisation\n",
    "    accuracy_vs_layers_df = accuracy_vs_layers_df.melt('Accuracy', value_name='No. of Layers')\n",
    "    accuracy_vs_layers_graph = sns.factorplot(x=\"No. of Layers\", y=\"Accuracy\", data=accuracy_vs_layers_df)\n",
    "    \n",
    "    accuracy_vs_layers_graph.savefig(\"accuracy_vs_layers_graph.png\")\n",
    "    "
   ]
  },
  {
   "cell_type": "code",
   "execution_count": 51,
   "metadata": {
    "ExecuteTime": {
     "end_time": "2019-02-26T05:38:58.342624Z",
     "start_time": "2019-02-26T05:36:38.050786Z"
    },
    "scrolled": true
   },
   "outputs": [
    {
     "name": "stdout",
     "output_type": "stream",
     "text": [
      "accuracy:  0.8764166666666666\n",
      "accuracy:  0.8778333333333334\n",
      "accuracy:  0.8745\n",
      "accuracy:  0.8554166666666667\n",
      "accuracy:  0.8148333333333333\n"
     ]
    },
    {
     "name": "stderr",
     "output_type": "stream",
     "text": [
      "/home/prakashjha/.local/lib/python3.6/site-packages/seaborn/categorical.py:3666: UserWarning: The `factorplot` function has been renamed to `catplot`. The original name will be removed in a future release. Please update your code. Note that the default `kind` in `factorplot` (`'point'`) has changed `'strip'` in `catplot`.\n",
      "  warnings.warn(msg)\n"
     ]
    },
    {
     "data": {
      "image/png": "[encoded data removed]",
      "text/plain": [
       "<Figure size 360x360 with 1 Axes>"
      ]
     },
     "metadata": {},
     "output_type": "display_data"
    }
   ],
   "source": [
    "layer_vs_accuracy_error()"
   ]
  },
  {
   "cell_type": "code",
   "execution_count": 16,
   "metadata": {
    "ExecuteTime": {
     "end_time": "2019-02-26T15:42:30.838123Z",
     "start_time": "2019-02-26T15:42:30.821929Z"
    },
    "code_folding": [
     0
    ],
    "scrolled": true
   },
   "outputs": [],
   "source": [
    "def evaluate():\n",
    "\n",
    "    X_train, X_validation, Y_train, Y_validation = data_preprocessing()\n",
    "\n",
    "    nl_obj = Neural_Network(layer_sizes = [X_train.shape[1],100,10], activation_function = ['relu','sigmoid'],mode = \"training\")\n",
    "\n",
    "    nb_classes = 10\n",
    "    \n",
    "    targets = Y_train.reshape(-1)\n",
    "    y_hot = np.eye(nb_classes)[targets]\n",
    "\n",
    "    nl_obj.fit(X_train,y_hot,10,0.10)\n",
    "\n",
    "    error_vs_epochs_df = pd.DataFrame(\n",
    "    {'Epochs': nl_obj.epochs,\n",
    "     'Error': nl_obj.error_per_epoch\n",
    "    })\n",
    "    \n",
    "    #Accuracy visualisation\n",
    "    error_vs_epochs_df = error_vs_epochs_df.melt('Error', value_name='Epochs')\n",
    "    error_vs_epochs_graph = sns.factorplot(x=\"Epochs\", y=\"Error\", data=error_vs_epochs_df)\n",
    "    \n",
    "    error_vs_epochs_graph.savefig(\"error_vs_epochs_graph.png\")\n",
    "    \n",
    "    y_predicted = nl_obj.predict(X_validation)\n",
    "    print(\"accuracy: \",calculate_accuracy((Y_validation.T).tolist()[0],y_predicted))\n",
    "\n",
    "#     nl_test = Neural_Network(layer_sizes = None, activation_function = None,mode = \"testing\")\n",
    "\n",
    "#     y_predicted = nl_test.predict(X_validation)\n",
    "#     print(\"accuracy: \",calculate_accuracy((Y_validation.T).tolist()[0],y_predicted))\n",
    "\n"
   ]
  },
  {
   "cell_type": "code",
   "execution_count": 17,
   "metadata": {
    "ExecuteTime": {
     "end_time": "2019-02-26T15:42:52.413038Z",
     "start_time": "2019-02-26T15:42:33.216813Z"
    },
    "scrolled": false
   },
   "outputs": [
    {
     "name": "stderr",
     "output_type": "stream",
     "text": [
      "/home/prakashjha/.local/lib/python3.6/site-packages/seaborn/categorical.py:3666: UserWarning: The `factorplot` function has been renamed to `catplot`. The original name will be removed in a future release. Please update your code. Note that the default `kind` in `factorplot` (`'point'`) has changed `'strip'` in `catplot`.\n",
      "  warnings.warn(msg)\n"
     ]
    },
    {
     "name": "stdout",
     "output_type": "stream",
     "text": [
      "accuracy:  0.88075\n"
     ]
    },
    {
     "data": {
      "image/png": "[encoded data removed]",
      "text/plain": [
       "<Figure size 360x360 with 1 Axes>"
      ]
     },
     "metadata": {},
     "output_type": "display_data"
    }
   ],
   "source": [
    "evaluate()"
   ]
  },
  {
   "cell_type": "code",
   "execution_count": 22,
   "metadata": {
    "ExecuteTime": {
     "end_time": "2019-02-26T15:44:15.860827Z",
     "start_time": "2019-02-26T15:44:15.852033Z"
    },
    "code_folding": [
     0
    ]
   },
   "outputs": [],
   "source": [
    "def evalaute_test_file():\n",
    "    \n",
    "    df = pd.read_csv(\"apparel-test.csv\")\n",
    "    \n",
    "    X = df.values\n",
    "    \n",
    "    with open ('model', 'rb') as fp:\n",
    "        network_layer = pickle.load(fp)\n",
    "    \n",
    "    mean = network_layer[3]\n",
    "    sd = network_layer[4]\n",
    "    \n",
    "    X = (X - mean)/sd\n",
    "    \n",
    "    nl_test = Neural_Network(layer_sizes = None, activation_function = None,mode = \"testing\")\n",
    "\n",
    "    y_predicted = nl_test.predict(X)\n",
    "    \n",
    "    print(y_predicted)\n",
    "    \n",
    "    with open('2018201013_prediction.csv', 'w') as f:\n",
    "        for item in y_predicted:\n",
    "            f.write(\"%s\\n\" % item)"
   ]
  },
  {
   "cell_type": "code",
   "execution_count": 23,
   "metadata": {
    "ExecuteTime": {
     "end_time": "2019-02-26T15:44:17.660136Z",
     "start_time": "2019-02-26T15:44:16.931396Z"
    }
   },
   "outputs": [
    {
     "name": "stdout",
     "output_type": "stream",
     "text": [
      "[0, 1, 2, 2, 4, 6, 8, 2, 5, 0, 3, 2, 4, 6, 8, 5, 6, 3, 6, 4, 4, 4, 2, 1, 5, 7, 8, 4, 4, 1, 7, 7, 7, 8, 1, 0, 9, 8, 6, 8, 2, 0, 4, 4, 2, 0, 3, 3, 2, 3, 2, 6, 9, 3, 0, 9, 9, 4, 0, 3, 4, 5, 4, 6, 1, 1, 0, 9, 5, 2, 7, 3, 2, 2, 5, 7, 1, 6, 1, 3, 9, 8, 1, 6, 4, 8, 9, 4, 1, 6, 3, 6, 2, 2, 5, 0, 4, 7, 7, 3, 9, 6, 9, 8, 8, 2, 3, 8, 2, 7, 5, 5, 3, 2, 7, 5, 0, 2, 7, 4, 0, 5, 6, 4, 7, 0, 8, 5, 0, 3, 1, 7, 9, 4, 9, 6, 4, 2, 6, 4, 3, 3, 3, 2, 2, 6, 3, 0, 1, 3, 4, 3, 3, 1, 9, 3, 3, 3, 9, 5, 6, 7, 7, 3, 2, 4, 0, 6, 7, 2, 2, 8, 9, 0, 2, 4, 6, 5, 7, 9, 7, 1, 3, 9, 1, 5, 5, 6, 0, 7, 4, 9, 1, 6, 0, 0, 2, 4, 8, 9, 0, 4, 2, 5, 5, 8, 6, 2, 1, 9, 3, 2, 7, 1, 9, 5, 9, 8, 2, 8, 5, 7, 7, 3, 2, 4, 5, 7, 8, 1, 9, 5, 6, 2, 9, 7, 2, 0, 9, 8, 1, 5, 7, 7, 0, 2, 4, 5, 3, 3, 8, 1, 0, 4, 4, 8, 4, 9, 8, 3, 3, 2, 4, 2, 2, 9, 3, 9, 2, 8, 6, 8, 8, 2, 7, 2, 5, 5, 9, 7, 8, 6, 4, 8, 3, 8, 3, 1, 2, 2, 2, 1, 8, 1, 3, 0, 3, 1, 7, 8, 5, 2, 0, 9, 6, 2, 7, 4, 7, 7, 1, 0, 6, 0, 7, 8, 7, 0, 9, 2, 1, 2, 5, 0, 8, 5, 8, 7, 7, 6, 1, 2, 9, 7, 6, 0, 1, 6, 3, 8, 6, 5, 5, 0, 9, 2, 9, 8, 0, 6, 9, 6, 4, 3, 0, 6, 0, 8, 5, 9, 5, 1, 2, 0, 7, 1, 2, 7, 5, 9, 8, 2, 0, 2, 2, 6, 6, 7, 2, 9, 8, 3, 9, 7, 5, 1, 4, 2, 9, 5, 5, 6, 3, 4, 7, 4, 2, 2, 6, 5, 0, 2, 0, 2, 3, 5, 7, 0, 5, 0, 7, 0, 5, 6, 7, 7, 5, 5, 4, 4, 0, 4, 0, 9, 8, 4, 1, 0, 6, 6, 4, 9, 2, 3, 1, 2, 5, 8, 3, 8, 2, 7, 1, 2, 0, 7, 8, 7, 4, 5, 1, 2, 3, 0, 5, 8, 4, 9, 9, 5, 5, 8, 4, 6, 3, 2, 7, 1, 5, 2, 5, 5, 9, 6, 0, 7, 0, 6, 7, 6, 8, 6, 3, 7, 3, 1, 4, 9, 7, 0, 8, 6, 4, 8, 8, 1, 7, 1, 9, 3, 8, 1, 2, 2, 9, 3, 8, 6, 6, 4, 2, 5, 7, 1, 2, 0, 0, 2, 9, 4, 5, 2, 3, 8, 2, 2, 5, 5, 4, 7, 1, 9, 8, 9, 7, 2, 4, 4, 2, 1, 6, 4, 4, 1, 2, 7, 3, 5, 9, 7, 7, 1, 7, 2, 2, 8, 4, 2, 2, 8, 8, 3, 7, 0, 2, 7, 8, 4, 2, 6, 6, 7, 9, 4, 5, 8, 5, 4, 1, 1, 2, 7, 6, 4, 5, 0, 2, 2, 3, 4, 3, 2, 0, 2, 5, 2, 9, 7, 8, 1, 1, 3, 7, 5, 7, 8, 5, 3, 0, 3, 7, 9, 4, 6, 6, 8, 0, 1, 8, 9, 1, 7, 8, 7, 9, 3, 1, 8, 3, 5, 4, 7, 9, 2, 7, 9, 5, 1, 3, 8, 2, 9, 2, 2, 6, 5, 6, 0, 5, 1, 3, 9, 9, 3, 9, 7, 3, 4, 2, 3, 7, 4, 1, 1, 8, 7, 7, 5, 8, 8, 4, 5, 8, 1, 2, 6, 6, 7, 3, 7, 6, 5, 7, 1, 3, 8, 3, 0, 3, 8, 4, 0, 1, 8, 0, 7, 2, 7, 0, 9, 1, 1, 3, 6, 7, 8, 2, 7, 8, 9, 0, 1, 3, 5, 9, 6, 3, 9, 7, 1, 6, 9, 0, 1, 7, 0, 0, 5, 1, 9, 8, 7, 3, 9, 1, 0, 3, 8, 9, 4, 9, 3, 9, 3, 6, 8, 0, 0, 8, 9, 7, 9, 0, 5, 9, 2, 2, 7, 7, 3, 1, 9, 8, 3, 6, 8, 9, 1, 8, 8, 0, 6, 7, 1, 4, 3, 3, 2, 1, 4, 5, 0, 7, 8, 8, 8, 6, 0, 6, 7, 8, 1, 9, 3, 5, 2, 4, 8, 3, 1, 1, 0, 1, 2, 4, 9, 9, 1, 1, 5, 9, 4, 5, 9, 5, 5, 8, 0, 3, 0, 1, 7, 9, 3, 5, 4, 6, 5, 2, 9, 8, 5, 7, 2, 9, 3, 8, 7, 6, 5, 1, 7, 6, 8, 8, 9, 9, 0, 2, 8, 9, 5, 3, 0, 4, 5, 0, 0, 0, 8, 9, 2, 2, 8, 2, 6, 6, 9, 6, 9, 7, 5, 9, 9, 2, 7, 4, 7, 8, 3, 0, 1, 8, 3, 0, 0, 0, 2, 9, 7, 3, 0, 1, 7, 1, 9, 8, 9, 4, 0, 3, 6, 3, 2, 5, 5, 2, 0, 6, 6, 9, 1, 0, 6, 1, 0, 3, 5, 3, 7, 0, 2, 2, 8, 8, 0, 2, 5, 2, 8, 8, 3, 6, 6, 8, 0, 0, 6, 1, 2, 1, 3, 6, 5, 2, 5, 0, 2, 0, 2, 9, 0, 5, 0, 0, 2, 1, 8, 5, 6, 2, 6, 3, 3, 6, 3, 5, 2, 6, 9, 0, 3, 4, 7, 2, 7, 1, 4, 7, 2, 3, 9, 1, 3, 8, 8, 2, 3, 6, 9, 0, 9, 6, 0, 2, 9, 2, 9, 4, 5, 2, 2, 4, 7, 2, 4, 8, 5, 1, 3, 8, 6, 1, 8, 4, 2, 8, 7, 9, 0, 8, 5, 9, 4, 1, 2, 8, 5, 2, 7, 5, 1, 8, 3, 5, 4, 2, 7, 4, 9, 6, 4, 5, 7, 5, 9, 8, 0, 2, 2, 4, 4, 7, 6, 3, 2, 6, 8, 8, 8, 9, 7, 8, 0, 7, 6, 5, 3, 3, 2, 5, 0, 3, 3, 9, 5, 1, 3, 6, 7, 7, 9, 8, 1, 1, 7, 7, 8, 7, 5, 9, 2, 1, 7, 3, 5, 7, 0, 4, 4, 2, 0, 7, 8, 1, 7, 0, 0, 1, 0, 9, 3, 9, 0, 6, 1, 8, 1, 6, 7, 2, 0, 6, 6, 5, 9, 8, 1, 2, 4, 6, 0, 6, 5, 1, 7, 3, 3, 0, 9, 6, 9, 5, 1, 5, 7, 0, 7, 6, 8, 4, 9, 6, 3, 9, 3, 3, 0, 8, 6, 0, 0, 9, 2, 7, 1, 5, 7, 8, 4, 3, 8, 9, 5, 7, 4, 1, 2, 6, 7, 3, 6, 0, 2, 2, 7, 5, 5, 2, 3, 4, 3, 5, 9, 0, 7, 7, 1, 3, 9, 5, 5, 7, 4, 6, 9, 0, 8, 3, 3, 8, 9, 0, 2, 1, 8, 4, 7, 8, 2, 4, 8, 2, 8, 7, 7, 7, 5, 8, 5, 4, 4, 1, 7, 4, 9, 1, 1, 3, 8, 1, 9, 7, 5, 7, 8, 8, 9, 6, 5, 2, 1, 4, 5, 8, 6, 4, 9, 0, 9, 4, 7, 6, 5, 4, 6, 5, 5, 7, 5, 6, 5, 0, 5, 1, 8, 9, 8, 3, 9, 6, 0, 9, 6, 4, 7, 3, 2, 1, 9, 7, 7, 2, 7, 0, 1, 3, 7, 7, 1, 6, 4, 6, 4, 5, 5, 4, 6, 7, 2, 8, 8, 4, 8, 3, 2, 0, 2, 9, 5, 7, 2, 5, 1, 8, 2, 3, 9, 8, 9, 5, 0, 6, 4, 6, 9, 2, 8, 2, 0, 6, 6, 1, 8, 6, 0, 6, 9, 9, 9, 9, 6, 1, 0, 9, 1, 8, 8, 8, 7, 0, 5, 3, 3, 2, 0, 3, 1, 7, 9, 1, 8, 5, 9, 5, 0, 1, 7, 3, 6, 5, 1, 6, 8, 9, 2, 6, 0, 9, 7, 0, 8, 0, 2, 0, 7, 3, 8, 3, 5, 2, 8, 9, 2, 2, 0, 0, 1, 0, 0, 5, 1, 2, 1, 7, 6, 3, 0, 1, 8, 9, 6, 2, 0, 5, 0, 2, 2, 6, 6, 0, 1, 5, 3, 4, 4, 4, 7, 0, 9, 2, 0, 7, 3, 1, 0, 6, 8, 6, 1, 4, 1, 0, 3, 4, 4, 8, 2, 0, 6, 3, 9, 8, 9, 4, 1, 5, 0, 3, 3, 1, 4, 6, 9, 3, 2, 5, 0, 9, 7, 4, 0, 4, 2, 9, 0, 4, 2, 2, 2, 8, 2, 5, 1, 3, 8, 3, 8, 5, 1, 0, 5, 4, 5, 6, 3, 3, 7, 7, 5, 7, 4, 5, 1, 1, 6, 1, 1, 8, 7, 1, 1, 1, 8, 8, 0, 5, 0, 4, 6, 6, 7, 5, 4, 2, 5, 2, 6, 9, 9, 7, 5, 6, 1, 3, 1, 3, 2, 5, 7, 1, 4, 1, 5, 6, 4, 2, 7, 4, 7, 1, 5, 6, 4, 8, 6, 7, 7, 0, 7, 9, 3, 2, 1, 7, 0, 9, 2, 8, 8, 5, 3, 8, 2, 1, 9, 7, 8, 6, 7, 5, 6, 2, 5, 6, 7, 0, 0, 7, 4, 4, 6, 8, 0, 1, 6, 5, 3, 3, 0, 4, 8, 3, 9, 8, 9, 4, 7, 9, 5, 0, 4, 9, 6, 2, 8, 2, 2, 4, 5, 8, 1, 9, 1, 1, 2, 8, 8, 3, 7, 6, 5, 4, 6, 7, 3, 3, 0, 2, 4, 2, 6, 6, 1, 0, 8, 1, 2, 3, 0, 1, 4, 2, 0, 2, 5, 6, 6, 4, 2, 2, 3, 1, 1, 7, 7, 9, 2, 4, 9, 3, 3, 3, 3, 7, 0, 1, 5, 7, 0, 5, 0, 7, 8, 6, 4, 7, 4, 6, 2, 9, 1, 4, 4, 6, 2, 4, 6, 2, 1, 9, 0, 3, 8, 6, 1, 3, 4, 8, 9, 2, 9, 6, 2, 5, 9, 7, 4, 5, 2, 2, 0, 6, 8, 8, 9, 0, 8, 0, 0, 7, 9, 5, 9, 0, 7, 3, 3, 9, 6, 2, 5, 3, 6, 7, 7, 0, 9, 9, 8, 0, 7, 0, 6, 3, 5, 0, 8, 4, 3, 9, 3, 0, 0, 4, 1, 1, 8, 9, 0, 0, 7, 4, 1, 6, 6, 6, 2, 4, 1, 1, 2, 0, 9, 4, 2, 9, 3, 3, 2, 3, 1, 1, 7, 6, 6, 2, 9, 7, 1, 0, 4, 9, 7, 1, 0, 5, 2, 1, 3, 5, 3, 9, 2, 8, 7, 4, 2, 9, 4, 9, 0, 4, 0, 1, 2, 3, 7, 2, 9, 3, 3, 0, 5, 1, 1, 0, 3, 8, 3, 6, 5, 9, 1, 0, 0, 3, 0, 7, 0, 9, 9, 0, 7, 4, 6, 1, 9, 7, 2, 8, 6, 1, 0, 2, 9, 3, 0, 3, 0, 5, 8, 2, 9, 7, 5, 6, 2, 0, 1, 3, 6, 4, 9, 4, 4, 8, 6, 4, 9, 9, 0, 5, 5, 3, 5, 3, 3, 9, 4, 0, 2, 3, 9, 6, 5, 3, 7, 8, 4, 3, 5, 3, 2, 7, 6, 9, 6, 7, 3, 5, 9, 6, 8, 7, 9, 3, 4, 0, 2, 4, 7, 9, 5, 8, 0, 3, 5, 3, 1, 8, 5, 2, 5, 5, 2, 7, 3, 6, 5, 9, 6, 9, 2, 6, 3, 4, 4, 2, 9, 8, 0, 1, 4, 4, 1, 9, 8, 8, 0, 3, 8, 6, 7, 5, 9, 5, 1, 4, 3, 4, 4, 1, 0, 7, 6, 5, 4, 5, 8, 8, 5, 0, 4, 9, 5, 8, 7, 6, 4, 2, 8, 9, 0, 3, 0, 6, 5, 0, 5, 0, 3, 1, 5, 5, 3, 2, 6, 9, 2, 4, 9, 0, 8, 3, 3, 6, 0, 8, 6, 5, 0, 1, 3, 6, 2, 8, 0, 8, 2, 9, 2, 8, 7, 1, 9, 7, 6, 5, 8, 7, 6, 4, 4, 8, 9, 0, 3, 8, 3, 1, 0, 0, 6, 7, 3, 2, 2, 2, 7, 3, 1, 3, 4, 9, 0, 2, 4, 0, 1, 0, 5, 1, 2, 4, 0, 9, 7, 3, 9, 3, 8, 1, 3, 4, 9, 3, 3, 2, 5, 1, 1, 7, 8, 0, 6, 2, 9, 8, 2, 5, 0, 1, 8, 4, 6, 4, 1, 3, 7, 0, 8, 7, 2, 0, 0, 8, 0, 0, 6, 7, 9, 2, 6, 0, 6, 3, 3, 4, 3, 3, 7, 7, 1, 9, 7, 2, 3, 8, 7, 5, 5, 5, 2, 8, 9, 8, 3, 2, 6, 4, 0, 2, 6, 4, 5, 8, 2, 5, 6, 7, 2, 7, 3, 0, 8, 2, 7, 7, 8, 9, 6, 1, 7, 2, 3, 5, 1, 0, 3, 0, 7, 9, 9, 9, 0, 3, 6, 6, 4, 9, 0, 1, 6, 6, 0, 1, 2, 8, 1, 2, 0, 0, 8, 6, 0, 4, 2, 9, 9, 5, 4, 1, 4, 9, 8, 5, 6, 5, 6, 9, 0, 7, 4, 7, 3, 4, 9, 4, 2, 8, 0, 3, 1, 8, 1, 6, 4, 8, 3, 1, 3, 4, 5, 9, 9, 8, 4, 3, 3, 2, 1, 4, 0, 9, 5, 6, 5, 7, 2, 4, 8, 0, 0, 7, 7, 8, 3, 4, 1, 3, 6, 4, 8, 4, 3, 0, 8, 6, 5, 7, 2, 8, 5, 7, 9, 8, 1, 3, 6, 4, 7, 1, 0, 9, 6, 9, 3, 8, 1, 9, 5, 7, 8, 6, 2, 5, 2, 4, 3, 3, 3, 9, 7, 6, 8, 6, 5, 3, 8, 3, 3, 2, 8, 8, 4, 8, 8, 6, 7, 6, 2, 7, 5, 3, 6, 5, 1, 5, 4, 7, 3, 3, 6, 4, 0, 3, 4, 5, 1, 1, 9, 0, 4, 9, 6, 3, 8, 5, 8, 4, 0, 3, 4, 2, 4, 2, 4, 1, 7, 5, 3, 9, 6, 0, 0, 3, 6, 0, 8, 2, 3, 9, 6, 9, 7, 1, 7, 9, 8, 8, 9, 5, 2, 1, 0, 1, 6, 9, 4, 0, 2, 1, 5, 6, 0, 8, 7, 8, 6, 9, 5, 2, 1, 4, 1, 1, 0, 4, 0, 1, 1, 0, 7, 0, 3, 9, 9, 3, 8, 1, 2, 8, 1, 8, 5, 9, 8, 4, 1, 0, 4, 5, 8, 8, 0, 5, 0, 7, 1, 7, 1, 2, 2, 0, 9, 1, 1, 8, 3, 1, 6, 7, 1, 1, 5, 5, 6, 6, 4, 4, 9, 3, 8, 6, 5, 2, 9, 1, 8, 8, 3, 5, 5, 0, 8, 8, 5, 3, 0, 7, 5, 8, 6, 5, 3, 6, 4, 2, 8, 3, 0, 2, 6, 6, 4, 5, 9, 9, 4, 9, 8, 4, 3, 9, 6, 8, 7, 1, 0, 9, 5, 2, 7, 7, 3, 3, 4, 1, 6, 2, 3, 2, 0, 0, 6, 9, 5, 9, 9, 6, 2, 3, 8, 0, 6, 5, 9, 3, 6, 0, 8, 5, 5, 1, 4, 0, 5, 1, 9, 3, 2, 9, 1, 4, 8, 9, 9, 0, 4, 5, 5, 4, 1, 3, 5, 8, 6, 7, 5, 7, 2, 5, 2, 2, 9, 8, 8, 9, 9, 2, 0, 2, 1, 3, 4, 8, 8, 3, 3, 9, 8, 7, 6, 3, 4, 7, 5, 8, 0, 3, 1, 2, 6, 2, 4, 9, 7, 5, 0, 2, 3, 6, 7, 7, 7, 0, 6, 4, 7, 9, 8, 9, 8, 2, 9, 5, 8, 9, 8, 2, 2, 6, 0, 3, 2, 9, 2, 6, 7, 4, 3, 2, 2, 6, 9, 1, 8, 2, 8, 1, 0, 5, 1, 0, 4, 1, 0, 3, 3, 0, 4, 6, 5, 3, 7, 4, 1, 0, 4, 5, 2, 7, 4, 0, 3, 9, 3, 9, 1, 2, 7, 1, 8, 5, 3, 5, 2, 3, 4, 1, 1, 2, 4, 5, 9, 9, 7, 3, 0, 4, 5, 2, 0, 8, 3, 9, 7, 9, 5, 2, 8, 8, 2, 8, 5, 5, 2, 1, 4, 9, 5, 1, 5, 5, 9, 3, 2, 5, 5, 5, 2, 9, 0, 1, 4, 4, 9, 8, 3, 3, 9, 8, 4, 8, 7, 1, 4, 3, 4, 8, 2, 8, 9, 3, 1, 5, 0, 3, 4, 5, 1, 5, 3, 8, 3, 9, 7, 9, 2, 2, 0, 7, 7, 3, 3, 4, 6, 0, 9, 9, 2, 3, 0, 7, 1, 9, 8, 4, 2, 0, 9, 7, 9, 1, 0, 8, 6, 6, 2, 9, 1, 0, 7, 9, 1, 7, 4, 7, 1, 4, 8, 8, 3, 9, 2, 6, 7, 7, 4, 4, 7, 9, 0, 2, 5, 5, 1, 0, 0, 7, 2, 7, 7, 1, 8, 8, 2, 8, 1, 0, 7, 1, 4, 3, 6, 0, 0, 3, 8, 2, 0, 5, 4, 2, 0, 8, 5, 4, 2, 7, 1, 5, 8, 8, 0, 9, 1, 4, 3, 3, 3, 3, 0, 1, 5, 1, 9, 2, 6, 2, 8, 4, 6, 5, 0, 2, 4, 2, 6, 7, 3, 4, 0, 8, 8, 7, 5, 0, 9, 4, 1, 7, 5, 0, 4, 2, 8, 8, 1, 2, 9, 6, 5, 8, 9, 3, 0, 6, 9, 0, 5, 9, 6, 5, 2, 1, 6, 4, 0, 0, 4, 3, 9, 6, 0, 8, 7, 7, 5, 2, 0, 5, 6, 0, 8, 1, 7, 0, 3, 7, 9, 9, 8, 4, 6, 9, 5, 9, 2, 5, 0, 4, 0, 6, 1, 9, 0, 2, 3, 0, 6, 1, 0, 2, 8, 8, 9, 1, 0, 7, 0, 3, 7, 6, 0, 8, 2, 5, 3, 1, 4, 9, 8, 9, 5, 9, 6, 5, 7, 1, 9, 9, 5, 5, 6, 0, 7, 8, 0, 6, 3, 5, 6, 1, 6, 5, 8, 9, 6, 6, 4, 2, 8, 3, 9, 4, 3, 7, 2, 9, 6, 0, 7, 9, 8, 5, 3, 2, 8, 2, 7, 6, 7, 3, 3, 8, 5, 5, 1, 4, 6, 7, 6, 5, 9, 6, 1, 1, 5, 5, 4, 5, 3, 0, 6, 0, 4, 3, 8, 4, 3, 1, 6, 3, 8, 6, 4, 4, 2, 6, 2, 3, 1, 9, 0, 8, 2, 4, 0, 2, 9, 1, 0, 8, 4, 3, 7, 9, 9, 4, 4, 4, 2, 7, 2, 1, 6, 3, 2, 7, 2, 1, 9, 6, 3, 2, 7, 6, 1, 4, 5, 2, 1, 1, 1, 8, 8, 8, 1, 9, 0, 3, 3, 6, 3, 0, 0, 4, 9, 4, 2, 7, 3, 5, 4, 6, 1, 5, 4, 9, 0, 1, 0, 7, 2, 5, 3, 4, 0, 7, 8, 8, 0, 1, 5, 5, 6, 0, 7, 7, 3, 9, 7, 7, 7, 0, 6, 6, 2, 4, 3, 0, 5, 9, 6, 2, 9, 4, 5, 4, 9, 5, 9, 9, 2, 6, 4, 3, 3, 9, 9, 3, 9, 2, 8, 1, 5, 8, 0, 2, 9, 5, 0, 2, 2, 1, 5, 3, 3, 9, 5, 2, 4, 0, 4, 4, 6, 8, 2, 7, 5, 0, 2, 9, 5, 3, 1, 4, 1, 0, 1, 3, 1, 0, 7, 7, 1, 1, 8, 7, 1, 8, 8, 4, 4, 7, 1, 9, 7, 5, 0, 5, 9, 8, 5, 2, 2, 4, 2, 5, 1, 8, 2, 1, 3, 1, 9, 0, 3, 5, 1, 2, 1, 7, 2, 1, 5, 2, 6, 1, 8, 4, 9, 2, 3, 1, 8, 3, 4, 1, 5, 5, 6, 1, 8, 6, 7, 3, 6, 5, 4, 6, 8, 9, 4, 7, 2, 6, 1, 0, 3, 7, 3, 9, 1, 0, 9, 0, 2, 8, 5, 3, 4, 4, 8, 0, 2, 6, 6, 3, 9, 2, 7, 9, 6, 6, 8, 4, 8, 8, 2, 8, 0, 4, 8, 6, 8, 6, 7, 4, 1, 3, 9, 0, 1, 1, 5, 5, 9, 8, 3, 8, 1, 9, 1, 9, 1, 2, 1, 4, 2, 5, 7, 7, 0, 3, 5, 6, 8, 3, 8, 7, 1, 7, 2, 2, 6, 5, 3, 3, 5, 5, 6, 8, 7, 9, 7, 9, 9, 5, 1, 4, 8, 0, 6, 3, 0, 9, 6, 8, 6, 5, 0, 8, 3, 2, 4, 5, 8, 0, 3, 2, 8, 6, 1, 4, 1, 4, 8, 1, 3, 3, 4, 4, 4, 8, 7, 4, 7, 0, 9, 8, 5, 3, 0, 8, 8, 2, 1, 6, 5, 6, 1, 7, 8, 2, 2, 9, 5, 2, 7, 5, 8, 2, 3, 5, 2, 8, 4, 9, 0, 6, 9, 1, 0, 6, 3, 4, 8, 3, 7, 5, 6, 4, 3, 2, 8, 0, 3, 3, 7, 0, 4, 0, 3, 6, 4, 3, 9, 4, 8, 7, 3, 6, 1, 5, 5, 6, 7, 0, 1, 0, 1, 6, 8, 8, 5, 6, 2, 3, 5, 0, 7, 1, 8, 9, 1, 2, 3, 9, 8, 7, 5, 3, 4, 8, 7, 8, 7, 0, 4, 7, 3, 0, 8, 8, 8, 8, 0, 0, 8, 6, 0, 3, 0, 0, 7, 5, 5, 1, 5, 2, 1, 7, 9, 0, 0, 0, 2, 9, 2, 1, 2, 5, 0, 1, 7, 3, 8, 7, 8, 1, 6, 1, 9, 6, 5, 8, 4, 6, 2, 2, 0, 2, 8, 0, 1, 5, 8, 8, 1, 9, 7, 1, 4, 8, 7, 9, 4, 9, 4, 4, 6, 5, 5, 6, 2, 9, 9, 8, 6, 4, 5, 3, 3, 4, 5, 7, 9, 2, 0, 0, 7, 9, 7, 7, 8, 0, 9, 7, 6, 3, 2, 0, 1, 3, 2, 5, 3, 7, 3, 6, 4, 9, 8, 2, 3, 7, 7, 6, 1, 0, 2, 8, 3, 5, 6, 5, 4, 5, 6, 7, 1, 5, 2, 8, 7, 8, 6, 1, 8, 3, 9, 8, 0, 3, 1, 7, 9, 8, 3, 3, 8, 2, 5, 1, 9, 7, 5, 1, 4, 6, 6, 8, 6, 8, 9, 6, 7, 6, 1, 2, 2, 1, 5, 9, 3, 2, 4, 3, 6, 2, 6, 5, 9, 5, 7, 4, 2, 1, 0, 5, 4, 1, 6, 7, 6, 5, 8, 2, 3, 5, 9, 3, 7, 5, 3, 8, 9, 4, 7, 2, 8, 3, 2, 8, 7, 3, 3, 4, 4, 5, 8, 0, 6, 6, 8, 1, 9, 4, 2, 7, 7, 9, 0, 9, 1, 5, 0, 6, 9, 0, 8, 2, 5, 3, 0, 4, 1, 9, 6, 3, 4, 5, 2, 2, 2, 3, 8, 9, 2, 8, 3, 8, 2, 6, 6, 9, 8, 6, 4, 0, 8, 3, 7, 7, 9, 6, 9, 1, 0, 2, 4, 2, 0, 3, 2, 0, 8, 3, 6, 1, 8, 5, 1, 4, 5, 7, 6, 7, 4, 8, 0, 3, 4, 7, 1, 4, 2, 0, 8, 3, 0, 1, 8, 0, 8, 6, 0, 6, 6, 6, 0, 0, 1, 7, 0, 6, 3, 8, 2, 2, 8, 0, 7, 6, 7, 3, 0, 6, 9, 2, 2, 3, 1, 5, 2, 3, 1, 6, 4, 1, 1, 0, 0, 3, 5, 1, 1, 6, 8, 9, 4, 4, 0, 8, 4, 0, 5, 3, 9, 8, 0, 5, 5, 9, 2, 1, 1, 8, 1, 6, 4, 8, 8, 5, 0, 7, 0, 1, 1, 2, 2, 9, 2, 8, 8, 9, 0, 4, 3, 0, 1, 5, 3, 6, 0, 4, 9, 4, 1, 4, 3, 4, 2, 7, 7, 4, 6, 0, 7, 3, 1, 5, 1, 8, 7, 7, 5, 8, 3, 9, 1, 8, 2, 3, 0, 7, 9, 6, 1, 2, 0, 4, 3, 2, 6, 0, 2, 7, 9, 2, 7, 6, 2, 4, 6, 8, 2, 1, 6, 4, 8, 7, 3, 9, 7, 5, 7, 3, 5, 6, 9, 3, 7, 5, 7, 0, 9, 8, 6, 1, 5, 2, 4, 4, 6, 5, 3, 8, 2, 0, 6, 1, 9, 2, 4, 9, 7, 0, 3, 1, 4, 7, 3, 7, 3, 7, 8, 0, 9, 6, 5, 3, 8, 3, 5, 7, 4, 2, 0, 5, 3, 1, 4, 5, 5, 0, 8, 2, 0, 8, 3, 5, 2, 1, 7, 0, 7, 5, 1, 9, 7, 5, 9, 8, 6, 1, 5, 5, 5, 9, 9, 7, 2, 7, 9, 5, 1, 1, 4, 2, 0, 3, 7, 7, 8, 6, 9, 0, 4, 1, 6, 9, 7, 8, 0, 9, 7, 9, 2, 9, 7, 1, 4, 3, 0, 6, 3, 7, 8, 7, 7, 6, 1, 7, 9, 8, 5, 8, 3, 2, 5, 8, 5, 9, 9, 0, 1, 1, 6, 0, 9, 0, 8, 5, 3, 1, 5, 1, 4, 6, 6, 1, 5, 6, 1, 0, 0, 8, 0, 4, 7, 0, 2, 2, 8, 5, 9, 6, 2, 0, 3, 0, 7, 3, 8, 4, 3, 3, 6, 8, 4, 1, 5, 0, 3, 0, 0, 1, 7, 9, 1, 6, 9, 4, 0, 3, 9, 2, 0, 6, 8, 0, 0, 7, 0, 2, 1, 4, 3, 3, 1, 4, 6, 3, 8, 4, 6, 4, 9, 5, 1, 5, 5, 9, 7, 7, 7, 9, 2, 3, 9, 7, 3, 6, 9, 4, 8, 6, 6, 4, 9, 9, 7, 3, 4, 5, 7, 1, 8, 8, 6, 4, 1, 6, 4, 2, 1, 1, 3, 7, 2, 7, 1, 6, 2, 7, 9, 0, 9, 9, 4, 1, 3, 2, 3, 4, 7, 8, 2, 7, 6, 2, 0, 4, 6, 3, 6, 4, 4, 7, 8, 9, 4, 8, 7, 6, 3, 8, 6, 5, 3, 1, 5, 6, 1, 3, 3, 0, 5, 9, 0, 3, 1, 3, 3, 8, 4, 5, 9, 6, 9, 4, 2, 1, 7, 8, 7, 4, 2, 0, 0, 8, 6, 9, 9, 6, 9, 7, 0, 4, 6, 2, 6, 2, 7, 2, 6, 3, 0, 6, 6, 0, 3, 6, 1, 3, 1, 5, 1, 9, 8, 4, 4, 4, 2, 8, 3, 4, 4, 8, 3, 3, 7, 7, 2, 7, 2, 5, 1, 6, 7, 1, 3, 4, 2, 8, 9, 5, 0, 8, 0, 4, 2, 8, 1, 1, 2, 5, 8, 0, 5, 3, 0, 9, 0, 5, 1, 7, 0, 5, 9, 8, 4, 0, 0, 9, 8, 8, 3, 3, 7, 0, 8, 3, 7, 3, 7, 9, 5, 0, 0, 1, 6, 9, 7, 9, 1, 2, 4, 5, 6, 5, 8, 8, 9, 2, 1, 3, 6, 0, 4, 8, 3, 8, 2, 7, 2, 2, 9, 7, 5, 2, 4, 1, 3, 2, 2, 6, 9, 0, 0, 7, 4, 8, 7, 6, 7, 5, 4, 4, 0, 6, 2, 0, 3, 8, 5, 8, 0, 0, 1, 5, 0, 1, 7, 8, 9, 6, 9, 0, 1, 5, 6, 6, 4, 0, 4, 7, 1, 7, 0, 8, 1, 1, 9, 7, 2, 9, 4, 0, 0, 9, 4, 1, 7, 1, 1, 7, 0, 1, 4, 4, 1, 1, 1, 5, 5, 9, 5, 5, 8, 7, 5, 1, 8, 6, 1, 9, 8, 4, 9, 9, 9, 4, 3, 0, 2, 7, 9, 0, 0, 1, 9, 4, 6, 1, 7, 1, 3, 7, 2, 7, 0, 9, 9, 3, 0, 6, 4, 5, 6, 2, 9, 8, 0, 3, 7, 7, 4, 1, 0, 4, 0, 9, 0, 5, 2, 8, 0, 1, 5, 8, 1, 1, 9, 2, 5, 3, 9, 9, 9, 6, 4, 4, 4, 8, 6, 0, 7, 4, 4, 5, 8, 7, 7, 8, 4, 0, 2, 9, 1, 9, 3, 1, 0, 9, 0, 3, 3, 4, 2, 7, 5, 3, 3, 1, 7, 4, 7, 8, 8, 0, 2, 5, 8, 8, 8, 8, 8, 5, 4, 0, 9, 5, 6, 5, 8, 4, 2, 7, 1, 1, 3, 1, 0, 0, 0, 8, 6, 1, 3, 8, 1, 4, 7, 0, 1, 8, 8, 0, 1, 3, 8, 4, 7, 0, 5, 1, 7, 4, 2, 3, 1, 2, 2, 6, 3, 5, 3, 7, 7, 8, 4, 0, 6, 5, 3, 9, 8, 7, 2, 0, 5, 1, 5, 7, 9, 7, 9, 5, 0, 5, 0, 9, 4, 3, 6, 4, 0, 1, 6, 4, 4, 0, 9, 2, 2, 9, 3, 4, 0, 2, 7, 5, 9, 8, 0, 1, 2, 8, 9, 8, 8, 4, 8, 2, 1, 9, 1, 7, 1, 8, 1, 1, 6, 2, 2, 2, 9, 4, 4, 2, 1, 7, 1, 0, 9, 0, 3, 7, 4, 6, 0, 4, 0, 3, 9, 3, 9, 0, 1, 7, 8, 7, 8, 6, 0, 1, 1, 4, 7, 4, 3, 3, 1, 8, 3, 2, 7, 9, 3, 2, 6, 4, 9, 8, 2, 8, 2, 8, 9, 6, 6, 2, 2, 9, 3, 9, 6, 2, 0, 2, 2, 9, 0, 7, 2, 2, 2, 2, 5, 2, 9, 5, 0, 5, 8, 8, 0, 4, 7, 6, 5, 1, 9, 1, 6, 9, 3, 1, 9, 0, 9, 2, 4, 5, 7, 1, 0, 5, 2, 4, 2, 0, 7, 3, 2, 8, 0, 5, 9, 1, 2, 1, 3, 2, 4, 9, 2, 3, 5, 7, 0, 5, 0, 4, 2, 3, 0, 6, 0, 0, 8, 2, 2, 8, 6, 3, 2, 3, 8, 0, 2, 6, 5, 4, 4, 0, 7, 0, 6, 8, 7, 8, 2, 6, 0, 0, 4, 7, 7, 3, 4, 9, 2, 0, 9, 1, 2, 6, 1, 9, 2, 5, 0, 9, 3, 0, 8, 3, 0, 6, 7, 6, 9, 2, 5, 7, 8, 0, 7, 2, 5, 8, 2, 3, 6, 3, 9, 8, 7, 0, 4, 7, 9, 6, 4, 5, 8, 0, 9, 0, 0, 8, 3, 4, 4, 2, 3, 7, 5, 7, 3, 5, 9, 6, 1, 1, 9, 7, 4, 7, 2, 1, 2, 5, 9, 0, 2, 0, 8, 7, 5, 2, 6, 5, 2, 4, 5, 4, 4, 8, 0, 0, 2, 1, 7, 0, 4, 7, 8, 2, 1, 4, 2, 7, 3, 5, 5, 7, 4, 1, 0, 2, 4, 9, 4, 1, 1, 7, 4, 8, 2, 2, 5, 8, 2, 6, 6, 1, 2, 5, 5, 6, 2, 6, 0, 3, 1, 3, 3, 7, 3, 7, 7, 9, 4, 3, 7, 2, 3, 9, 0, 1, 6, 3, 0, 4, 9, 2, 7, 1, 6, 0, 8, 4, 4, 6, 2, 2, 8, 7, 8, 7, 4, 2, 4, 8, 5, 6, 5, 6, 2, 3, 3, 5, 2, 0, 1, 3, 3, 0, 4, 3, 4, 5, 3, 9, 8, 5, 6, 8, 9, 7, 6, 5, 3, 7, 8, 1, 6, 5, 3, 9, 1, 6, 0, 9, 0, 0, 2, 8, 5, 7, 4, 5, 8, 2, 6, 2, 4, 8, 2, 6, 9, 5, 1, 5, 4, 0, 3, 4, 8, 4, 3, 7, 3, 1, 7, 5, 5, 7, 3, 8, 6, 0, 9, 6, 7, 8, 0, 2, 6, 8, 4, 6, 7, 2, 0, 6, 0, 8, 0, 4, 7, 2, 3, 8, 7, 5, 3, 0, 9, 9, 2, 8, 5, 9, 1, 5, 3, 3, 1, 2, 1, 1, 9, 8, 3, 8, 5, 7, 7, 1, 7, 1, 7, 7, 3, 2, 8, 5, 5, 6, 5, 8, 0, 9, 4, 8, 8, 6, 1, 2, 8, 2, 3, 9, 9, 2, 7, 1, 3, 2, 7, 3, 0, 8, 3, 3, 6, 8, 5, 5, 0, 0, 8, 8, 0, 4, 7, 2, 2, 0, 1, 2, 0, 3, 6, 1, 1, 8, 2, 1, 3, 6, 1, 7, 5, 1, 7, 3, 6, 2, 8, 8, 1, 7, 5, 1, 9, 3, 5, 9, 0, 0, 5, 8, 5, 7, 0, 0, 4, 4, 5, 3, 8, 2, 3, 5, 8, 3, 9, 4, 4, 9, 5, 7, 1, 5, 7, 9, 4, 1, 9, 5, 6, 1, 7, 9, 2, 8, 9, 4, 3, 2, 6, 8, 6, 3, 8, 4, 7, 4, 6, 4, 2, 8, 8, 9, 5, 1, 9, 8, 5, 6, 3, 7, 5, 0, 3, 7, 7, 0, 7, 5, 6, 8, 3, 2, 8, 5, 9, 1, 1, 8, 0, 7, 3, 9, 9, 7, 9, 1, 1, 3, 0, 5, 5, 8, 9, 2, 8, 9, 8, 1, 9, 6, 6, 7, 9, 6, 7, 1, 3, 8, 8, 2, 6, 5, 7, 3, 5, 5, 3, 2, 6, 4, 1, 2, 4, 3, 1, 6, 8, 6, 1, 7, 6, 2, 6, 1, 4, 1, 7, 7, 3, 9, 3, 5, 8, 3, 5, 5, 6, 2, 7, 9, 7, 2, 1, 6, 6, 2, 4, 6, 6, 7, 8, 5, 4, 3, 8, 7, 8, 0, 3, 3, 8, 3, 6, 4, 5, 9, 0, 6, 4, 0, 2, 5, 1, 9, 6, 7, 7, 3, 6, 9, 3, 2, 3, 7, 0, 5, 0, 7, 7, 7, 3, 4, 8, 3, 9, 8, 2, 9, 8, 9, 6, 8, 7, 8, 5, 6, 1, 9, 0, 4, 4, 7, 4, 2, 0, 7, 1, 3, 0, 8, 7, 8, 3, 7, 1, 7, 7, 1, 2, 5, 4, 9, 8, 4, 2, 6, 7, 6, 3, 4, 5, 4, 8, 9, 6, 3, 7, 6, 7, 0, 1, 0, 2, 6, 8, 9, 0, 3, 9, 5, 5, 7, 4, 8, 1, 8, 7, 8, 9, 1, 0, 6, 0, 4, 9, 4, 5, 5, 6, 1, 1, 1, 4, 2, 3, 2, 1, 9, 4, 4, 2, 7, 8, 1, 2, 2, 9, 8, 2, 1, 6, 0, 4, 1, 7, 3, 4, 7, 3, 0, 0, 3, 1, 9, 6, 9, 3, 6, 7, 5, 9, 0, 9, 4, 4, 5, 4, 1, 4, 1, 5, 5, 8, 9, 3, 0, 9, 9, 5, 8, 8, 4, 4, 2, 4, 2, 7, 2, 2, 4, 2, 7, 6, 2, 3, 0, 5, 7, 6, 0, 6, 0, 4, 8, 8, 9, 7, 7, 7, 9, 5, 6, 3, 7, 8, 2, 8, 8, 2, 1, 6, 7, 3, 0, 9, 6, 0, 4, 7, 9, 5, 9, 7, 2, 0, 6, 0, 0, 2, 2, 1, 6, 9, 4, 4, 7, 1, 1, 6, 4, 7, 9, 0, 1, 0, 9, 2, 8, 9, 9, 0, 4, 5, 4, 8, 6, 3, 5, 7, 6, 9, 4, 2, 5, 5, 0, 9, 5, 9, 4, 8, 1, 7, 1, 0, 2, 9, 4, 6, 2, 6, 0, 6, 9, 9, 6, 1, 7, 1, 6, 4, 4, 3, 7, 8, 7, 0, 7, 6, 4, 2, 4, 0, 2, 8, 1, 3, 1, 6, 9, 3, 7, 5, 3, 5, 2, 4, 4, 8, 8, 4, 0, 3, 1, 1, 1, 0, 5, 5, 6, 7, 9, 6, 9, 3, 1, 9, 1, 3, 1, 4, 4, 9, 7, 8, 8, 1, 6, 1, 4, 0, 0, 2, 7, 3, 9, 0, 7, 9, 4, 0, 7, 7, 3, 6, 0, 3, 0, 0, 0, 1, 1, 9, 3, 2, 8, 5, 3, 5, 7, 8, 6, 0, 0, 4, 2, 0, 3, 4, 0, 6, 5, 1, 3, 6, 9, 2, 2, 4, 6, 2, 1, 3, 0, 6, 9, 3, 7, 0, 1, 7, 1, 2, 7, 4, 2, 1, 7, 8, 6, 9, 9, 1, 2, 9, 1, 5, 5, 6, 0, 7, 2, 8, 5, 5, 0, 3, 7, 1, 9, 8, 2, 8, 2, 9, 6, 3, 4, 2, 0, 3, 3, 7, 7, 3, 4, 6, 7, 1, 3, 7, 8, 9, 2, 5, 1, 2, 8, 1, 8, 9, 8, 2, 6, 9, 2, 0, 0, 7, 9, 3, 1, 4, 3, 1, 4, 8, 8, 7, 6, 2, 5, 9, 0, 8, 7, 8, 0, 3, 2, 3, 0, 1, 8, 1, 5, 3, 7, 1, 8, 6, 7, 5, 3, 4, 0, 8, 0, 3, 7, 9, 4, 9, 9, 0, 6, 3, 3, 1, 5, 5, 3, 8, 0, 6, 5, 8, 1, 1, 4, 0, 7, 2, 0, 6, 3, 2, 7, 9, 4, 4, 9, 7, 2, 1, 1, 2, 7, 7, 4, 8, 3, 9, 7, 6, 8, 1, 3, 2, 3, 1, 6, 2, 2, 2, 7, 5, 8, 2, 1, 3, 0, 9, 0, 9, 7, 0, 9, 0, 8, 2, 5, 6, 1, 3, 5, 9, 3, 2, 8, 2, 5, 0, 5, 0, 1, 6, 7, 2, 1, 9, 0, 9, 3, 6, 1, 5, 9, 4, 2, 9, 2, 4, 7, 6, 7, 0, 3, 1, 6, 9, 0, 2, 2, 3, 6, 1, 7, 7, 7, 9, 3, 2, 8, 5, 8, 1, 2, 3, 1, 2, 2, 7, 0, 3, 5, 5, 7, 1, 7, 6, 6, 1, 9, 4, 1, 5, 9, 2, 9, 8, 6, 1, 9, 9, 4, 8, 2, 5, 3, 8, 2, 6, 9, 1, 3, 7, 4, 1, 8, 5, 2, 6, 7, 2, 4, 6, 2, 0, 6, 5, 4, 5, 4, 0, 8, 5, 6, 7, 7, 3, 0, 9, 8, 1, 7, 0, 5, 0, 8, 1, 4, 2, 5, 9, 4, 2, 4, 5, 1, 4, 5, 1, 4, 4, 4, 1, 5, 2, 6, 9, 2, 3, 9, 9, 0, 9, 8, 7, 8, 1, 3, 9, 9, 4, 1, 4, 8, 3, 2, 3, 8, 3, 4, 2, 7, 8, 8, 7, 9, 8, 8, 3, 0, 4, 9, 7, 8, 1, 1, 6, 4, 6, 5, 3, 7, 1, 5, 2, 1, 3, 2, 0, 9, 1, 3, 0, 4, 8, 5, 0, 0, 6, 7, 8, 8, 8, 3, 7, 0, 5, 3, 0, 5, 2, 8, 9, 7, 1, 5, 6, 5, 5, 4, 5, 6, 3, 1, 6, 2, 5, 2, 6, 0, 0, 3, 3, 2, 8, 0, 1, 5, 8, 0, 8, 8, 7, 9, 3, 3, 5, 5, 7, 2, 9, 7, 9, 2, 3, 1, 4, 5, 2, 8, 6, 8, 7, 4, 4, 0, 1, 5, 8, 4, 3, 3, 0, 7, 0, 3, 3, 4, 3, 3, 7, 3, 8, 6, 6, 6, 1, 2, 6, 2, 3, 9, 3, 7, 5, 3, 4, 9, 0, 9, 4, 9, 2, 3, 5, 8, 0, 1, 0, 2, 9, 4, 8, 8, 3, 8, 0, 1, 1, 9, 6, 5, 3, 3, 8, 4, 2, 4, 8, 9, 4, 1, 0, 0, 1, 6, 3, 3, 4, 0, 2, 7, 1, 0, 3, 5, 3, 4, 5, 6, 2, 7, 6, 7, 2, 8, 8, 5, 1, 6, 1, 0, 8, 7, 2, 8, 0, 8, 4, 5, 5, 6, 2, 5, 4, 9, 8, 5, 2, 7, 9, 9, 6, 3, 1, 7, 6, 5, 7, 1, 5, 8, 8, 1, 6, 0, 4, 9, 1, 3, 8, 3, 4, 1, 3, 0, 3, 0, 2, 3, 3, 2, 2, 0, 2, 9, 8, 5, 4, 7, 2, 1, 9, 7, 0, 5, 2, 5, 4, 7, 0, 1, 0, 0, 7, 0, 4, 8, 3, 3, 8, 3, 3, 2, 0, 2, 8, 1, 2, 6, 2, 2, 6, 2, 5, 8, 8, 3, 2, 8, 7, 0, 0, 4, 0, 7, 3, 9, 6, 2, 0, 2, 1, 6, 4, 7, 2, 3, 7, 1, 2, 2, 9, 1, 0, 9, 4, 6, 5, 2, 0, 2, 1, 4, 1, 4, 8, 6, 0, 7, 0, 9, 8, 0, 2, 7, 5, 0, 4, 2, 3, 4, 4, 9, 7, 6, 5, 1, 1, 2, 9, 2, 7, 8, 2, 7, 3, 9, 1, 1, 3, 0, 3, 1, 8, 9, 1, 5, 5, 3, 3, 7, 0, 2, 3, 5, 1, 0, 7, 6, 7, 2, 3, 1, 0, 7, 0, 4, 6, 9, 1, 4, 7, 5, 2, 2, 3, 0, 6, 1, 8, 5, 3, 5, 3, 6, 8, 7, 2, 7, 9, 1, 8, 3, 1, 9, 1, 4, 6, 3, 1, 6, 5, 4, 2, 5, 1, 2, 7, 1, 5, 1, 5, 2, 3, 3, 3, 5, 0, 2, 1, 5, 0, 2, 1, 5, 4, 7, 3, 3, 2, 5, 7, 2, 8, 7, 9, 1, 5, 2, 4, 8, 2, 3, 2, 7, 9, 6, 5, 8, 2, 1, 1, 9, 9, 0, 1, 9, 8, 9, 0, 4, 9, 8, 0, 4, 4, 6, 8, 4, 6, 0, 6, 7, 9, 6, 3, 7, 6, 2, 7, 4, 0, 5, 2, 8, 7, 7, 6, 5, 2, 6, 2, 9, 2, 2, 8, 2, 2, 2, 0, 8, 1, 9, 6, 0, 3, 9, 7, 8, 1, 5, 3, 1, 6, 2, 1, 2, 4, 5, 0, 8, 9, 8, 7, 6, 5, 5, 6, 2, 9, 0, 3, 4, 8, 7, 7, 0, 0, 4, 1, 6, 3, 6, 2, 4, 7, 7, 9, 1, 4, 5, 3, 5, 5, 4, 9, 0, 1, 7, 8, 7, 1, 2, 7, 3, 4, 9, 0, 4, 2, 5, 6, 8, 1, 0, 8, 2, 1, 8, 2, 5, 2, 2, 7, 8, 5, 0, 5, 3, 3, 4, 0, 4, 5, 2, 3, 9, 3, 9, 0, 3, 6, 6, 9, 5, 2, 4, 8, 7, 1, 3, 7, 8, 4, 4, 1, 7, 5, 6, 1, 3, 3, 4, 7, 6, 2, 5, 0, 7, 9, 2, 7, 7, 7, 6, 8, 5, 9, 3, 8, 9, 8, 9, 5, 6, 2, 3, 6, 7, 4, 6, 7, 1, 4, 1, 5, 5, 1, 7, 2, 2, 5, 0, 9, 4, 8, 1, 8, 1, 3, 2, 6, 6, 6, 7, 4, 6, 6, 8, 4, 2, 8, 8, 2, 9, 2, 8, 9, 7, 2, 9, 4, 3, 5, 0, 3, 6, 3, 0, 1, 2, 5, 2, 7, 4, 6, 7, 7, 6, 5, 1, 7, 5, 4, 2, 2, 8, 8, 5, 3, 1, 6, 0, 3, 2, 1, 3, 3, 8, 1, 3, 2, 3, 9, 5, 8, 1, 8, 2, 7, 9, 7, 5, 6, 8, 2, 3, 1, 3, 6, 2, 1, 8, 0, 4, 9, 7, 1, 0, 6, 0, 7, 5, 8, 6, 0, 2, 7, 0, 0, 3, 2, 9, 7, 1, 8, 3, 7, 7, 9, 2, 6, 7, 4, 0, 8, 9, 5, 4, 4, 7, 4, 9, 5, 5, 0, 0, 3, 3, 0, 2, 7, 1, 3, 1, 2, 8, 5, 0, 2, 2, 9, 4, 0, 9, 0, 6, 9, 0, 5, 6, 0, 1, 3, 4, 1, 8, 6, 5, 7, 8, 7, 2, 3, 6, 8, 2, 4, 1, 3, 6, 7, 8, 8, 0, 0, 4, 0, 6, 0, 1, 2, 3, 8, 2, 7, 0, 9, 5, 7, 3, 3, 7, 0, 5, 7, 4, 3, 1, 1, 5, 9, 3, 7, 7, 8, 5, 7, 9, 1, 9, 7, 7, 9, 4, 3, 1, 1, 7, 6, 7, 0, 9, 6, 3, 2, 0, 1, 9, 0, 7, 9, 1, 5, 9, 1, 1, 2, 3, 0, 0, 3, 9, 9, 7, 3, 9, 2, 0, 9, 7, 9, 9, 0, 6, 6, 4, 8, 0, 7, 8, 3, 3, 0, 7, 0, 8, 5, 3, 0, 6, 0, 9, 5, 7, 3, 4, 5, 1, 4, 0, 7, 1, 8, 3, 3, 5, 5, 0, 4, 1, 7, 3, 5, 0, 7, 1, 9, 4, 4, 4, 1, 2, 4, 5, 3, 7, 1, 0, 4, 8, 6, 0, 6, 9, 8, 3, 1, 3, 5, 7, 3, 9, 3, 6, 4, 9, 3, 1, 7, 3, 5, 9, 0, 3, 4, 7, 5, 2, 1, 2, 1, 5, 9, 6, 2, 6, 0, 9, 8, 8, 6, 6, 3, 5, 6, 6, 5, 0, 0, 8, 9, 5, 6, 3, 3, 9, 3, 1, 1, 1, 5, 2, 6, 0, 7, 7, 0, 0, 5, 2, 9, 5, 1, 5, 1, 5, 7, 0, 1, 9, 8, 4, 1, 2, 0, 7, 8, 1, 9, 9, 2, 7, 7, 0, 9, 2, 8, 7, 8, 3, 6, 7, 1, 3, 2, 2, 5, 3, 1, 3, 1, 9, 8, 9, 0, 0, 0, 1, 6, 8, 8, 6, 5, 0, 7, 0, 4, 8, 8, 8, 1, 5, 4, 3, 2, 5, 2, 5, 6, 6, 7, 3, 8, 6, 0, 0, 4, 0, 5, 2, 2, 0, 4, 9, 6, 1, 9, 3, 8, 9, 3, 4, 8, 7, 7, 5, 0, 6, 0, 7, 9, 9, 4, 1, 2, 9, 9, 1, 5, 2, 2, 8, 8, 6, 0, 0, 0, 3, 7, 2, 9, 6, 9, 2, 4, 7, 4, 7, 8, 4, 2, 7, 6, 3, 2, 9, 4, 2, 2, 4, 6, 1, 7, 4, 4, 5, 6, 4, 9, 6, 0, 2, 9, 8, 7, 1, 5, 5, 3, 8, 4, 2, 7, 0, 3, 3, 8, 1, 7, 3, 2, 0, 4, 4, 9, 8, 3, 8, 8, 2, 8, 0, 8, 2, 4, 4, 8, 3, 0, 8, 4, 4, 4, 8, 3, 5, 4, 1, 9, 0, 6, 3, 9, 8, 1, 2, 1, 0, 0, 0, 2, 1, 6, 5, 1, 4, 0, 3, 4, 7, 3, 6, 4, 6, 1, 7, 9, 9, 1, 1, 3, 3, 7, 9, 7, 7, 7, 9, 0, 0, 2, 2, 8, 1, 9, 1, 0, 2, 1, 0, 3, 4, 2, 5, 5, 4, 9, 8, 3, 1, 5, 4, 2, 5, 8, 7, 6, 6, 6, 9, 7, 7, 9, 3, 3, 4, 7, 1, 9, 8, 8, 7, 7, 1, 5, 2, 1, 0, 3, 8, 2, 1, 8, 4, 0, 3, 1, 2, 7, 4, 4, 2, 3, 7, 3, 0, 3, 1, 3, 7, 7, 9, 1, 2, 2, 4, 5, 1, 7, 6, 0, 2, 1, 9, 2, 6, 2, 4, 9, 9, 0, 9, 6, 3, 7, 3, 5, 5, 0, 8, 2, 1, 2, 2, 1, 5, 4, 2, 8, 9, 9, 6, 0, 7, 0, 3, 8, 3, 4, 8, 8, 4, 3, 4, 0, 1, 6, 3, 5, 8, 3, 4, 4, 2, 4, 8, 0, 9, 9, 2, 6, 8, 2, 3, 9, 6, 3, 6, 9, 0, 6, 6, 0, 2, 6, 5, 4, 7, 4, 6, 0, 3, 4, 5, 2, 5, 7, 8, 4, 0, 6, 8, 3, 2, 5, 9, 4, 3, 2, 3, 2, 7, 4, 7, 7, 3, 2, 7, 8, 0, 4, 0, 4, 1, 2, 5, 3, 5, 1, 2, 2, 8, 8, 3, 9, 0, 5, 3, 1, 8, 9, 6, 0, 3, 4, 6, 4, 5, 7, 6, 1, 0, 0, 2, 9, 8, 9, 7, 9, 3, 8, 7, 7, 5, 9, 1, 9, 5, 8, 4, 6, 1, 3, 0, 6, 8, 1, 4, 1, 2, 7, 1, 9, 9, 0, 0, 5, 1, 0, 3, 0, 2, 9, 0, 4, 9, 3, 1, 1, 1, 9, 7, 7, 5, 2, 4, 2, 9, 0, 7, 4, 0, 8, 5, 7, 3, 1, 4, 0, 4, 1, 7, 1, 3, 4, 9, 7, 4, 3, 2, 1, 0, 2, 1, 1, 2, 5, 7, 1, 9, 5, 3, 4, 2, 2, 3, 6, 7, 3, 9, 5, 8, 1, 8, 9, 4, 4, 2, 5, 1, 2, 0, 3, 3, 0, 2, 8, 0, 9, 3, 9, 5, 8, 9, 5, 8, 0, 3, 7, 7, 9, 5, 0, 7, 7, 7, 7, 9, 6, 7, 0, 0, 9, 5, 9, 3, 5, 7, 7, 6, 5, 8, 6, 6, 3, 4, 1, 7, 7, 9, 4, 5, 9, 0, 4, 6, 1, 6, 4, 1, 5, 9, 5, 2, 1, 5, 4, 1, 6, 3, 4, 4, 3, 7, 3, 7, 9, 0, 5, 3, 9, 0, 6, 2, 6, 7, 8, 8, 3, 0, 9, 8, 2, 9, 4, 3, 1, 8, 4, 7, 1, 7, 5, 1, 7, 9, 5, 5, 8, 5, 5, 3, 4, 9, 6, 4, 3, 4, 6, 8, 0, 8, 3, 1, 9, 8, 9, 3, 3, 0, 2, 2, 6, 5, 6, 3, 8, 8, 0, 1, 5, 8, 4, 3, 6, 9, 5, 8, 7, 1, 6, 3, 2, 5, 7, 9, 0, 7, 4, 4, 7, 2, 0, 8, 8, 2, 1, 5, 6, 9, 6, 5, 4, 3, 3, 2, 6, 7, 5, 6, 1, 7, 5, 9, 7, 0, 8, 4, 0, 9, 5, 9, 8, 9, 9, 9, 1, 4, 3, 2, 0, 7, 8, 6, 8, 2, 5, 0, 6, 6, 0, 6, 9, 6, 1, 0, 3, 7, 2, 7, 7, 1, 9, 6, 9, 3, 1, 9, 3, 1, 5, 6, 0, 7, 4, 5, 4, 8, 6, 8, 0, 7, 0, 3, 8, 5, 7, 7, 5, 0, 8, 8, 2, 5, 0, 0, 5, 2, 2, 5, 0, 1, 6, 2, 4, 6, 6, 3, 8, 2, 4, 8, 4, 8, 6, 0, 6, 8, 9, 4, 1, 8, 6, 7, 9, 8, 3, 1, 7, 1, 8, 9, 0, 0, 8, 5, 9, 1, 0, 1, 6, 1, 4, 3, 9, 2, 7, 5, 9, 0, 7, 5, 8, 4, 2, 2, 0, 5, 0, 7, 8, 2, 9, 0, 6, 3, 7, 0, 8, 8, 7, 0, 8, 7, 3, 3, 9, 1, 0, 4, 7, 7, 8, 4, 0, 2, 5, 4, 8, 0, 8, 0, 2, 1, 7, 0, 9, 6, 4, 8, 7, 1, 0, 1, 7, 1, 4, 6, 8, 1, 3, 2, 8, 9, 9, 0, 6, 4, 3, 1, 0, 0, 4, 4, 2, 5, 3, 6, 2, 8, 0, 7, 9, 2, 4, 6, 7, 9, 2, 0, 5, 6, 3, 7, 9, 7, 1, 8, 2, 3, 7, 8, 7, 7, 5, 2, 5, 9, 3, 6, 5, 8, 1, 5, 5, 9, 1, 8, 5, 0, 4, 6, 2, 2, 9, 7, 1, 1, 9, 3, 2, 9, 5, 4, 2, 2, 9, 7, 0, 2, 8, 6, 0, 9, 2, 0, 8, 4, 5, 7, 8, 7, 9, 8, 0, 9, 9, 8, 1, 8, 4, 7, 3, 4, 5, 4, 8, 3, 5, 0, 3, 9, 6, 0, 7, 9, 7, 4, 5, 1, 2, 2, 6, 7, 5, 3, 0, 8, 5, 2, 0, 5, 4, 7, 2, 2, 3, 9, 2, 5, 6, 9, 0, 4, 8, 3, 5, 9, 4, 3, 2, 7, 4, 1, 4, 0, 1, 9, 6, 3, 2, 8, 1, 9, 2, 1, 2, 9, 7, 6, 3, 3, 8, 3, 2, 9, 9, 8, 4, 9, 3, 6, 1, 1, 3, 9, 6, 7, 8, 1, 5, 9, 5, 8, 6, 4, 0, 8, 0, 5, 4, 1, 3, 7, 8, 0, 8, 9, 4, 4, 6, 9, 6, 9, 6, 2, 7, 1, 9, 0, 1, 9, 0, 0, 0, 9, 1, 7, 6, 3, 5, 8, 6, 6, 8, 4, 8, 4, 3, 6, 3, 8, 3, 2, 8, 8, 7, 5, 8, 0, 3, 8, 5, 9, 0, 8, 7, 9, 0, 1, 5, 7, 9, 5, 0, 0, 4, 6, 1, 9, 5, 7, 0, 1, 3, 8, 4, 5, 1, 5, 9, 7, 8, 5, 8, 8, 6, 0, 4, 5, 2, 9, 9, 0, 6, 1, 3, 2, 3, 6, 4, 2, 5, 4, 2, 1, 8, 1, 5, 9, 0, 8, 0, 7, 0, 6, 0, 3, 6, 9, 4, 8, 1, 1, 0, 1, 2, 2, 8, 9, 0, 5, 5, 6, 4, 8, 7, 1, 4, 5, 8, 8, 7, 2, 2, 0, 2, 4, 6, 4, 3, 8, 4, 5, 2, 6, 8, 3, 1, 7, 7, 8, 2, 5, 6, 5, 1, 8, 6, 0, 0, 5, 3, 3, 3, 5, 3, 5, 7, 2, 1, 1, 3, 1, 5, 9, 5, 2, 1, 3, 3, 7, 1, 3, 8, 3, 8, 7, 4, 5, 1, 2, 7, 7, 6, 2, 6, 8, 1, 1, 2, 7, 2, 4, 2, 3, 7, 7, 3, 0, 7, 7, 6, 0, 2, 1, 4, 5, 8, 3, 8, 5, 5, 2, 0, 0, 2, 9, 6, 6, 5, 1, 8, 7, 0, 1, 8, 6, 2, 1, 7, 4, 7, 9, 6, 1, 1, 6, 6, 2, 5, 3, 4, 5, 8, 8, 0, 8, 0, 3, 2, 4, 3, 1, 5, 2, 0, 6, 1, 0, 0, 3, 7, 7, 4, 2, 0, 6, 6, 5, 0, 4, 7, 6, 0, 0, 9, 5, 3, 4, 0, 4, 5, 1, 4, 8, 3, 3, 8, 7, 8, 4, 3, 3, 2, 1, 0, 1, 9, 6, 5, 9, 6, 7, 6, 1, 0, 3, 6, 0, 3, 7, 4, 0, 0, 0, 8, 6, 9, 8, 2, 1, 4, 8, 9, 8, 2, 5, 2, 5, 7, 0, 3, 3, 0, 4, 5, 0, 1, 3, 6, 7, 3, 7, 7, 8, 3, 0, 1, 7, 2, 0, 5, 7, 2, 0, 2, 1, 4, 0, 3, 5, 5, 2, 9, 7, 0, 9, 7, 2, 5, 6, 5, 2, 4, 7, 0, 5, 2, 1, 9, 0, 5, 4, 5, 8, 7, 1, 5, 6, 6, 2, 8, 4, 7, 4, 5, 1, 3, 6, 2, 1, 3, 3, 2, 0, 5, 4, 9, 1, 8, 5, 0, 2, 4, 8, 3, 9, 3, 3, 5, 6, 2, 5, 8, 5, 1, 7, 2, 7, 1, 7, 1, 9, 4, 5, 1, 2, 4, 9, 0, 1, 2, 8, 7, 6, 1, 2, 0, 8, 9, 1, 7, 0, 1, 2, 1, 3, 6, 7, 8, 8, 9, 0, 1, 8, 5, 6, 9, 9, 2, 4, 4, 5, 7, 7, 9, 9, 7, 7, 1, 9, 0, 7, 6, 1, 5, 5, 8, 5, 7, 5, 2, 5, 5, 5, 1, 5, 9, 4, 8, 5, 6, 3, 2, 0, 6, 7, 4, 2, 1, 8, 8, 8, 1, 7, 9, 2, 1, 4, 6, 6, 8, 2, 3, 7, 5, 0, 5, 1, 5, 5, 7, 2, 6, 1, 0, 9, 6, 2, 2, 6, 4, 3, 1, 7, 9, 4, 6, 4, 2, 7, 1, 1, 2, 7, 4, 6, 8, 7, 2, 2, 6, 0, 7, 5, 8, 0, 2, 2, 5, 8, 6, 0, 8, 1, 6, 9, 2, 1, 4, 3, 6, 7, 2, 8, 2, 6, 0, 1, 1, 7, 5, 0, 2, 9, 9, 0, 9, 8, 7, 6, 6, 2, 1, 1, 1, 8, 1, 4, 8, 9, 7, 6, 9, 8, 0, 1, 8, 2, 0, 6, 8, 3, 8, 5, 5, 8, 7, 8, 2, 8, 6, 5, 1, 5, 2, 3, 4, 8, 3, 6, 1, 8, 2, 7, 4, 7, 8, 6, 8, 6, 4, 3, 6, 2, 1, 4, 1, 5, 3, 4, 2, 5, 2, 9, 3, 7, 9, 2, 2, 4, 2, 0, 2, 7, 6, 1, 4, 7, 5, 8, 8, 2, 3, 3, 4, 8, 5, 0, 3, 5, 0, 3, 1, 9, 5, 5, 6, 7, 9, 9, 6, 9, 2, 0, 3, 6, 2, 1, 9, 8, 1, 5, 4, 3, 2, 2, 5, 7, 3, 4, 5, 9, 2, 7, 1, 5, 0, 4, 3, 0, 0, 9, 1, 2, 8, 6, 8, 1, 1, 7, 5, 9, 8, 2, 3, 1, 4, 9, 7, 2, 6, 8, 2, 5, 1, 1, 0, 2, 1, 6, 2, 3, 7, 1, 5, 7, 6, 7, 6, 0, 2, 4, 3, 6, 9, 9, 7, 7, 1, 0, 6, 0, 2, 9, 0, 8, 3, 5, 5, 7, 0, 0, 9, 5, 6, 7, 4, 8, 5, 4, 3, 1, 9, 8, 6, 1, 7, 8, 8, 4, 9, 2, 8, 6, 1, 0, 9, 2, 8, 4, 3, 4, 2, 8, 6, 2, 1, 6, 3, 7, 8, 9, 7, 5, 1, 7, 9, 2, 2, 1, 4, 2, 8, 2, 7, 7, 9, 0, 7, 8, 0, 4, 7, 0, 7, 0, 6, 1, 0, 2, 1, 9, 1, 4, 0, 0, 5, 0, 1, 6, 8, 9, 4, 2, 1, 2, 2, 6, 9, 9, 5, 7, 0, 5, 7, 0, 0, 4, 8, 3, 2, 0, 1, 1, 0, 4, 5, 2, 4, 9, 9, 8, 8, 0, 7, 8, 8, 8, 5, 1, 3, 6, 5, 3, 6, 0, 4, 5, 2, 2, 1, 6, 6, 2, 7, 9, 2, 0, 0, 2, 1, 7, 5, 5, 6, 6, 6, 0, 6, 0, 1, 4, 7, 5, 0, 9, 0, 7, 1, 0, 5, 2, 4, 7, 7, 0, 5, 9, 3, 1, 0, 5, 8, 7, 8, 1, 1, 5, 5, 5, 7, 7, 9, 8, 8, 2, 4, 9, 6, 7, 3, 6, 7, 7, 3, 5, 4, 3, 0, 4, 8, 0, 0, 8, 2, 9, 7, 2, 8, 1, 4, 2, 2, 3, 8, 3, 8, 5, 2, 4, 9, 1, 7, 5, 9, 4, 5, 5, 1, 4, 1, 2, 0, 2, 4, 2, 8, 7, 4, 7, 1, 2, 7, 3, 3, 5, 3, 8, 7, 9, 8, 8, 1, 5, 5, 2, 3, 4, 7, 9, 6, 6, 4, 3, 3, 9, 2, 6, 7, 1, 6, 4, 8, 1, 2, 9, 0, 5, 0, 2, 2, 3, 1, 0, 5, 7, 5, 9, 8, 3, 8, 4, 3, 9, 1, 0, 1, 7, 2, 1, 7, 4, 4, 8, 2, 8, 7, 7, 0, 0, 0, 8, 4, 2, 2]\n"
     ]
    }
   ],
   "source": [
    "evalaute_test_file()"
   ]
  }
 ],
 "metadata": {
  "kernelspec": {
   "display_name": "Python 3",
   "language": "python",
   "name": "python3"
  },
  "language_info": {
   "codemirror_mode": {
    "name": "ipython",
    "version": 3
   },
   "file_extension": ".py",
   "mimetype": "text/x-python",
   "name": "python",
   "nbconvert_exporter": "python",
   "pygments_lexer": "ipython3",
   "version": "3.6.7"
  }
 },
 "nbformat": 4,
 "nbformat_minor": 2
}
